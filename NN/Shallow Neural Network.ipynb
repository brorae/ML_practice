{
 "cells": [
  {
   "cell_type": "code",
   "execution_count": 1,
   "id": "c5935458",
   "metadata": {},
   "outputs": [],
   "source": [
    "import numpy as np\n",
    "from matplotlib import pyplot as plt"
   ]
  },
  {
   "cell_type": "markdown",
   "id": "3225a345",
   "metadata": {},
   "source": [
    "# Data preparation"
   ]
  },
  {
   "cell_type": "code",
   "execution_count": 2,
   "id": "0fb1d4e4",
   "metadata": {},
   "outputs": [],
   "source": [
    "x_seeds = np.array([(0,0),(1,0),(0,1),(1,1)], dtype = float)\n",
    "y_seeds = np.array([0,1,1,0])"
   ]
  },
  {
   "cell_type": "code",
   "execution_count": 3,
   "id": "5c0cae4c",
   "metadata": {},
   "outputs": [],
   "source": [
    "N = 1000\n",
    "idxs = np.random.randint(0,4,N)"
   ]
  },
  {
   "cell_type": "code",
   "execution_count": 4,
   "id": "53de7dae",
   "metadata": {},
   "outputs": [],
   "source": [
    "X = x_seeds[idxs]\n",
    "Y = y_seeds[idxs]"
   ]
  },
  {
   "cell_type": "code",
   "execution_count": 5,
   "id": "003b7a5f",
   "metadata": {},
   "outputs": [],
   "source": [
    "X += np.random.normal(scale=0.25, size=X.shape)"
   ]
  },
  {
   "cell_type": "markdown",
   "id": "cdddd23d",
   "metadata": {},
   "source": [
    "# Data plotting"
   ]
  },
  {
   "cell_type": "code",
   "execution_count": 6,
   "id": "73126cf7",
   "metadata": {},
   "outputs": [],
   "source": [
    "idx_1 = np.where(Y==1)\n",
    "idx_0 = np.where(Y==0)"
   ]
  },
  {
   "cell_type": "code",
   "execution_count": 7,
   "id": "bc5819da",
   "metadata": {},
   "outputs": [],
   "source": [
    "X_0 = X[idx_0]\n",
    "Y_0 = Y[idx_0]"
   ]
  },
  {
   "cell_type": "code",
   "execution_count": 8,
   "id": "b129fe40",
   "metadata": {},
   "outputs": [],
   "source": [
    "X_1 = X[idx_1]\n",
    "Y_1 = Y[idx_1]"
   ]
  },
  {
   "cell_type": "code",
   "execution_count": 9,
   "id": "8d66b8ca",
   "metadata": {},
   "outputs": [
    {
     "data": {
      "image/png": "[encoded data removed]",
      "text/plain": [
       "<Figure size 432x288 with 1 Axes>"
      ]
     },
     "metadata": {
      "needs_background": "light"
     },
     "output_type": "display_data"
    }
   ],
   "source": [
    "plt.plot(X_0[:,0],X_0[:,1],\"r^\")\n",
    "plt.plot(X_1[:,0],X_1[:,1],\"bx\")\n",
    "plt.show()"
   ]
  },
  {
   "cell_type": "markdown",
   "id": "b55c5347",
   "metadata": {},
   "source": [
    "# Model"
   ]
  },
  {
   "cell_type": "code",
   "execution_count": 10,
   "id": "0f7126ae",
   "metadata": {},
   "outputs": [],
   "source": [
    "class shallow_neural_network():\n",
    "    def __init__(self, num_input_features, num_hiddens):\n",
    "        self.num_input_features = num_input_features\n",
    "        self.num_hiddens = num_hiddens\n",
    "        \n",
    "        self.W1 = np.random.normal(size = (num_hiddens, num_input_features)) #(3,2)\n",
    "        self.b1 = np.random.normal(size = num_hiddens) #(3,)\n",
    "        self.W2 = np.random.normal(size = num_hiddens) #(3,)\n",
    "        self.b2 = np.random.normal(size = 1) #(1,)\n",
    "        \n",
    "    def sigmoid(self,z):\n",
    "        return 1/(1 + np.exp(-z))\n",
    "    \n",
    "    def predict(self,x):\n",
    "        z1 = np.matmul(self.W1,x) + self.b1 #(3,)\n",
    "        a1 = np.tanh(z1) #(3,)\n",
    "        z2 = np.matmul(self.W2,a1) + self.b2 #(1,)\n",
    "        a2 = self.sigmoid(z2) #(1,)\n",
    "        return a2, (z1,a1,z2,a2)\n",
    "        "
   ]
  },
  {
   "cell_type": "code",
   "execution_count": 11,
   "id": "68906616",
   "metadata": {
    "scrolled": true
   },
   "outputs": [
    {
     "name": "stdout",
     "output_type": "stream",
     "text": [
      "[[ 0.03678797  0.89083243]\n",
      " [ 0.25005505  0.69259748]\n",
      " [-0.74233926 -0.73363893]]\n",
      "[ 1.10592816 -0.07968899 -0.17040038]\n"
     ]
    }
   ],
   "source": [
    "model = shallow_neural_network(2,3)\n",
    "print(model.W1)\n",
    "print(model.W2)"
   ]
  },
  {
   "cell_type": "markdown",
   "id": "975a6cc0",
   "metadata": {},
   "source": [
    "# Train"
   ]
  },
  {
   "cell_type": "code",
   "execution_count": 12,
   "id": "380fe864",
   "metadata": {},
   "outputs": [],
   "source": [
    "def train(X, Y, model, lr = 0.1):\n",
    "    dW1 = np.zeros_like(model.W1)\n",
    "    db1 = np.zeros_like(model.b1)\n",
    "    dW2 = np.zeros_like(model.W2)\n",
    "    db2 = np.zeros_like(model.b2)\n",
    "    m = len(X)\n",
    "    cost = 0.0\n",
    "    for x,y in zip(X,Y):\n",
    "        a2, (z1,a1,z2,_) = model.predict(x)\n",
    "        if y == 1:\n",
    "            cost -= np.log(a2)\n",
    "        else:\n",
    "            cost -= np.log(1-a2)\n",
    "            \n",
    "        diff = a2-y\n",
    "        \n",
    "        db2 += diff\n",
    "        \n",
    "#         for i in range(model.num_hiddens):\n",
    "#             dW2[i] += a1[i]*diff\n",
    "        dW2 += a1*diff\n",
    "            \n",
    "#         for i in range(model.num_hiddens):\n",
    "#             db1[i] += (1-a1[i]**2)*model.W2[i]*diff\n",
    "        db1 += (1-a1**2)*model.W2*diff\n",
    "            \n",
    "#         for i in range(model.num_hiddens):\n",
    "#             for j in range(model.num_input_features):\n",
    "#                 dW1[i,j]  += x[j]*(1-a1[i]**2)*model.W2[i]*diff    \n",
    "                \n",
    "                \n",
    "        x = x.reshape(1,2)\n",
    "        tmp = (1-a1**2)*model.W2*diff\n",
    "        tmp = tmp.reshape(3,1)\n",
    "        dW1 += tmp * x\n",
    "       \n",
    "                \n",
    "    cost /= m\n",
    "    model.W1 -= lr * dW1/m\n",
    "    model.b1 -= lr * db1/m\n",
    "    model.W2 -= lr * dW2/m\n",
    "    model.b2 -= lr * db2/m\n",
    "    \n",
    "    return cost"
   ]
  },
  {
   "cell_type": "code",
   "execution_count": 13,
   "id": "fecac977",
   "metadata": {},
   "outputs": [
    {
     "name": "stdout",
     "output_type": "stream",
     "text": [
      "0 [0.7137936]\n",
      "10 [0.64870551]\n",
      "20 [0.6182854]\n",
      "30 [0.58038644]\n",
      "40 [0.53287642]\n",
      "50 [0.48062055]\n",
      "60 [0.43252621]\n",
      "70 [0.39417578]\n",
      "80 [0.3660749]\n",
      "90 [0.34624089]\n",
      "100 [0.33238361]\n",
      "110 [0.32267039]\n",
      "120 [0.31579871]\n",
      "130 [0.31088081]\n",
      "140 [0.30731805]\n",
      "150 [0.30470559]\n",
      "160 [0.30276724]\n",
      "170 [0.30131246]\n",
      "180 [0.30020829]\n",
      "190 [0.29936092]\n",
      "200 [0.29870341]\n",
      "210 [0.29818757]\n",
      "220 [0.2977784]\n",
      "230 [0.29745021]\n",
      "240 [0.29718408]\n",
      "250 [0.29696591]\n",
      "260 [0.29678514]\n",
      "270 [0.29663379]\n",
      "280 [0.29650583]\n",
      "290 [0.2963966]\n",
      "300 [0.29630254]\n",
      "310 [0.29622087]\n",
      "320 [0.29614941]\n",
      "330 [0.29608643]\n",
      "340 [0.29603056]\n",
      "350 [0.2959807]\n",
      "360 [0.29593595]\n",
      "370 [0.29589557]\n",
      "380 [0.29585897]\n",
      "390 [0.29582562]\n",
      "400 [0.29579512]\n",
      "410 [0.29576711]\n",
      "420 [0.29574128]\n",
      "430 [0.29571737]\n",
      "440 [0.29569517]\n",
      "450 [0.29567447]\n",
      "460 [0.29565512]\n",
      "470 [0.29563697]\n",
      "480 [0.29561989]\n",
      "490 [0.29560378]\n"
     ]
    }
   ],
   "source": [
    "for epoch in range(500):\n",
    "    cost = train(X,Y,model,1.0)\n",
    "    if epoch % 10 == 0:\n",
    "        print(epoch,cost)"
   ]
  },
  {
   "cell_type": "markdown",
   "id": "f814df34",
   "metadata": {},
   "source": [
    "# Test"
   ]
  },
  {
   "cell_type": "code",
   "execution_count": 14,
   "id": "43bc5604",
   "metadata": {},
   "outputs": [
    {
     "name": "stdout",
     "output_type": "stream",
     "text": [
      "0.05121310857900092\n",
      "0.9487995188491399\n",
      "0.9532186469973596\n",
      "0.030190566068640064\n"
     ]
    }
   ],
   "source": [
    "print(model.predict((1,1))[0].item())\n",
    "print(model.predict((1,0))[0].item())\n",
    "print(model.predict((0,1))[0].item())\n",
    "print(model.predict((0,0))[0].item())"
   ]
  }
 ],
 "metadata": {
  "kernelspec": {
   "display_name": "Python 3",
   "language": "python",
   "name": "python3"
  },
  "language_info": {
   "codemirror_mode": {
    "name": "ipython",
    "version": 3
   },
   "file_extension": ".py",
   "mimetype": "text/x-python",
   "name": "python",
   "nbconvert_exporter": "python",
   "pygments_lexer": "ipython3",
   "version": "3.8.8"
  }
 },
 "nbformat": 4,
 "nbformat_minor": 5
}
