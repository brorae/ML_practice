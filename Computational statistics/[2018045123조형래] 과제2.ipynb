{
 "cells": [
  {
   "cell_type": "code",
   "execution_count": 1,
   "id": "8bba2cae",
   "metadata": {},
   "outputs": [],
   "source": [
    "import numpy as np\n",
    "import pandas as pd\n",
    "from statsmodels.stats.proportion import proportions_ztest"
   ]
  },
  {
   "cell_type": "markdown",
   "id": "a84bb44c",
   "metadata": {},
   "source": [
    "# 과제 2 (1)"
   ]
  },
  {
   "cell_type": "code",
   "execution_count": 2,
   "id": "dd4472b2",
   "metadata": {},
   "outputs": [
    {
     "data": {
      "text/html": [
       "<div>\n",
       "<style scoped>\n",
       "    .dataframe tbody tr th:only-of-type {\n",
       "        vertical-align: middle;\n",
       "    }\n",
       "\n",
       "    .dataframe tbody tr th {\n",
       "        vertical-align: top;\n",
       "    }\n",
       "\n",
       "    .dataframe thead th {\n",
       "        text-align: right;\n",
       "    }\n",
       "</style>\n",
       "<table border=\"1\" class=\"dataframe\">\n",
       "  <thead>\n",
       "    <tr style=\"text-align: right;\">\n",
       "      <th>handed</th>\n",
       "      <th>L</th>\n",
       "      <th>R</th>\n",
       "      <th>Total</th>\n",
       "    </tr>\n",
       "    <tr>\n",
       "      <th>class</th>\n",
       "      <th></th>\n",
       "      <th></th>\n",
       "      <th></th>\n",
       "    </tr>\n",
       "  </thead>\n",
       "  <tbody>\n",
       "    <tr>\n",
       "      <th>A</th>\n",
       "      <td>0.09</td>\n",
       "      <td>0.43</td>\n",
       "      <td>0.52</td>\n",
       "    </tr>\n",
       "    <tr>\n",
       "      <th>B</th>\n",
       "      <td>0.04</td>\n",
       "      <td>0.44</td>\n",
       "      <td>0.48</td>\n",
       "    </tr>\n",
       "    <tr>\n",
       "      <th>Total</th>\n",
       "      <td>0.13</td>\n",
       "      <td>0.87</td>\n",
       "      <td>1.00</td>\n",
       "    </tr>\n",
       "  </tbody>\n",
       "</table>\n",
       "</div>"
      ],
      "text/plain": [
       "handed     L     R  Total\n",
       "class                    \n",
       "A       0.09  0.43   0.52\n",
       "B       0.04  0.44   0.48\n",
       "Total   0.13  0.87   1.00"
      ]
     },
     "execution_count": 2,
     "metadata": {},
     "output_type": "execute_result"
    }
   ],
   "source": [
    "data1 = pd.read_csv(\"onep.csv\")\n",
    "\n",
    "table = pd.crosstab(index=data1['class'], columns=data1['handed'], margins=True, margins_name='Total', normalize='all')\n",
    "table"
   ]
  },
  {
   "cell_type": "markdown",
   "id": "036eace4",
   "metadata": {},
   "source": [
    "# 과제 2 (2)"
   ]
  },
  {
   "cell_type": "code",
   "execution_count": 3,
   "id": "c9ed9509",
   "metadata": {},
   "outputs": [
    {
     "name": "stdout",
     "output_type": "stream",
     "text": [
      "Cohens's d:  0.2667\n",
      "small effect\n"
     ]
    }
   ],
   "source": [
    "pop_0 = 0.9\n",
    "\n",
    "n = 100\n",
    "yes = 82\n",
    "p_hat = yes/n\n",
    "\n",
    "d = (abs(p_hat-pop_0))/np.sqrt(pop_0*(1-pop_0))\n",
    "\n",
    "Zstat, pval = proportions_ztest(count=yes, nobs=n, value=pop_0)\n",
    "\n",
    "print(\"Cohens's d: \", round(d, 4))\n",
    "if (d >= 0.2) : print(\"small effect\")\n",
    "elif (d >= 0.5) : print(\"medium effect\")\n",
    "elif (d >= 0.8) : print(\"large effect\")\n",
    "elif (d >= 1.3) : print(\"huge effect\")"
   ]
  }
 ],
 "metadata": {
  "kernelspec": {
   "display_name": "Python 3 (ipykernel)",
   "language": "python",
   "name": "python3"
  },
  "language_info": {
   "codemirror_mode": {
    "name": "ipython",
    "version": 3
   },
   "file_extension": ".py",
   "mimetype": "text/x-python",
   "name": "python",
   "nbconvert_exporter": "python",
   "pygments_lexer": "ipython3",
   "version": "3.8.5"
  }
 },
 "nbformat": 4,
 "nbformat_minor": 5
}
