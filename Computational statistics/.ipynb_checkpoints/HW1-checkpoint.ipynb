{
 "cells": [
  {
   "cell_type": "markdown",
   "id": "6d1f887d",
   "metadata": {},
   "source": [
    "# Homework 1                                                                                             \n",
    "### (By October 10)"
   ]
  },
  {
   "cell_type": "code",
   "execution_count": 2,
   "id": "bc1e5cbd",
   "metadata": {},
   "outputs": [],
   "source": [
    "import numpy as np\n",
    "from scipy import stats\n",
    "from matplotlib import pyplot as plt"
   ]
  },
  {
   "cell_type": "markdown",
   "id": "e439cdd1",
   "metadata": {},
   "source": [
    "### 1. (dice game) 1부터 6까지의 수 중에 하나의 수를 임의로 선택하는 시행을 20번 시행하여 그 결과를 리스트 형태로 만들어 dice 라는 이름으로 저장하는 코드를 작성하시오 . (hint: np.random.~)"
   ]
  },
  {
   "cell_type": "code",
   "execution_count": 3,
   "id": "ae759f57",
   "metadata": {},
   "outputs": [
    {
     "name": "stdout",
     "output_type": "stream",
     "text": [
      "6\n",
      "1\n",
      "4\n",
      "2\n",
      "3\n",
      "4\n",
      "3\n",
      "2\n",
      "2\n",
      "1\n",
      "5\n",
      "5\n",
      "3\n",
      "2\n",
      "3\n",
      "3\n",
      "4\n",
      "6\n",
      "5\n",
      "4\n"
     ]
    }
   ],
   "source": [
    "dice = []\n",
    "\n",
    "for i in range(20):\n",
    "    num = np.random.randint(1,7)\n",
    "    print(num)"
   ]
  },
  {
   "cell_type": "markdown",
   "id": "f2c2fc65",
   "metadata": {},
   "source": [
    "### 2. 위에서 얻은 dice의 결과값을 기준으로  각 수 (1부터 6까지) 에 해당하는 빈도를 구한 후, 해당 빈도를 기준으로 확률값을 구하여, p_dice 로 저장하는 코드를 작성하시오."
   ]
  },
  {
   "cell_type": "code",
   "execution_count": null,
   "id": "878fb5cb",
   "metadata": {},
   "outputs": [],
   "source": []
  },
  {
   "cell_type": "markdown",
   "id": "7a0c6889",
   "metadata": {},
   "source": [
    "### 3. 위 2 번 결과를 기준으로 세로 막대 그래프를 작성해 보시오."
   ]
  },
  {
   "cell_type": "code",
   "execution_count": null,
   "id": "892f33b2",
   "metadata": {},
   "outputs": [],
   "source": []
  },
  {
   "cell_type": "markdown",
   "id": "21a5dea8",
   "metadata": {},
   "source": [
    "### 4. 위 2번 결과를 기준으로 기대값과 분산을 구하는 코드를 작성해 보시오."
   ]
  },
  {
   "cell_type": "code",
   "execution_count": null,
   "id": "b6946989",
   "metadata": {},
   "outputs": [],
   "source": []
  },
  {
   "cell_type": "markdown",
   "id": "b696e3e5",
   "metadata": {},
   "source": [
    "### 5. 만약, 위의 dice game 을 20번 대신 200번 수행한다면, 현재의 결과가 바뀔 수 있는 지 아니면, 유지될 수 있는 지를 정당화 해 보시오. (기술하여도 되고, 코드를 통해 본인의 의견을 주장해도 됩니다.)"
   ]
  },
  {
   "cell_type": "code",
   "execution_count": null,
   "id": "d8b87ef3",
   "metadata": {},
   "outputs": [],
   "source": []
  }
 ],
 "metadata": {
  "kernelspec": {
   "display_name": "Python 3 (ipykernel)",
   "language": "python",
   "name": "python3"
  },
  "language_info": {
   "codemirror_mode": {
    "name": "ipython",
    "version": 3
   },
   "file_extension": ".py",
   "mimetype": "text/x-python",
   "name": "python",
   "nbconvert_exporter": "python",
   "pygments_lexer": "ipython3",
   "version": "3.9.6"
  }
 },
 "nbformat": 4,
 "nbformat_minor": 5
}
