{
 "cells": [
  {
   "cell_type": "code",
   "execution_count": 4,
   "id": "aac2486b",
   "metadata": {},
   "outputs": [],
   "source": [
    "import numpy as np\n",
    "import pandas as pd\n",
    "from scipy import stats\n",
    "from matplotlib import pyplot as plt"
   ]
  },
  {
   "cell_type": "code",
   "execution_count": 5,
   "id": "c3cd4dea",
   "metadata": {},
   "outputs": [],
   "source": [
    "group_0 = [9,8,7,8,8,9,8]\n",
    "group_50 = [7,6,6,7,8,7,6]\n",
    "group_100 = [4,3,2,3,4,3,2]\n",
    "group_all = group_0 + group_50 + group_100"
   ]
  },
  {
   "cell_type": "code",
   "execution_count": 6,
   "id": "3c5c9b49",
   "metadata": {},
   "outputs": [
    {
     "name": "stdout",
     "output_type": "stream",
     "text": [
      "H0: These samples are from the same population\n",
      "H1: Not all samples are from the smae population\n"
     ]
    }
   ],
   "source": [
    "print(\"H0: These samples are from the same population\")\n",
    "print(\"H1: Not all samples are from the smae population\")"
   ]
  },
  {
   "cell_type": "code",
   "execution_count": 18,
   "id": "ec0ff8ec",
   "metadata": {},
   "outputs": [
    {
     "name": "stdout",
     "output_type": "stream",
     "text": [
      "sample 0 vs sample 1: test statistic is 3.6927\n",
      "p-value is 0.0030762957686351518\n",
      "Two samples are not from the same poplulation\n",
      "\n",
      "\n",
      "sample 0 vs sample 2: test statistic is 12.7279\n",
      "p-value is 2.5023532138325214e-08\n",
      "Two samples are not from the same poplulation\n",
      "\n",
      "\n",
      "sample 1 vs sample 2: test statistic is 8.8318\n",
      "p-value is 1.3469548633495619e-06\n",
      "Two samples are not from the same poplulation\n",
      "\n",
      "\n"
     ]
    }
   ],
   "source": [
    "alpha = 0.05\n",
    "n_group = 3\n",
    "alpha_bon = alpha/n_group\n",
    "for i, value1 in enumerate([group_0,group_50,group_100]):\n",
    "    for j,value2 in enumerate([group_0,group_50,group_100]):\n",
    "        if i >= j :\n",
    "            continue\n",
    "        t_stat, pval = stats.ttest_ind(value1,value2)\n",
    "        \n",
    "        print('sample {} vs sample {}: test statistic is {}'.format(i,j,round(t_stat,4)))\n",
    "        print('p-value is {}'.format(pval))\n",
    "        \n",
    "        if pval < alpha_bon:\n",
    "            print(\"Two samples are not from the same poplulation\")\n",
    "        else:\n",
    "            print(\"Two samples are from the same population\")\n",
    "        print(\"\\n\")"
   ]
  },
  {
   "cell_type": "code",
   "execution_count": 12,
   "id": "c01e4077",
   "metadata": {},
   "outputs": [
    {
     "name": "stdout",
     "output_type": "stream",
     "text": [
      "Multiple Comparison of Means - Tukey HSD, FWER=0.05 \n",
      "====================================================\n",
      "group1 group2 meandiff p-adj   lower   upper  reject\n",
      "----------------------------------------------------\n",
      "     1      2  -1.4286 0.0063 -2.4594 -0.3977   True\n",
      "     1      3  -5.1429  0.001 -6.1737  -4.112   True\n",
      "     2      3  -3.7143  0.001 -4.7451 -2.6834   True\n",
      "----------------------------------------------------\n"
     ]
    }
   ],
   "source": [
    "from statsmodels.stats.multicomp import pairwise_tukeyhsd\n",
    "\n",
    "group_ids = [1]*len(group_0) + [2]*len(group_50) + [3]*len(group_100)\n",
    "\n",
    "print(pairwise_tukeyhsd(group_all,group_ids))"
   ]
  }
 ],
 "metadata": {
  "kernelspec": {
   "display_name": "Python 3",
   "language": "python",
   "name": "python3"
  },
  "language_info": {
   "codemirror_mode": {
    "name": "ipython",
    "version": 3
   },
   "file_extension": ".py",
   "mimetype": "text/x-python",
   "name": "python",
   "nbconvert_exporter": "python",
   "pygments_lexer": "ipython3",
   "version": "3.8.8"
  }
 },
 "nbformat": 4,
 "nbformat_minor": 5
}
