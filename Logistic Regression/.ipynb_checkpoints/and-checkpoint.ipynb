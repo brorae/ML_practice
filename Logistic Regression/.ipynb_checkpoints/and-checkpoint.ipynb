{
 "cells": [
  {
   "cell_type": "code",
   "execution_count": 1,
   "id": "5360a781",
   "metadata": {},
   "outputs": [],
   "source": [
    "import random\n",
    "from math import exp,log\n",
    "import numpy as np\n",
    "import matplotlib.pyplot as plt"
   ]
  },
  {
   "cell_type": "code",
   "execution_count": 2,
   "id": "4a20e514",
   "metadata": {},
   "outputs": [],
   "source": [
    "X = np.array([[0,0],[1,0],[0,1],[1,1]])\n",
    "Y = np.array([0,0,0,1])"
   ]
  },
  {
   "cell_type": "code",
   "execution_count": 3,
   "id": "0242f733",
   "metadata": {},
   "outputs": [],
   "source": [
    "class logistic_regression_model():\n",
    "    def __init__(self):\n",
    "        self.w = np.random.normal(size=2)\n",
    "        self.b = np.random.normal(size=1)\n",
    "    \n",
    "    def sigmoid(self,z):\n",
    "        return 1/(1+exp(-z))\n",
    "\n",
    "    def predict(self,x):\n",
    "        z = np.inner(self.w,x) + self.b[0]\n",
    "        a = self.sigmoid(z)\n",
    "        return a"
   ]
  },
  {
   "cell_type": "code",
   "execution_count": 4,
   "id": "06544660",
   "metadata": {},
   "outputs": [],
   "source": [
    "model = logistic_regression_model()"
   ]
  },
  {
   "cell_type": "code",
   "execution_count": 5,
   "id": "a445e946",
   "metadata": {},
   "outputs": [],
   "source": [
    "def train(X,Y,model,lr):\n",
    "    dw0 = 0.0\n",
    "    dw1 = 0.0\n",
    "    db = 0.0\n",
    "    m = len(X)\n",
    "    cost = 0.0\n",
    "    for x,y in zip(X,Y):\n",
    "        a = model.predict(x)\n",
    "        if y == 1:\n",
    "            cost -= log(a)\n",
    "        else:\n",
    "            cost -= log(1-a)\n",
    "            \n",
    "        x = np.append(x,1)\n",
    "        [dw0,dw1,db] = [dw0,dw1,db] + ((a-y)*x)\n",
    "        \n",
    "    cost /= m\n",
    "    model.w[0] -= lr * dw0/m\n",
    "    model.w[1] -= lr * dw1/m\n",
    "    model.b[0] -= lr * db/m\n",
    "    \n",
    "    return cost"
   ]
  },
  {
   "cell_type": "code",
   "execution_count": 6,
   "id": "9c86cf33",
   "metadata": {},
   "outputs": [],
   "source": [
    "def loss():\n",
    "    loss_ = []\n",
    "    for i in range(4):\n",
    "        loss = -Y[i]*log(model.predict(X[i]))-(1-Y[i])*log(1-model.predict(X[i]))\n",
    "        loss_.append(loss)\n",
    "    return loss_"
   ]
  },
  {
   "cell_type": "code",
   "execution_count": 7,
   "id": "99a7b4e9",
   "metadata": {
    "scrolled": false
   },
   "outputs": [
    {
     "name": "stdout",
     "output_type": "stream",
     "text": [
      "0 0.9630481370099697\n",
      "500 0.24361799552534424\n",
      "1000 0.14918012862536775\n",
      "1500 0.10735296711298213\n",
      "2000 0.08352052034406332\n",
      "2500 0.06815854973899227\n",
      "3000 0.0574631963018295\n",
      "3500 0.04960651277387476\n",
      "4000 0.04360114236693052\n",
      "4500 0.038867799388059204\n",
      "5000 0.035044758534269554\n",
      "5500 0.03189481305666727\n",
      "6000 0.029256127727850183\n",
      "6500 0.027014614270844832\n",
      "7000 0.025087597025066317\n",
      "7500 0.023413737682384347\n",
      "8000 0.021946593990958628\n",
      "8500 0.02065037286546506\n",
      "9000 0.019497054271363737\n",
      "9500 0.018464397058146845\n"
     ]
    }
   ],
   "source": [
    "cost1 = []\n",
    "epoch_ = []\n",
    "for epoch in range(10000):\n",
    "    cost = train(X,Y,model,0.1)\n",
    "    cost1.append(cost)\n",
    "    epoch_.append(epoch)\n",
    "    if (epoch % 500 == 0):\n",
    "        print(epoch, cost)"
   ]
  },
  {
   "cell_type": "code",
   "execution_count": 8,
   "id": "8cf14fc7",
   "metadata": {},
   "outputs": [
    {
     "data": {
      "text/plain": [
       "1.270855618172569e-05"
      ]
     },
     "execution_count": 8,
     "metadata": {},
     "output_type": "execute_result"
    }
   ],
   "source": [
    "model.predict([0,0])"
   ]
  },
  {
   "cell_type": "code",
   "execution_count": 9,
   "id": "9de4a4f6",
   "metadata": {},
   "outputs": [
    {
     "data": {
      "text/plain": [
       "0.020375562681019803"
      ]
     },
     "execution_count": 9,
     "metadata": {},
     "output_type": "execute_result"
    }
   ],
   "source": [
    "model.predict([0,1])"
   ]
  },
  {
   "cell_type": "code",
   "execution_count": 10,
   "id": "61753a7e",
   "metadata": {},
   "outputs": [
    {
     "data": {
      "text/plain": [
       "0.020375575968349068"
      ]
     },
     "execution_count": 10,
     "metadata": {},
     "output_type": "execute_result"
    }
   ],
   "source": [
    "model.predict([1,0])"
   ]
  },
  {
   "cell_type": "code",
   "execution_count": 11,
   "id": "d33487b3",
   "metadata": {},
   "outputs": [
    {
     "data": {
      "text/plain": [
       "0.9714617621453384"
      ]
     },
     "execution_count": 11,
     "metadata": {},
     "output_type": "execute_result"
    }
   ],
   "source": [
    "model.predict([1,1])"
   ]
  },
  {
   "cell_type": "code",
   "execution_count": 12,
   "id": "2b5df6d0",
   "metadata": {},
   "outputs": [
    {
     "data": {
      "text/plain": [
       "[1.270863693612401e-05,\n",
       " 0.020586021557066393,\n",
       " 0.020586007993369102,\n",
       " 0.028953370542609057]"
      ]
     },
     "execution_count": 12,
     "metadata": {},
     "output_type": "execute_result"
    }
   ],
   "source": [
    "loss1 = loss()\n",
    "loss1"
   ]
  },
  {
   "cell_type": "code",
   "execution_count": 13,
   "id": "c449c788",
   "metadata": {},
   "outputs": [],
   "source": [
    "model = logistic_regression_model()"
   ]
  },
  {
   "cell_type": "code",
   "execution_count": 14,
   "id": "6cb8f167",
   "metadata": {},
   "outputs": [
    {
     "name": "stdout",
     "output_type": "stream",
     "text": [
      "0 0.940576634078339\n",
      "500 0.7393492391192966\n",
      "1000 0.6037677042366\n",
      "1500 0.5088877240666027\n",
      "2000 0.4406835239189909\n",
      "2500 0.3898325432830689\n",
      "3000 0.35051490317041933\n",
      "3500 0.31913048716047643\n",
      "4000 0.2934047948911509\n",
      "4500 0.271854253586539\n",
      "5000 0.25347772992287637\n",
      "5500 0.23757733114995355\n",
      "6000 0.22365188899717353\n",
      "6500 0.211331812217746\n",
      "7000 0.2003380451577037\n",
      "7500 0.19045546224564075\n",
      "8000 0.1815151516548971\n",
      "8500 0.17338232205614462\n",
      "9000 0.16594785788329888\n",
      "9500 0.1591222985388256\n"
     ]
    }
   ],
   "source": [
    "cost2 = []\n",
    "for epoch in range(10000):\n",
    "    cost = train(X,Y,model,0.01)\n",
    "    cost2.append(cost)\n",
    "    if (epoch % 500 == 0):\n",
    "        print(epoch, cost)"
   ]
  },
  {
   "cell_type": "code",
   "execution_count": 15,
   "id": "7232a850",
   "metadata": {},
   "outputs": [
    {
     "data": {
      "text/plain": [
       "0.01022414654836877"
      ]
     },
     "execution_count": 15,
     "metadata": {},
     "output_type": "execute_result"
    }
   ],
   "source": [
    "model.predict([0,0])"
   ]
  },
  {
   "cell_type": "code",
   "execution_count": 16,
   "id": "d1adf89d",
   "metadata": {},
   "outputs": [
    {
     "data": {
      "text/plain": [
       "0.15825440871189905"
      ]
     },
     "execution_count": 16,
     "metadata": {},
     "output_type": "execute_result"
    }
   ],
   "source": [
    "model.predict([0,1])"
   ]
  },
  {
   "cell_type": "code",
   "execution_count": 17,
   "id": "68b9671b",
   "metadata": {},
   "outputs": [
    {
     "data": {
      "text/plain": [
       "0.15802647192393984"
      ]
     },
     "execution_count": 17,
     "metadata": {},
     "output_type": "execute_result"
    }
   ],
   "source": [
    "model.predict([1,0])"
   ]
  },
  {
   "cell_type": "code",
   "execution_count": 18,
   "id": "2415a702",
   "metadata": {},
   "outputs": [
    {
     "data": {
      "text/plain": [
       "0.7735500392578961"
      ]
     },
     "execution_count": 18,
     "metadata": {},
     "output_type": "execute_result"
    }
   ],
   "source": [
    "model.predict([1,1])"
   ]
  },
  {
   "cell_type": "code",
   "execution_count": 19,
   "id": "8ad6553c",
   "metadata": {},
   "outputs": [
    {
     "data": {
      "text/plain": [
       "[0.01027677214318113,\n",
       " 0.1720067045736327,\n",
       " 0.17227745850964293,\n",
       " 0.2567649190667587]"
      ]
     },
     "execution_count": 19,
     "metadata": {},
     "output_type": "execute_result"
    }
   ],
   "source": [
    "loss2 = loss()\n",
    "loss2"
   ]
  },
  {
   "cell_type": "code",
   "execution_count": 20,
   "id": "797c5e26",
   "metadata": {},
   "outputs": [],
   "source": [
    "model = logistic_regression_model()"
   ]
  },
  {
   "cell_type": "code",
   "execution_count": 21,
   "id": "d8112ecf",
   "metadata": {},
   "outputs": [
    {
     "name": "stdout",
     "output_type": "stream",
     "text": [
      "0 0.6703931008401188\n",
      "500 0.6513106339668783\n",
      "1000 0.6345951729187714\n",
      "1500 0.6196350265228843\n",
      "2000 0.6060058980545169\n",
      "2500 0.5934115179268038\n",
      "3000 0.5816432378745474\n",
      "3500 0.5705525690007993\n",
      "4000 0.5600324895676136\n",
      "4500 0.5500046854905657\n",
      "5000 0.5404108111387255\n",
      "5500 0.5312064834522598\n",
      "6000 0.5223571415702911\n",
      "6500 0.5138351845786937\n",
      "7000 0.50561798797367\n",
      "7500 0.497686525999234\n",
      "8000 0.4900244126748991\n",
      "8500 0.4826172326228531\n",
      "9000 0.47545207268155254\n",
      "9500 0.46851719269922515\n"
     ]
    }
   ],
   "source": [
    "cost3 = []\n",
    "for epoch in range(10000):\n",
    "    cost = train(X,Y,model,0.001)\n",
    "    cost3.append(cost)\n",
    "    if (epoch % 500 == 0):\n",
    "        print(epoch, cost)"
   ]
  },
  {
   "cell_type": "code",
   "execution_count": 22,
   "id": "a3e6bb8a",
   "metadata": {},
   "outputs": [
    {
     "data": {
      "text/plain": [
       "0.21638321267761412"
      ]
     },
     "execution_count": 22,
     "metadata": {},
     "output_type": "execute_result"
    }
   ],
   "source": [
    "model.predict([0,0])"
   ]
  },
  {
   "cell_type": "code",
   "execution_count": 23,
   "id": "5077f0d9",
   "metadata": {},
   "outputs": [
    {
     "data": {
      "text/plain": [
       "0.38869655838755385"
      ]
     },
     "execution_count": 23,
     "metadata": {},
     "output_type": "execute_result"
    }
   ],
   "source": [
    "model.predict([0,1])"
   ]
  },
  {
   "cell_type": "code",
   "execution_count": 24,
   "id": "6abede05",
   "metadata": {},
   "outputs": [
    {
     "data": {
      "text/plain": [
       "0.25650867196758304"
      ]
     },
     "execution_count": 24,
     "metadata": {},
     "output_type": "execute_result"
    }
   ],
   "source": [
    "model.predict([1,0])"
   ]
  },
  {
   "cell_type": "code",
   "execution_count": 25,
   "id": "80cd623e",
   "metadata": {},
   "outputs": [
    {
     "data": {
      "text/plain": [
       "0.44272254580142845"
      ]
     },
     "execution_count": 25,
     "metadata": {},
     "output_type": "execute_result"
    }
   ],
   "source": [
    "model.predict([1,1])"
   ]
  },
  {
   "cell_type": "code",
   "execution_count": 26,
   "id": "790b4674",
   "metadata": {
    "scrolled": true
   },
   "outputs": [
    {
     "data": {
      "text/plain": [
       "[0.24383516980995426,\n",
       " 0.2963981768588703,\n",
       " 0.4921618119740269,\n",
       " 0.8148120125954258]"
      ]
     },
     "execution_count": 26,
     "metadata": {},
     "output_type": "execute_result"
    }
   ],
   "source": [
    "loss3 = loss()\n",
    "loss3"
   ]
  },
  {
   "cell_type": "code",
   "execution_count": 27,
   "id": "0ae2bcd0",
   "metadata": {},
   "outputs": [
    {
     "data": {
      "image/png": "[encoded data removed]",
      "text/plain": [
       "<Figure size 432x288 with 1 Axes>"
      ]
     },
     "metadata": {
      "needs_background": "light"
     },
     "output_type": "display_data"
    }
   ],
   "source": [
    "plt.plot(epoch_,cost1)\n",
    "plt.plot(epoch_,cost2)\n",
    "plt.plot(epoch_,cost3)\n",
    "plt.xlabel(\"epoch\")\n",
    "plt.ylabel(\"cost\")\n",
    "plt.show()"
   ]
  },
  {
   "cell_type": "code",
   "execution_count": 28,
   "id": "d5441273",
   "metadata": {
    "scrolled": false
   },
   "outputs": [
    {
     "data": {
      "image/png": "[encoded data removed]",
      "text/plain": [
       "<Figure size 432x288 with 1 Axes>"
      ]
     },
     "metadata": {
      "needs_background": "light"
     },
     "output_type": "display_data"
    }
   ],
   "source": [
    "test = [\"(0,0)\",\"(0,1)\",\"(1,0)\",\"(1,1)\"]\n",
    "plt.plot(test,loss1,'o')\n",
    "plt.plot(test,loss2,'o')\n",
    "plt.plot(test,loss3,'o')\n",
    "plt.xlabel(\"value\")\n",
    "plt.ylabel(\"loss\")\n",
    "plt.show()"
   ]
  }
 ],
 "metadata": {
  "kernelspec": {
   "display_name": "Python 3 (ipykernel)",
   "language": "python",
   "name": "python3"
  },
  "language_info": {
   "codemirror_mode": {
    "name": "ipython",
    "version": 3
   },
   "file_extension": ".py",
   "mimetype": "text/x-python",
   "name": "python",
   "nbconvert_exporter": "python",
   "pygments_lexer": "ipython3",
   "version": "3.9.6"
  }
 },
 "nbformat": 4,
 "nbformat_minor": 5
}
