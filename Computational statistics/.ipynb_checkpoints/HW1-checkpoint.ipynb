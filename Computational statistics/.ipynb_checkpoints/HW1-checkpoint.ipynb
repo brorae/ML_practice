{
 "cells": [
  {
   "cell_type": "markdown",
   "id": "6d1f887d",
   "metadata": {},
   "source": [
    "# Homework 1                                                                                             \n",
    "### (By October 10)"
   ]
  },
  {
   "cell_type": "code",
   "execution_count": 1,
   "id": "bc1e5cbd",
   "metadata": {},
   "outputs": [],
   "source": [
    "import numpy as np\n",
    "from scipy import stats\n",
    "from matplotlib import pyplot as plt"
   ]
  },
  {
   "cell_type": "markdown",
   "id": "e439cdd1",
   "metadata": {},
   "source": [
    "### 1. (dice game) 1부터 6까지의 수 중에 하나의 수를 임의로 선택하는 시행을 20번 시행하여 그 결과를 리스트 형태로 만들어 dice 라는 이름으로 저장하는 코드를 작성하시오 . (hint: np.random.~)"
   ]
  },
  {
   "cell_type": "code",
   "execution_count": 2,
   "id": "d92d66eb",
   "metadata": {
    "scrolled": true
   },
   "outputs": [
    {
     "name": "stdout",
     "output_type": "stream",
     "text": [
      "[4 5 2 2 2 6 6 3 2 6 5 6 4 6 3 5 1 1 5 1]\n"
     ]
    }
   ],
   "source": [
    "num = np.arange(1,7)\n",
    "dice = np.random.choice(num,20,replace = True)\n",
    "print(dice)"
   ]
  },
  {
   "cell_type": "markdown",
   "id": "f2c2fc65",
   "metadata": {},
   "source": [
    "### 2. 위에서 얻은 dice의 결과값을 기준으로  각 수 (1부터 6까지) 에 해당하는 빈도를 구한 후, 해당 빈도를 기준으로 확률값을 구하여, p_dice 로 저장하는 코드를 작성하시오."
   ]
  },
  {
   "cell_type": "code",
   "execution_count": 3,
   "id": "878fb5cb",
   "metadata": {},
   "outputs": [
    {
     "name": "stdout",
     "output_type": "stream",
     "text": [
      "빈도 : [3 4 2 2 4 5]\n",
      "확률 : [0.15, 0.2, 0.1, 0.1, 0.2, 0.25]\n"
     ]
    }
   ],
   "source": [
    "bin_dice = np.bincount(dice)[1:]\n",
    "print(\"빈도 :\",bin_dice)\n",
    "p_dice = [i / 20 for i in bin_dice]\n",
    "print(\"확률 :\",p_dice)"
   ]
  },
  {
   "cell_type": "markdown",
   "id": "7a0c6889",
   "metadata": {},
   "source": [
    "### 3. 위 2 번 결과를 기준으로 세로 막대 그래프를 작성해 보시오."
   ]
  },
  {
   "cell_type": "code",
   "execution_count": 4,
   "id": "892f33b2",
   "metadata": {},
   "outputs": [
    {
     "data": {
      "image/png": "[encoded data removed]",
      "text/plain": [
       "<Figure size 432x288 with 1 Axes>"
      ]
     },
     "metadata": {
      "needs_background": "light"
     },
     "output_type": "display_data"
    }
   ],
   "source": [
    "plt.bar([1,2,3,4,5,6],p_dice)\n",
    "plt.xlabel(\"number\")\n",
    "plt.ylabel(\"probability\")\n",
    "plt.show()"
   ]
  },
  {
   "cell_type": "markdown",
   "id": "21a5dea8",
   "metadata": {},
   "source": [
    "### 4. 위 2번 결과를 기준으로 기대값과 분산을 구하는 코드를 작성해 보시오."
   ]
  },
  {
   "cell_type": "code",
   "execution_count": 5,
   "id": "b6946989",
   "metadata": {},
   "outputs": [
    {
     "name": "stdout",
     "output_type": "stream",
     "text": [
      "기댓값 : 3.75\n",
      "분산 : 3.3874999999999993\n"
     ]
    }
   ],
   "source": [
    "expectation = 0\n",
    "variance = 0\n",
    "for i in range(6):\n",
    "    expectation += ((i+1) * p_dice[i])\n",
    "    variance += (((i+1)**2) * p_dice[i])\n",
    "variance -= expectation**2\n",
    "print(\"기댓값 :\", expectation)\n",
    "print(\"분산 :\", variance)"
   ]
  },
  {
   "cell_type": "markdown",
   "id": "b696e3e5",
   "metadata": {},
   "source": [
    "### 5. 만약, 위의 dice game 을 20번 대신 200번 수행한다면, 현재의 결과가 바뀔 수 있는 지 아니면, 유지될 수 있는 지를 정당화 해 보시오. (기술하여도 되고, 코드를 통해 본인의 의견을 주장해도 됩니다.)"
   ]
  },
  {
   "cell_type": "code",
   "execution_count": 6,
   "id": "6ebc9d11",
   "metadata": {
    "scrolled": false
   },
   "outputs": [
    {
     "name": "stdout",
     "output_type": "stream",
     "text": [
      "[2 6 6 6 1 3 2 1 1 5 3 4 3 3 2 1 5 4 3 4 4 5 1 3 1 5 1 6 4 1 5 2 3 3 1 1 1\n",
      " 1 6 2 4 2 6 1 6 2 4 1 5 1 5 2 6 1 6 6 6 3 6 4 2 5 4 3 4 1 5 5 2 3 1 2 6 1\n",
      " 3 3 3 3 2 5 5 4 4 1 2 3 3 5 3 3 2 5 4 1 3 5 3 4 6 2 1 5 2 5 5 4 6 5 1 2 4\n",
      " 5 2 2 3 3 2 3 4 4 2 2 5 4 6 5 6 4 2 3 3 5 5 2 3 2 4 1 2 5 1 4 2 4 5 4 4 1\n",
      " 4 4 4 6 1 5 3 4 4 4 6 1 3 6 5 5 1 3 1 5 3 5 6 1 5 1 6 5 1 5 5 1 3 6 2 3 6\n",
      " 3 1 4 5 4 3 6 3 6 4 2 4 6 1 6]\n"
     ]
    }
   ],
   "source": [
    "num = np.arange(1,7)\n",
    "dice = np.random.choice(num,200,replace = True)\n",
    "print(dice)"
   ]
  },
  {
   "cell_type": "code",
   "execution_count": 7,
   "id": "60086654",
   "metadata": {},
   "outputs": [
    {
     "name": "stdout",
     "output_type": "stream",
     "text": [
      "빈도 : [36 29 36 35 36 28]\n",
      "확률 : [0.18, 0.145, 0.18, 0.175, 0.18, 0.14]\n"
     ]
    }
   ],
   "source": [
    "bin_dice = np.bincount(dice)[1:]\n",
    "print(\"빈도 :\",bin_dice)\n",
    "p_dice = [i / 200 for i in bin_dice]\n",
    "print(\"확률 :\",p_dice)"
   ]
  },
  {
   "cell_type": "code",
   "execution_count": 8,
   "id": "25c154bb",
   "metadata": {},
   "outputs": [
    {
     "name": "stdout",
     "output_type": "stream",
     "text": [
      "기댓값 : 3.45\n",
      "분산 : 2.817499999999999\n"
     ]
    }
   ],
   "source": [
    "expectation = 0\n",
    "variance = 0\n",
    "for i in range(6):\n",
    "    expectation += ((i+1) * p_dice[i])\n",
    "    variance += (((i+1)**2) * p_dice[i])\n",
    "variance -= expectation**2\n",
    "print(\"기댓값 :\", expectation)\n",
    "print(\"분산 :\", variance)"
   ]
  },
  {
   "cell_type": "code",
   "execution_count": 9,
   "id": "44355ffa",
   "metadata": {},
   "outputs": [
    {
     "data": {
      "image/png": "[encoded data removed]",
      "text/plain": [
       "<Figure size 432x288 with 1 Axes>"
      ]
     },
     "metadata": {
      "needs_background": "light"
     },
     "output_type": "display_data"
    }
   ],
   "source": [
    "plt.bar([1,2,3,4,5,6],p_dice)\n",
    "plt.xlabel(\"number\")\n",
    "plt.ylabel(\"probability\")\n",
    "plt.show()"
   ]
  },
  {
   "cell_type": "markdown",
   "id": "159e12a5",
   "metadata": {},
   "source": [
    "#### 20번 시행했을 때 보다 200번 시행했을 때의 결과가 확률이 고르게 분포되어 있다. 200번보다 훨씬 많이 시행을 하게 된다면 확률이 1/6에 가깝게 나올 것이다.\n"
   ]
  },
  {
   "cell_type": "code",
   "execution_count": 10,
   "id": "c4abed4f",
   "metadata": {},
   "outputs": [
    {
     "data": {
      "image/png": "[encoded data removed]",
      "text/plain": [
       "<Figure size 432x288 with 1 Axes>"
      ]
     },
     "metadata": {
      "needs_background": "light"
     },
     "output_type": "display_data"
    }
   ],
   "source": [
    "expectation = np.zeros(200);\n",
    "for i in range(1,200):\n",
    "    expectation[i] = np.mean(dice[0:i]);\n",
    "plt.plot(expectation)\n",
    "plt.xlabel(\"number of trials\")\n",
    "plt.ylabel(\"expectation\")\n",
    "plt.show()"
   ]
  },
  {
   "cell_type": "markdown",
   "id": "7d67d513",
   "metadata": {},
   "source": [
    "#### 다음은 시행횟수에 따른 기댓값의 변화를 나타낸 그래프이다. 확률이 모두 1/6로 동일할 때의 기댓값은 3.5이다. 그래프에서 볼 수 있듯이 시행 횟수를 늘릴수록 기댓값이 3.5에 가까워지는 것을 알 수 있다."
   ]
  },
  {
   "cell_type": "markdown",
   "id": "25bfa90f",
   "metadata": {},
   "source": [
    "#### 따라서 dice_game을 20번 대신 200번 수행한다면 결과가 바뀔 것이다. 물론 아주 낮은 확률로 20번 던졌을 때에도 비슷한 빈도수로 나와 확률이 동일할 수도 있지만, 그런 경우를 제외하고 1~6까지의 숫자가 나올 확률은 1/6에 가까워지게 된다."
   ]
  }
 ],
 "metadata": {
  "kernelspec": {
   "display_name": "Python 3",
   "language": "python",
   "name": "python3"
  },
  "language_info": {
   "codemirror_mode": {
    "name": "ipython",
    "version": 3
   },
   "file_extension": ".py",
   "mimetype": "text/x-python",
   "name": "python",
   "nbconvert_exporter": "python",
   "pygments_lexer": "ipython3",
   "version": "3.8.8"
  }
 },
 "nbformat": 4,
 "nbformat_minor": 5
}
