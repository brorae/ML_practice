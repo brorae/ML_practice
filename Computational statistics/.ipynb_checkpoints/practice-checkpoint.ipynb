{
 "cells": [
  {
   "cell_type": "code",
   "execution_count": 1,
   "id": "58719d3c",
   "metadata": {},
   "outputs": [],
   "source": [
    "import numpy as np\n",
    "import pandas as pd\n",
    "from scipy import stats\n",
    "from matplotlib import pyplot as plt"
   ]
  },
  {
   "cell_type": "code",
   "execution_count": 2,
   "id": "6bd58a2e",
   "metadata": {},
   "outputs": [
    {
     "data": {
      "text/plain": [
       "57"
      ]
     },
     "execution_count": 2,
     "metadata": {},
     "output_type": "execute_result"
    }
   ],
   "source": [
    "np.random.randint(0,100)"
   ]
  },
  {
   "cell_type": "code",
   "execution_count": 3,
   "id": "b5746ccc",
   "metadata": {},
   "outputs": [
    {
     "data": {
      "text/plain": [
       "array([5, 8, 3, 1, 8])"
      ]
     },
     "execution_count": 3,
     "metadata": {},
     "output_type": "execute_result"
    }
   ],
   "source": [
    "a = np.arange(10)\n",
    "np.random.choice(a,5,replace=True)"
   ]
  },
  {
   "cell_type": "code",
   "execution_count": 4,
   "id": "2e6643b4",
   "metadata": {},
   "outputs": [
    {
     "data": {
      "image/png": "[encoded data removed]",
      "text/plain": [
       "<Figure size 432x288 with 1 Axes>"
      ]
     },
     "metadata": {
      "needs_background": "light"
     },
     "output_type": "display_data"
    }
   ],
   "source": [
    "dist_norm = stats.norm(loc=0,scale=1)\n",
    "x = np.linspace(-10,10,100)\n",
    "y = dist_norm.pdf(x)\n",
    "\n",
    "plt.plot(x,y)\n",
    "plt.show()"
   ]
  },
  {
   "cell_type": "code",
   "execution_count": 5,
   "id": "0707ca08",
   "metadata": {},
   "outputs": [
    {
     "data": {
      "image/png": "[encoded data removed]",
      "text/plain": [
       "<Figure size 432x288 with 1 Axes>"
      ]
     },
     "metadata": {
      "needs_background": "light"
     },
     "output_type": "display_data"
    }
   ],
   "source": [
    "y2 = dist_norm.cdf(x)\n",
    "\n",
    "plt.plot(x,y2)\n",
    "plt.show()"
   ]
  },
  {
   "cell_type": "code",
   "execution_count": 6,
   "id": "f742cc17",
   "metadata": {},
   "outputs": [
    {
     "name": "stdout",
     "output_type": "stream",
     "text": [
      "-1.6448536269514729 1.6448536269514722\n"
     ]
    }
   ],
   "source": [
    "a = dist_norm.ppf(0.05)\n",
    "b = dist_norm.ppf(0.95)\n",
    "print(a, b)"
   ]
  },
  {
   "cell_type": "code",
   "execution_count": 7,
   "id": "41bf02be",
   "metadata": {},
   "outputs": [
    {
     "data": {
      "image/png": "[encoded data removed]",
      "text/plain": [
       "<Figure size 432x288 with 1 Axes>"
      ]
     },
     "metadata": {
      "needs_background": "light"
     },
     "output_type": "display_data"
    }
   ],
   "source": [
    "sample_norm = dist_norm.rvs(size=1000)\n",
    "plt.hist(sample_norm,bins=50,rwidth=0.5,color='r')\n",
    "plt.title(\"Samples from normal distribution\")\n",
    "plt.show()"
   ]
  },
  {
   "cell_type": "code",
   "execution_count": 8,
   "id": "1833a02d",
   "metadata": {},
   "outputs": [
    {
     "name": "stdout",
     "output_type": "stream",
     "text": [
      "0.032040228719474886 1.0236651306393865\n"
     ]
    }
   ],
   "source": [
    "sample_mean = np.mean(sample_norm)\n",
    "sample_var = np.std(sample_norm)\n",
    "print(sample_mean,sample_var)"
   ]
  },
  {
   "cell_type": "code",
   "execution_count": 9,
   "id": "4c2f02d5",
   "metadata": {},
   "outputs": [
    {
     "data": {
      "text/html": [
       "<div>\n",
       "<style scoped>\n",
       "    .dataframe tbody tr th:only-of-type {\n",
       "        vertical-align: middle;\n",
       "    }\n",
       "\n",
       "    .dataframe tbody tr th {\n",
       "        vertical-align: top;\n",
       "    }\n",
       "\n",
       "    .dataframe thead th {\n",
       "        text-align: right;\n",
       "    }\n",
       "</style>\n",
       "<table border=\"1\" class=\"dataframe\">\n",
       "  <thead>\n",
       "    <tr style=\"text-align: right;\">\n",
       "      <th></th>\n",
       "      <th>0</th>\n",
       "    </tr>\n",
       "  </thead>\n",
       "  <tbody>\n",
       "    <tr>\n",
       "      <th>0</th>\n",
       "      <td>109.0</td>\n",
       "    </tr>\n",
       "    <tr>\n",
       "      <th>1</th>\n",
       "      <td>110.0</td>\n",
       "    </tr>\n",
       "    <tr>\n",
       "      <th>2</th>\n",
       "      <td>108.0</td>\n",
       "    </tr>\n",
       "    <tr>\n",
       "      <th>3</th>\n",
       "      <td>110.0</td>\n",
       "    </tr>\n",
       "    <tr>\n",
       "      <th>4</th>\n",
       "      <td>109.0</td>\n",
       "    </tr>\n",
       "  </tbody>\n",
       "</table>\n",
       "</div>"
      ],
      "text/plain": [
       "       0\n",
       "0  109.0\n",
       "1  110.0\n",
       "2  108.0\n",
       "3  110.0\n",
       "4  109.0"
      ]
     },
     "execution_count": 9,
     "metadata": {},
     "output_type": "execute_result"
    }
   ],
   "source": [
    "data = pd.read_csv('./sample.csv',header=None)\n",
    "data.head()"
   ]
  },
  {
   "cell_type": "code",
   "execution_count": 10,
   "id": "813ea698",
   "metadata": {},
   "outputs": [
    {
     "name": "stdout",
     "output_type": "stream",
     "text": [
      "[109.0, 110.0, 108.0, 110.0, 109.0, 111.0, 111.0, 110.0, 109.0, 111.0, 109.0, 110.0, 110.0, 108.0, 109.0, 110.0, 109.0, 110.0, 110.0, 110.0, 110.0, 109.0, 110.0, 110.0, 110.0, 112.0, 110.0, 109.0, 108.0, 109.0]\n"
     ]
    }
   ],
   "source": [
    "data.columns = ['IQ']\n",
    "data_list = data['IQ'].to_list()\n",
    "print(data_list)"
   ]
  },
  {
   "cell_type": "code",
   "execution_count": 11,
   "id": "07751fcc",
   "metadata": {},
   "outputs": [
    {
     "name": "stdout",
     "output_type": "stream",
     "text": [
      "Test statistic is 5.92\n"
     ]
    }
   ],
   "source": [
    "pop_mean0 = 100\n",
    "pop_std = np.sqrt(80)\n",
    "\n",
    "n = data.shape[0]\n",
    "\n",
    "sample_mean = np.mean(data_list)\n",
    "sample_var = np.var(data_list,ddof=1)\n",
    "\n",
    "T = (sample_mean - pop_mean0) / (pop_std/np.sqrt(n))\n",
    "\n",
    "print(\"Test statistic is {}\".format(np.round(T,3)))"
   ]
  },
  {
   "cell_type": "code",
   "execution_count": 12,
   "id": "52c95fa7",
   "metadata": {},
   "outputs": [
    {
     "name": "stdout",
     "output_type": "stream",
     "text": [
      "critical values are -1.96 and 1.96\n"
     ]
    }
   ],
   "source": [
    "alpha = 0.05\n",
    "dist_norm = stats.norm(loc=0,scale=1)\n",
    "\n",
    "ll = dist_norm.ppf(alpha/2)\n",
    "ul = dist_norm.ppf(1-(alpha/2))\n",
    "\n",
    "print(\"critical values are {} and {}\".format(np.round(ll,3),np.round(ul,3)))"
   ]
  },
  {
   "cell_type": "code",
   "execution_count": 13,
   "id": "f4b1bf36",
   "metadata": {},
   "outputs": [
    {
     "name": "stdout",
     "output_type": "stream",
     "text": [
      "we can reject H0\n"
     ]
    }
   ],
   "source": [
    "if (np.abs(T) > ul):\n",
    "    print(\"we can reject H0\")\n",
    "else:\n",
    "    print(\"we accept H0\")"
   ]
  },
  {
   "cell_type": "code",
   "execution_count": 14,
   "id": "dd979657",
   "metadata": {},
   "outputs": [
    {
     "data": {
      "image/png": "[encoded data removed]",
      "text/plain": [
       "<Figure size 432x288 with 1 Axes>"
      ]
     },
     "metadata": {
      "needs_background": "light"
     },
     "output_type": "display_data"
    }
   ],
   "source": [
    "stats.probplot(data_list,plot=plt,dist='norm')\n",
    "plt.show()"
   ]
  },
  {
   "cell_type": "code",
   "execution_count": 15,
   "id": "2ef20adc",
   "metadata": {},
   "outputs": [
    {
     "data": {
      "image/png": "[encoded data removed]",
      "text/plain": [
       "<Figure size 432x288 with 1 Axes>"
      ]
     },
     "metadata": {
      "needs_background": "light"
     },
     "output_type": "display_data"
    }
   ],
   "source": [
    "m = 0.6\n",
    "dist_ber = stats.bernoulli(m)\n",
    "x = [0,1]\n",
    "plt.bar(x,dist_ber.pmf(x))\n",
    "plt.xticks([0, 1], [\"x=0\", \"x=1\"])\n",
    "plt.show()"
   ]
  },
  {
   "cell_type": "code",
   "execution_count": 16,
   "id": "09a7e3de",
   "metadata": {},
   "outputs": [
    {
     "name": "stdout",
     "output_type": "stream",
     "text": [
      "[0 1 1 0 0 1 1 0 0 1 1 0 1 1 0 1 1 0 0 1 1 1 0 0 1 0 1 0 0 1 1 1 0 1 1 1 0\n",
      " 1 0 0 1 0 0 0 0 0 1 0 1 0 0 1 0 0 0 0 0 1 1 1 1 1 1 0 0 1 0 1 1 1 1 1 0 1\n",
      " 0 1 1 0 0 0 1 1 0 1 0 1 0 0 1 0 0 0 1 1 1 0 1 1 1 1 0 0 0 1 1 1 0 1 1 0 1\n",
      " 1 1 0 0 0 0 1 1 0 1 1 1 0 0 1 0 1 0 0 0 1 1 0 1 1 0 1 1 1 0 1 0 1 1 1 1 1\n",
      " 1 0 0 1 1 0 0 1 1 1 0 1 0 1 1 1 0 1 0 1 0 1 1 0 1 1 0 1 0 0 0 1 1 1 0 0 1\n",
      " 0 1 0 1 1 0 0 1 0 1 1 1 1 1 0 0 1 0 1 1 0 1 1 0 0 0 0 0 1 1 1 1 1 0 0 1 0\n",
      " 1 0 1 1 0 1 1 1 0 0 1 1 0 0 1 0 0 1 1 0 1 1 0 0 1 0 1 1 0 1 1 0 0 0 0 1 1\n",
      " 1 1 1 0 1 1 1 0 1 1 1 1 1 1 0 1 1 1 1 1 1 1 0 1 1 1 1 1 0 0 1 1 0 0 1 1 0\n",
      " 1 0 1 1 1 1 0 0 1 1 0 1 0 1 0 1 1 0 1 0 1 0 1 1 0 1 0 1 1 0 0 0 1 1 1 1 1\n",
      " 0 0 1 1 1 0 0 0 1 1 1 0 1 0 0 1 1 0 1 1 0 1 1 1 0 1 1 0 0 0 0 1 1 1 1 1 1\n",
      " 1 1 0 1 1 1 1 0 1 1 0 0 1 0 0 0 0 0 1 0 0 0 1 1 1 0 0 0 1 0 1 0 0 1 0 0 1\n",
      " 1 0 0 1 0 1 1 0 0 0 1 1 0 0 1 1 1 1 1 1 1 1 1 0 0 1 1 1 0 0 1 1 0 0 1 1 0\n",
      " 0 0 0 0 1 0 1 1 1 1 0 1 0 1 1 1 1 1 0 1 1 1 0 1 1 1 0 1 0 0 1 1 0 0 1 1 0\n",
      " 0 0 1 1 1 1 1 0 1 1 1 1 0 0 0 0 1 1 1 1 0 1 0 0 1 1 1 1 0 0 1 1 1 1 1 0 1\n",
      " 1 1 1 0 1 0 0 0 1 1 0 0 1 0 0 0 1 1 1 1 0 0 1 0 1 1 1 0 0 1 1 1 0 0 0 0 0\n",
      " 1 1 1 0 1 1 1 1 0 0 0 0 0 1 1 1 1 0 1 0 1 0 1 0 1 1 1 0 1 1 1 1 1 1 1 0 0\n",
      " 0 1 1 1 1 1 0 0 0 1 1 0 0 1 1 0 0 1 1 1 1 0 1 0 1 0 1 0 1 0 0 1 1 0 1 1 1\n",
      " 1 0 0 1 1 1 0 1 1 0 0 1 1 0 0 0 0 0 0 1 1 0 1 1 1 1 1 0 1 1 1 1 0 0 1 1 1\n",
      " 1 0 0 1 0 0 1 0 1 0 1 0 1 0 0 0 1 0 1 0 0 0 0 1 1 1 1 0 0 0 1 0 0 1 0 1 1\n",
      " 1 1 1 1 1 0 1 1 1 1 1 1 1 1 0 0 0 0 1 1 1 1 1 1 1 0 1 1 1 1 1 0 0 0 0 1 1\n",
      " 0 0 1 1 1 0 0 1 0 0 1 0 1 0 1 0 0 0 1 0 1 0 1 0 1 1 0 1 1 0 1 1 1 1 1 0 1\n",
      " 0 0 0 1 0 1 1 1 1 1 1 1 1 1 1 0 0 0 0 0 1 1 1 1 1 0 0 0 0 0 1 0 0 1 1 0 1\n",
      " 1 1 1 1 1 1 0 1 1 1 0 1 1 1 0 1 0 1 0 0 1 0 0 1 1 0 1 1 0 1 1 1 0 1 0 1 0\n",
      " 1 1 0 1 0 1 0 1 1 1 1 0 1 1 1 1 1 0 1 1 1 0 1 0 0 1 1 0 1 1 1 1 0 1 0 1 1\n",
      " 1 1 0 1 1 1 0 1 1 0 0 1 1 1 1 0 0 1 1 1 1 0 0 1 1 1 1 0 0 1 0 1 0 1 0 0 1\n",
      " 1 1 0 1 0 1 0 1 1 1 0 1 1 1 0 1 1 0 0 1 0 1 1 1 1 1 1 1 1 1 1 0 1 1 0 1 1\n",
      " 0 1 0 0 1 1 1 0 1 0 0 0 1 0 0 1 0 0 1 1 0 0 0 1 0 1 1 1 0 1 1 1 1 1 0 0 1\n",
      " 1]\n",
      "0.589\n",
      "0.2423213213213214\n"
     ]
    }
   ],
   "source": [
    "ber_sample = dist_ber.rvs(1000)\n",
    "print(ber_sample)\n",
    "print(np.mean(ber_sample))\n",
    "print(np.var(ber_sample,ddof=1))"
   ]
  },
  {
   "cell_type": "code",
   "execution_count": 17,
   "id": "4d388cb8",
   "metadata": {},
   "outputs": [
    {
     "data": {
      "image/png": "[encoded data removed]",
      "text/plain": [
       "<Figure size 432x288 with 1 Axes>"
      ]
     },
     "metadata": {
      "needs_background": "light"
     },
     "output_type": "display_data"
    }
   ],
   "source": [
    "n = 10\n",
    "m = 0.6\n",
    "dist_bin = stats.binom(n,m)\n",
    "x = np.arange(n+1)\n",
    "y = dist_bin.pmf(x)\n",
    "plt.bar(x,y)\n",
    "plt.show()"
   ]
  },
  {
   "cell_type": "code",
   "execution_count": 18,
   "id": "f60b58f9",
   "metadata": {},
   "outputs": [
    {
     "name": "stdout",
     "output_type": "stream",
     "text": [
      "[ 6  7  9  2  5  6  3  6  6  4  2  4  7  2  8  6  4  4  4  8  7  5  7  4\n",
      "  4  7  5  7  7  7  5  8  7  6  4  6  9  5  5  5  4  6  3  7  4  7  8  6\n",
      "  5  9  4  8  9  8  5  7  9  4  4  8  5  7  4  7  4  6  7  9  8  6  9  7\n",
      "  3  6  6  7  6  9  6  5  6  4  5  7  5  6  7  4  7  5  8  6  4  7  4  9\n",
      "  4  5  5  7  7  3  7  7  5  7  6  7  6  8  4  7  8  4  6  4  6  6  4  7\n",
      "  7  6  5  9  6  5  4  6  5  6  9  6  5  7  5  5  6  4  4  4  4  7  4  7\n",
      "  9  4  8  4  5  5  6  8  7  5  2  7  6  7  7  8  7  6  8  5  3  8  5  6\n",
      "  7  7  9  5  7  3 10  3  4  8  2  6  8  5  5  5  7  3  8  5  7  8  6  6\n",
      "  4  4  7  6  6  7  4  5  6  8  6  6  9  4  7  6  4  6  6  4  5  6  6  6\n",
      "  7  6  7  8  5  7  6  7  5  7  4  3  7  6  8  7  7  6  4  4  7  5  5  8\n",
      "  8  4  5  3  4  5  7  7  6  5  3  5  8  5  5  8  5  6  9  7  6  5  7  5\n",
      "  7  4  6  6  7 10  5  7  7  5  9  6  7  4  7  6  6  8  7  6  7  6  7  7\n",
      "  3  7  2  8  7  7  4  5  8  5  7  5  5  8  8  4  5  8  8  4  7  4  7  6\n",
      "  5  8  7  6  2  6  6  8  7  4  6  6  6  5  8  4  5  6  4  3  5  5  5  7\n",
      "  6  7  6  5  8  5  4  6  7  8  6  4  7  7  5  5  6  5  5  8  6  5  5  7\n",
      "  4  8  4  6  5  7  2  7  6  5  7  3  4  7  6  4  4  7  5  2  4  4  4  5\n",
      "  6  5  5  7  6  5  5  4  6  6  8  6  6  5  5  7  5  6  5  7  5  6  6  6\n",
      "  7  5  6  4  7  4  3  5  5  4  6  7  6  8  6  5  9  5  7  6  8  8  7  6\n",
      "  8  4  5  6  8  8  4  5  6  8  6  7  6  4  7  5  7  7  7  9  7  6  8  4\n",
      "  5  6  8  9  8  5  4  5  5  4  7  6  7  7  7  7  6  8  7  9  3  5  7  5\n",
      "  8  8  8  7  7  6  5  8  6  7  5  8  9  3  3  4  5  4  5  6  6  6  6  7\n",
      "  3  7  7  6  7  7  5  4  7  6  8  5  8  6  8  5  6  6  3  6  4  7  6  7\n",
      "  5  5  7  8  5  6  2  6  5  8  4  5  6  7  5  8  5  4  6  7  8  6  5  7\n",
      "  5  6  7  3  6  7  8  5  5  4  5  8  7  7  6  6  6  4  7  5  4  6  6  5\n",
      "  5  7  5  3  6  6  8  8  7  3  7  4  6  5  4  4  4  4  6  5  5  6  7  8\n",
      "  7  5  7  4  7  8  6  7  4  8  7  7  7  7  6  5  6  5  4  6  5  5  6  8\n",
      "  5  3  6  6  6  7  4  7  7  6  5  5  5  6  6  5  7  6  4  4  4  8  5  6\n",
      "  6  5  6  5  8  6  4  7  4  7  9  6  7  7  3  6  5  6  7  5  6  7  6  7\n",
      "  8  5  6  8  4  6  8  5  8  4  5  9  7  7  4  6  7  6  5  4  6  7  7  4\n",
      "  7  8  7  7  7  4  9  3  7  6  6  7  7  4  7  7  8  5  7  7  3  8  4  8\n",
      "  7  5  6  5  6  6  3  8  3  7  6  9  5  6  7  5  6  6  7  5  8  7  5  5\n",
      "  7  3  5  5  8  7  4  2  5  7  8  7  7  4  6  5  7  5  8  7  6  5  9  9\n",
      "  6  4  6  5  7  6  6  7  6  7  6  5  7  8  4  2  6  6  1  8  5  6  4  4\n",
      "  8  5  8  5  8  6  6  8  7  5  2  9  5  4  3  6  4  9  6  4  8  7  7  6\n",
      "  5  7  5  6  6  7  7  7  3  3  8  8  5  7  5  7  6  8  6  5  5  5  4  9\n",
      "  8 10  8  4  4  7  9  6  5  4  6  8  5  5  8  7  6  6  4  6  5  6  4  8\n",
      "  6  8  5  6  7  7  5  8  7  6  8  8  2  8  7  6  7  4  9  7  6  8  7  6\n",
      "  3  7  5  4  6  6  3  6  2  9  5  5  4  6  5  5  4  3  4  7  5  3  7  6\n",
      "  7  6  6  6  9  8  6  7  6  2  7  4  4  5  5  6  5  7  5  6  7  4  4  6\n",
      "  5  5  6  3  6  6  5  5  6  6  6  3  7  6  6  2  4  4  8  4  7  3  6  6\n",
      "  7  8  5  7  4  8  7  8  2  6  6  5  7  7  4 10  8  9  4  5  7  6  3 10\n",
      "  7  6  5  6  4  4  6  6  6  6  6  5  7  4  7  5]\n"
     ]
    }
   ],
   "source": [
    "sample = dist_bin.rvs(1000)\n",
    "print(sample)"
   ]
  },
  {
   "cell_type": "code",
   "execution_count": 19,
   "id": "5da5cc0f",
   "metadata": {},
   "outputs": [
    {
     "name": "stdout",
     "output_type": "stream",
     "text": [
      "[0.0, 0.001, 0.018, 0.041, 0.137, 0.195, 0.232, 0.221, 0.115, 0.035, 0.005, 0]\n"
     ]
    }
   ],
   "source": [
    "c = np.bincount(sample)\n",
    "l = []\n",
    "\n",
    "for bin in c:\n",
    "    l.append(bin/1000)\n",
    "l.append(0)\n",
    "print(l)"
   ]
  },
  {
   "cell_type": "code",
   "execution_count": 20,
   "id": "652bd5c7",
   "metadata": {},
   "outputs": [
    {
     "data": {
      "image/png": "[encoded data removed]",
      "text/plain": [
       "<Figure size 432x288 with 1 Axes>"
      ]
     },
     "metadata": {
      "needs_background": "light"
     },
     "output_type": "display_data"
    }
   ],
   "source": [
    "plt.bar(np.arange(n+2),l)\n",
    "plt.show()"
   ]
  },
  {
   "cell_type": "code",
   "execution_count": 21,
   "id": "f3d7c4cd",
   "metadata": {},
   "outputs": [
    {
     "name": "stdout",
     "output_type": "stream",
     "text": [
      "5.907\n",
      "2.494845845845845\n"
     ]
    }
   ],
   "source": [
    "print(np.mean(sample))\n",
    "print(np.var(sample,ddof=1))"
   ]
  }
 ],
 "metadata": {
  "kernelspec": {
   "display_name": "Python 3 (ipykernel)",
   "language": "python",
   "name": "python3"
  },
  "language_info": {
   "codemirror_mode": {
    "name": "ipython",
    "version": 3
   },
   "file_extension": ".py",
   "mimetype": "text/x-python",
   "name": "python",
   "nbconvert_exporter": "python",
   "pygments_lexer": "ipython3",
   "version": "3.8.5"
  }
 },
 "nbformat": 4,
 "nbformat_minor": 5
}
