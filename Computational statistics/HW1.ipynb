{
 "cells": [
  {
   "cell_type": "markdown",
   "id": "6d1f887d",
   "metadata": {},
   "source": [
    "# Homework 1                                                                                             \n",
    "### (By October 10)"
   ]
  },
  {
   "cell_type": "code",
   "execution_count": 2,
   "id": "bc1e5cbd",
   "metadata": {},
   "outputs": [],
   "source": [
    "import numpy as np\n",
    "from scipy import stats\n",
    "from matplotlib import pyplot as plt"
   ]
  },
  {
   "cell_type": "markdown",
   "id": "e439cdd1",
   "metadata": {},
   "source": [
    "### 1. (dice game) 1부터 6까지의 수 중에 하나의 수를 임의로 선택하는 시행을 20번 시행하여 그 결과를 리스트 형태로 만들어 dice 라는 이름으로 저장하는 코드를 작성하시오 . (hint: np.random.~)"
   ]
  },
  {
   "cell_type": "code",
   "execution_count": 3,
   "id": "d92d66eb",
   "metadata": {},
   "outputs": [
    {
     "name": "stdout",
     "output_type": "stream",
     "text": [
      "[6 3 3 3 6 5 2 5 3 1 4 4 5 3 1 4 5 1 2 2]\n"
     ]
    }
   ],
   "source": [
    "num = np.arange(1,7)\n",
    "dice = np.random.choice(num,20,replace = True)\n",
    "print(dice)"
   ]
  },
  {
   "cell_type": "markdown",
   "id": "f2c2fc65",
   "metadata": {},
   "source": [
    "### 2. 위에서 얻은 dice의 결과값을 기준으로  각 수 (1부터 6까지) 에 해당하는 빈도를 구한 후, 해당 빈도를 기준으로 확률값을 구하여, p_dice 로 저장하는 코드를 작성하시오."
   ]
  },
  {
   "cell_type": "code",
   "execution_count": 5,
   "id": "878fb5cb",
   "metadata": {},
   "outputs": [
    {
     "name": "stdout",
     "output_type": "stream",
     "text": [
      "빈도 : [3 3 5 3 4 2]\n",
      "확률 : [0.15, 0.15, 0.25, 0.15, 0.2, 0.1]\n"
     ]
    }
   ],
   "source": [
    "bin_dice = np.bincount(dice)[1:]\n",
    "print(\"빈도 :\",bin_dice)\n",
    "p_dice = [i / 20 for i in bin_dice]\n",
    "print(\"확률 :\",p_dice)"
   ]
  },
  {
   "cell_type": "markdown",
   "id": "7a0c6889",
   "metadata": {},
   "source": [
    "### 3. 위 2 번 결과를 기준으로 세로 막대 그래프를 작성해 보시오."
   ]
  },
  {
   "cell_type": "code",
   "execution_count": 6,
   "id": "892f33b2",
   "metadata": {},
   "outputs": [
    {
     "data": {
      "image/png": "[encoded data removed]",
      "text/plain": [
       "<Figure size 432x288 with 1 Axes>"
      ]
     },
     "metadata": {
      "needs_background": "light"
     },
     "output_type": "display_data"
    }
   ],
   "source": [
    "plt.bar([1,2,3,4,5,6],p_dice)\n",
    "plt.xlabel(\"number\")\n",
    "plt.ylabel(\"probability\")\n",
    "plt.show()"
   ]
  },
  {
   "cell_type": "markdown",
   "id": "21a5dea8",
   "metadata": {},
   "source": [
    "### 4. 위 2번 결과를 기준으로 기대값과 분산을 구하는 코드를 작성해 보시오."
   ]
  },
  {
   "cell_type": "code",
   "execution_count": 7,
   "id": "b6946989",
   "metadata": {},
   "outputs": [
    {
     "name": "stdout",
     "output_type": "stream",
     "text": [
      "기댓값 : 3.4\n",
      "분산 : 2.4400000000000013\n"
     ]
    }
   ],
   "source": [
    "expectation = 0\n",
    "variance = 0\n",
    "for i in range(6):\n",
    "    expectation += ((i+1) * p_dice[i])\n",
    "    variance += (((i+1)**2) * p_dice[i])\n",
    "variance -= expectation**2\n",
    "print(\"기댓값 :\", expectation)\n",
    "print(\"분산 :\", variance)"
   ]
  },
  {
   "cell_type": "markdown",
   "id": "b696e3e5",
   "metadata": {},
   "source": [
    "### 5. 만약, 위의 dice game 을 20번 대신 200번 수행한다면, 현재의 결과가 바뀔 수 있는 지 아니면, 유지될 수 있는 지를 정당화 해 보시오. (기술하여도 되고, 코드를 통해 본인의 의견을 주장해도 됩니다.)"
   ]
  },
  {
   "cell_type": "code",
   "execution_count": 14,
   "id": "6ebc9d11",
   "metadata": {},
   "outputs": [
    {
     "name": "stdout",
     "output_type": "stream",
     "text": [
      "[4 4 5 6 1 3 5 4 6 1 6 2 2 1 5 6 6 5 6 3 1 3 6 6 3 3 1 5 1 1 1 5 1 4 4 5 4\n",
      " 1 4 2 3 1 4 1 4 3 4 3 5 5 3 6 1 3 5 6 5 2 5 2 6 5 1 3 3 5 2 2 2 5 3 6 3 6\n",
      " 5 4 6 3 5 6 5 1 2 3 1 6 1 3 3 3 1 4 2 1 1 4 2 3 1 3 5 6 5 5 6 3 1 2 4 3 1\n",
      " 1 1 5 4 5 1 6 6 1 5 2 3 4 6 3 1 4 4 6 3 1 1 4 2 2 1 1 4 5 2 4 5 2 6 6 3 4\n",
      " 5 3 4 5 1 2 2 3 6 5 6 4 5 3 2 3 4 2 6 1 2 1 6 1 4 2 4 4 2 4 1 1 4 6 6 5 2\n",
      " 2 2 5 5 5 3 5 2 3 5 4 1 3 3 6]\n",
      "빈도 : [39 28 35 31 36 31]\n",
      "확률 : [0.195, 0.14, 0.175, 0.155, 0.18, 0.155]\n",
      "기댓값 : 3.45\n",
      "분산 : 2.987499999999999\n"
     ]
    }
   ],
   "source": [
    "num = np.arange(1,7)\n",
    "dice = np.random.choice(num,200,replace = True)\n",
    "print(dice)\n",
    "bin_dice = np.bincount(dice)[1:]\n",
    "print(\"빈도 :\",bin_dice)\n",
    "p_dice = [i / 200 for i in bin_dice]\n",
    "print(\"확률 :\",p_dice)\n",
    "expectation = 0\n",
    "variance = 0\n",
    "for i in range(6):\n",
    "    expectation += ((i+1) * p_dice[i])\n",
    "    variance += (((i+1)**2) * p_dice[i])\n",
    "variance -= expectation**2\n",
    "print(\"기댓값 :\", expectation)\n",
    "print(\"분산 :\", variance)"
   ]
  },
  {
   "cell_type": "code",
   "execution_count": null,
   "id": "1ff14121",
   "metadata": {},
   "outputs": [],
   "source": []
  }
 ],
 "metadata": {
  "kernelspec": {
   "display_name": "Python 3 (ipykernel)",
   "language": "python",
   "name": "python3"
  },
  "language_info": {
   "codemirror_mode": {
    "name": "ipython",
    "version": 3
   },
   "file_extension": ".py",
   "mimetype": "text/x-python",
   "name": "python",
   "nbconvert_exporter": "python",
   "pygments_lexer": "ipython3",
   "version": "3.9.6"
  }
 },
 "nbformat": 4,
 "nbformat_minor": 5
}
