{
 "cells": [
  {
   "cell_type": "code",
   "execution_count": 1,
   "id": "5360a781",
   "metadata": {},
   "outputs": [],
   "source": [
    "import random\n",
    "from math import exp,log\n",
    "import numpy as np\n",
    "import matplotlib.pyplot as plt"
   ]
  },
  {
   "cell_type": "code",
   "execution_count": 2,
   "id": "4a20e514",
   "metadata": {},
   "outputs": [],
   "source": [
    "X = np.array([[0,0],[1,0],[0,1],[1,1]])\n",
    "Y = np.array([0,1,1,1])"
   ]
  },
  {
   "cell_type": "code",
   "execution_count": 3,
   "id": "0242f733",
   "metadata": {},
   "outputs": [],
   "source": [
    "class logistic_regression_model():\n",
    "    def __init__(self):\n",
    "        self.w = np.random.normal(size=2)\n",
    "        self.b = np.random.normal(size=1)\n",
    "    \n",
    "    def sigmoid(self,z):\n",
    "        return 1/(1+exp(-z))\n",
    "\n",
    "    def predict(self,x):\n",
    "        z = np.inner(self.w,x) + self.b[0]\n",
    "        a = self.sigmoid(z)\n",
    "        return a"
   ]
  },
  {
   "cell_type": "code",
   "execution_count": 4,
   "id": "06544660",
   "metadata": {},
   "outputs": [],
   "source": [
    "model = logistic_regression_model()"
   ]
  },
  {
   "cell_type": "code",
   "execution_count": 5,
   "id": "a445e946",
   "metadata": {},
   "outputs": [],
   "source": [
    "def train(X,Y,model,lr):\n",
    "    dw0 = 0.0\n",
    "    dw1 = 0.0\n",
    "    db = 0.0\n",
    "    m = len(X)\n",
    "    cost = 0.0\n",
    "    for x,y in zip(X,Y):\n",
    "        a = model.predict(x)\n",
    "        if y == 1:\n",
    "            cost -= log(a)\n",
    "        else:\n",
    "            cost -= log(1-a)\n",
    "            \n",
    "        x = np.append(x,1)\n",
    "        [dw0,dw1,db] = [dw0,dw1,db] + ((a-y)*x)\n",
    "        \n",
    "    cost /= m\n",
    "    model.w[0] -= lr * dw0/m\n",
    "    model.w[1] -= lr * dw1/m\n",
    "    model.b[0] -= lr * db/m\n",
    "    \n",
    "    return cost"
   ]
  },
  {
   "cell_type": "code",
   "execution_count": 6,
   "id": "9c86cf33",
   "metadata": {},
   "outputs": [],
   "source": [
    "def loss():\n",
    "    loss_ = []\n",
    "    for i in range(4):\n",
    "        loss = -Y[i]*log(model.predict(X[i]))-(1-Y[i])*log(1-model.predict(X[i]))\n",
    "        loss_.append(loss)\n",
    "    return loss_"
   ]
  },
  {
   "cell_type": "code",
   "execution_count": 7,
   "id": "99a7b4e9",
   "metadata": {
    "scrolled": false
   },
   "outputs": [
    {
     "name": "stdout",
     "output_type": "stream",
     "text": [
      "0 1.538317598912705\n",
      "500 0.12691326110937204\n",
      "1000 0.07847051135283631\n",
      "1500 0.056228500872089485\n",
      "2000 0.04359541569407761\n",
      "2500 0.03550348050457534\n",
      "3000 0.02989862816201747\n",
      "3500 0.025796721824498308\n",
      "4000 0.02266958461727535\n",
      "4500 0.020209296016191036\n",
      "5000 0.018224629465074933\n",
      "5500 0.016590748956732383\n",
      "6000 0.015222794811281552\n",
      "6500 0.014061119392364298\n",
      "7000 0.01306260024847444\n",
      "7500 0.012195304968762475\n",
      "8000 0.011435092932234053\n",
      "8500 0.010763381845120684\n",
      "9000 0.010165639257112608\n",
      "9500 0.009630339057937025\n"
     ]
    }
   ],
   "source": [
    "cost1 = []\n",
    "epoch_ = []\n",
    "for epoch in range(10000):\n",
    "    cost = train(X,Y,model,0.1)\n",
    "    cost1.append(cost)\n",
    "    epoch_.append(epoch)\n",
    "    if (epoch % 500 == 0):\n",
    "        print(epoch, cost)"
   ]
  },
  {
   "cell_type": "code",
   "execution_count": 8,
   "id": "8cf14fc7",
   "metadata": {},
   "outputs": [
    {
     "data": {
      "text/plain": [
       "0.020190929207035933"
      ]
     },
     "execution_count": 8,
     "metadata": {},
     "output_type": "execute_result"
    }
   ],
   "source": [
    "model.predict([0,0])"
   ]
  },
  {
   "cell_type": "code",
   "execution_count": 9,
   "id": "9de4a4f6",
   "metadata": {},
   "outputs": [
    {
     "data": {
      "text/plain": [
       "0.9919431766449341"
      ]
     },
     "execution_count": 9,
     "metadata": {},
     "output_type": "execute_result"
    }
   ],
   "source": [
    "model.predict([0,1])"
   ]
  },
  {
   "cell_type": "code",
   "execution_count": 10,
   "id": "61753a7e",
   "metadata": {},
   "outputs": [
    {
     "data": {
      "text/plain": [
       "0.9919282253960159"
      ]
     },
     "execution_count": 10,
     "metadata": {},
     "output_type": "execute_result"
    }
   ],
   "source": [
    "model.predict([1,0])"
   ]
  },
  {
   "cell_type": "code",
   "execution_count": 11,
   "id": "d33487b3",
   "metadata": {},
   "outputs": [
    {
     "data": {
      "text/plain": [
       "0.9999986379906648"
      ]
     },
     "execution_count": 11,
     "metadata": {},
     "output_type": "execute_result"
    }
   ],
   "source": [
    "model.predict([1,1])"
   ]
  },
  {
   "cell_type": "code",
   "execution_count": 12,
   "id": "d11d5bb4",
   "metadata": {},
   "outputs": [
    {
     "data": {
      "text/plain": [
       "[0.0203975520199809,\n",
       " 0.008104527746335645,\n",
       " 0.008089454945847506,\n",
       " 1.3620102627395853e-06]"
      ]
     },
     "execution_count": 12,
     "metadata": {},
     "output_type": "execute_result"
    }
   ],
   "source": [
    "loss1 = loss()\n",
    "loss1"
   ]
  },
  {
   "cell_type": "code",
   "execution_count": 13,
   "id": "6cb8f167",
   "metadata": {},
   "outputs": [
    {
     "name": "stdout",
     "output_type": "stream",
     "text": [
      "0 0.009148224180606698\n",
      "500 0.009102637657450702\n",
      "1000 0.009057499950921076\n",
      "1500 0.009012804496779782\n",
      "2000 0.008968544857723746\n",
      "2500 0.008924714720338916\n",
      "3000 0.008881307892143269\n",
      "3500 0.008838318298713182\n",
      "4000 0.008795739980890364\n",
      "4500 0.008753567092069075\n",
      "5000 0.008711793895558498\n",
      "5500 0.008670414762018656\n",
      "6000 0.008629424166968073\n",
      "6500 0.008588816688360198\n",
      "7000 0.008548587004226626\n",
      "7500 0.008508729890384705\n",
      "8000 0.008469240218208001\n",
      "8500 0.008430112952457533\n",
      "9000 0.008391343149171308\n",
      "9500 0.008352925953610408\n"
     ]
    }
   ],
   "source": [
    "cost2 = []\n",
    "for epoch in range(10000):\n",
    "    cost = train(X,Y,model,0.01)\n",
    "    cost2.append(cost)\n",
    "    if (epoch % 500 == 0):\n",
    "        print(epoch, cost)"
   ]
  },
  {
   "cell_type": "code",
   "execution_count": 14,
   "id": "7232a850",
   "metadata": {},
   "outputs": [
    {
     "data": {
      "text/plain": [
       "0.018363014373291447"
      ]
     },
     "execution_count": 14,
     "metadata": {},
     "output_type": "execute_result"
    }
   ],
   "source": [
    "model.predict([0,0])"
   ]
  },
  {
   "cell_type": "code",
   "execution_count": 15,
   "id": "d1adf89d",
   "metadata": {},
   "outputs": [
    {
     "data": {
      "text/plain": [
       "0.9926703101503105"
      ]
     },
     "execution_count": 15,
     "metadata": {},
     "output_type": "execute_result"
    }
   ],
   "source": [
    "model.predict([0,1])"
   ]
  },
  {
   "cell_type": "code",
   "execution_count": 16,
   "id": "68b9671b",
   "metadata": {},
   "outputs": [
    {
     "data": {
      "text/plain": [
       "0.9926590637335025"
      ]
     },
     "execution_count": 16,
     "metadata": {},
     "output_type": "execute_result"
    }
   ],
   "source": [
    "model.predict([1,0])"
   ]
  },
  {
   "cell_type": "code",
   "execution_count": 17,
   "id": "2415a702",
   "metadata": {},
   "outputs": [
    {
     "data": {
      "text/plain": [
       "0.9999989785325687"
      ]
     },
     "execution_count": 17,
     "metadata": {},
     "output_type": "execute_result"
    }
   ],
   "source": [
    "model.predict([1,1])"
   ]
  },
  {
   "cell_type": "code",
   "execution_count": 18,
   "id": "8ad6553c",
   "metadata": {},
   "outputs": [
    {
     "data": {
      "text/plain": [
       "[0.018533707376453275,\n",
       " 0.0073680135355202025,\n",
       " 0.007356684013118525,\n",
       " 1.0214679530040344e-06]"
      ]
     },
     "execution_count": 18,
     "metadata": {},
     "output_type": "execute_result"
    }
   ],
   "source": [
    "loss2 = loss()\n",
    "loss2"
   ]
  },
  {
   "cell_type": "code",
   "execution_count": 19,
   "id": "d8112ecf",
   "metadata": {},
   "outputs": [
    {
     "name": "stdout",
     "output_type": "stream",
     "text": [
      "0 0.008314856598261252\n",
      "500 0.00831106862836777\n",
      "1000 0.008307284085314698\n",
      "1500 0.008303502964474357\n",
      "2000 0.008299725261227572\n",
      "2500 0.008295950970963466\n",
      "3000 0.008292180089079355\n",
      "3500 0.008288412610980853\n",
      "4000 0.008284648532081652\n",
      "4500 0.008280887847803963\n",
      "5000 0.008277130553577778\n",
      "5500 0.00827337664484154\n",
      "6000 0.008269626117041887\n",
      "6500 0.008265878965633385\n",
      "7000 0.008262135186078877\n",
      "7500 0.008258394773849266\n",
      "8000 0.008254657724423293\n",
      "8500 0.008250924033288283\n",
      "9000 0.00824719369593908\n",
      "9500 0.008243466707878995\n"
     ]
    }
   ],
   "source": [
    "cost3 = []\n",
    "for epoch in range(10000):\n",
    "    cost = train(X,Y,model,0.001)\n",
    "    cost3.append(cost)\n",
    "    if (epoch % 500 == 0):\n",
    "        print(epoch, cost)"
   ]
  },
  {
   "cell_type": "code",
   "execution_count": 20,
   "id": "a3e6bb8a",
   "metadata": {},
   "outputs": [
    {
     "data": {
      "text/plain": [
       "0.01819814813625657"
      ]
     },
     "execution_count": 20,
     "metadata": {},
     "output_type": "execute_result"
    }
   ],
   "source": [
    "model.predict([0,0])"
   ]
  },
  {
   "cell_type": "code",
   "execution_count": 21,
   "id": "5077f0d9",
   "metadata": {},
   "outputs": [
    {
     "data": {
      "text/plain": [
       "0.9927359214584696"
      ]
     },
     "execution_count": 21,
     "metadata": {},
     "output_type": "execute_result"
    }
   ],
   "source": [
    "model.predict([0,1])"
   ]
  },
  {
   "cell_type": "code",
   "execution_count": 22,
   "id": "6abede05",
   "metadata": {},
   "outputs": [
    {
     "data": {
      "text/plain": [
       "0.9927249753084124"
      ]
     },
     "execution_count": 22,
     "metadata": {},
     "output_type": "execute_result"
    }
   ],
   "source": [
    "model.predict([1,0])"
   ]
  },
  {
   "cell_type": "code",
   "execution_count": 23,
   "id": "80cd623e",
   "metadata": {},
   "outputs": [
    {
     "data": {
      "text/plain": [
       "0.9999990060712904"
      ]
     },
     "execution_count": 23,
     "metadata": {},
     "output_type": "execute_result"
    }
   ],
   "source": [
    "model.predict([1,1])"
   ]
  },
  {
   "cell_type": "code",
   "execution_count": 24,
   "id": "790b4674",
   "metadata": {
    "scrolled": true
   },
   "outputs": [
    {
     "data": {
      "text/plain": [
       "[0.018365771167517808,\n",
       " 0.007301616734057153,\n",
       " 0.00729059042769667,\n",
       " 9.939292035058564e-07]"
      ]
     },
     "execution_count": 24,
     "metadata": {},
     "output_type": "execute_result"
    }
   ],
   "source": [
    "loss3 = loss()\n",
    "loss3"
   ]
  },
  {
   "cell_type": "code",
   "execution_count": 25,
   "id": "201cf19c",
   "metadata": {},
   "outputs": [
    {
     "data": {
      "image/png": "[encoded data removed]",
      "text/plain": [
       "<Figure size 432x288 with 1 Axes>"
      ]
     },
     "metadata": {
      "needs_background": "light"
     },
     "output_type": "display_data"
    }
   ],
   "source": [
    "plt.plot(epoch_,cost1)\n",
    "plt.plot(epoch_,cost2)\n",
    "plt.plot(epoch_,cost3)\n",
    "plt.xlabel(\"epoch\")\n",
    "plt.ylabel(\"cost\")\n",
    "plt.show()"
   ]
  },
  {
   "cell_type": "code",
   "execution_count": 26,
   "id": "d5441273",
   "metadata": {
    "scrolled": false
   },
   "outputs": [
    {
     "data": {
      "image/png": "[encoded data removed]",
      "text/plain": [
       "<Figure size 432x288 with 1 Axes>"
      ]
     },
     "metadata": {
      "needs_background": "light"
     },
     "output_type": "display_data"
    }
   ],
   "source": [
    "test = [\"(0,0)\",\"(0,1)\",\"(1,0)\",\"(1,1)\"]\n",
    "plt.plot(test,loss1,'o')\n",
    "plt.plot(test,loss2,'o')\n",
    "plt.plot(test,loss3,'o')\n",
    "plt.xlabel(\"value\")\n",
    "plt.ylabel(\"loss\")\n",
    "plt.show()"
   ]
  }
 ],
 "metadata": {
  "kernelspec": {
   "display_name": "Python 3 (ipykernel)",
   "language": "python",
   "name": "python3"
  },
  "language_info": {
   "codemirror_mode": {
    "name": "ipython",
    "version": 3
   },
   "file_extension": ".py",
   "mimetype": "text/x-python",
   "name": "python",
   "nbconvert_exporter": "python",
   "pygments_lexer": "ipython3",
   "version": "3.9.6"
  }
 },
 "nbformat": 4,
 "nbformat_minor": 5
}
