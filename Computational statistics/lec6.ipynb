{
 "cells": [
  {
   "cell_type": "code",
   "execution_count": 2,
   "id": "cc4b351f",
   "metadata": {},
   "outputs": [],
   "source": [
    "import numpy as np\n",
    "import pandas as pd\n",
    "from scipy import stats\n",
    "from matplotlib import pyplot as plt"
   ]
  },
  {
   "cell_type": "code",
   "execution_count": 6,
   "id": "f4228977",
   "metadata": {},
   "outputs": [],
   "source": [
    "group_0 = [9,8,7,8,8,9,8]\n",
    "group_50 = [7,6,6,7,8,7,6]\n",
    "group_100 = [4,3,2,3,4,3,2]\n",
    "group_all = group_0 + group_50 + group_100"
   ]
  },
  {
   "cell_type": "code",
   "execution_count": 3,
   "id": "ca49f959",
   "metadata": {},
   "outputs": [
    {
     "name": "stdout",
     "output_type": "stream",
     "text": [
      "H0: These samples are from the same population\n",
      "H1: Not all samples are from the same population\n"
     ]
    }
   ],
   "source": [
    "print(\"H0: These samples are from the same population\")\n",
    "print(\"H1: Not all samples are from the same population\")"
   ]
  },
  {
   "cell_type": "code",
   "execution_count": 4,
   "id": "ca77d2e9",
   "metadata": {},
   "outputs": [
    {
     "name": "stdout",
     "output_type": "stream",
     "text": [
      "The samples have the same variance\n"
     ]
    }
   ],
   "source": [
    "levene_pval, W_stat = stats.levene(group_0,group_50,group_100)\n",
    "\n",
    "alpha = 0.05\n",
    "if levene_pval < alpha:\n",
    "    print(\"The samples don't have the same variance\")\n",
    "else:\n",
    "    print(\"The samples have the same variance\")"
   ]
  },
  {
   "cell_type": "code",
   "execution_count": 5,
   "id": "9f758b59",
   "metadata": {},
   "outputs": [
    {
     "name": "stdout",
     "output_type": "stream",
     "text": [
      "MSb: 49.33333333333333\n",
      "MSw: 0.5714285714285714\n",
      "test statistic, F : 86.33333333333333\n"
     ]
    }
   ],
   "source": [
    "mean_all = np.mean(group_all)\n",
    "\n",
    "ssb = np.sum([len(i)*(np.mean(i)-mean_all)**2 for i in [group_0,group_50,group_100]])\n",
    "MSb = ssb/(3-1)\n",
    "\n",
    "print(\"MSb: {}\".format(MSb))\n",
    "\n",
    "ssw = np.sum([(len(i)-1)*np.var(i,ddof=1) for i in [group_0,group_50,group_100]])\n",
    "dfw = np.sum([len(i)-1 for i in [group_0,group_50,group_100]])\n",
    "MSw = ssw/dfw\n",
    "\n",
    "print(\"MSw: {}\".format(MSw))\n",
    "\n",
    "F = MSb/MSw\n",
    "print(\"test statistic, F : {}\".format(F))"
   ]
  },
  {
   "cell_type": "code",
   "execution_count": 6,
   "id": "11f7126f",
   "metadata": {},
   "outputs": [
    {
     "name": "stdout",
     "output_type": "stream",
     "text": [
      "critical value : 3.554557145661787\n",
      "We can reject H0\n"
     ]
    }
   ],
   "source": [
    "f_dist = stats.f(2, dfw)\n",
    "alpha = 0.05\n",
    "\n",
    "rl = f_dist.ppf(1-alpha)\n",
    "print(\"critical value : {}\".format(rl))\n",
    "\n",
    "if F>rl:\n",
    "    print(\"We can reject H0\")\n",
    "else:\n",
    "    print(\"We can accept H0\")"
   ]
  },
  {
   "cell_type": "code",
   "execution_count": 7,
   "id": "f7595707",
   "metadata": {},
   "outputs": [
    {
     "name": "stdout",
     "output_type": "stream",
     "text": [
      "test statistics F : 86.3333333333334\n",
      "p-value : 5.956341358737431e-10\n",
      "True\n"
     ]
    }
   ],
   "source": [
    "f_stat,p_val = stats.f_oneway(group_0,group_50,group_100)\n",
    "\n",
    "print(\"test statistics F : {}\".format(f_stat))\n",
    "print(\"p-value : {}\".format(p_val))\n",
    "\n",
    "print(p_val < alpha)"
   ]
  },
  {
   "cell_type": "code",
   "execution_count": 9,
   "id": "334456d5",
   "metadata": {},
   "outputs": [
    {
     "name": "stdout",
     "output_type": "stream",
     "text": [
      "Effect size:  0.9056\n"
     ]
    }
   ],
   "source": [
    "eta2 = ssb / (ssb+ssw)\n",
    "\n",
    "print(\"Effect size: \", round(eta2,4))"
   ]
  },
  {
   "cell_type": "code",
   "execution_count": null,
   "id": "e5622c05",
   "metadata": {},
   "outputs": [],
   "source": []
  }
 ],
 "metadata": {
  "kernelspec": {
   "display_name": "Python 3 (ipykernel)",
   "language": "python",
   "name": "python3"
  },
  "language_info": {
   "codemirror_mode": {
    "name": "ipython",
    "version": 3
   },
   "file_extension": ".py",
   "mimetype": "text/x-python",
   "name": "python",
   "nbconvert_exporter": "python",
   "pygments_lexer": "ipython3",
   "version": "3.8.5"
  }
 },
 "nbformat": 4,
 "nbformat_minor": 5
}
