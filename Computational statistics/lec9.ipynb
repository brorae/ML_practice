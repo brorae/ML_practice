{
 "cells": [
  {
   "cell_type": "code",
   "execution_count": 1,
   "id": "b6ce71c2",
   "metadata": {},
   "outputs": [],
   "source": [
    "import numpy as np\n",
    "import pandas as pd\n",
    "from scipy import stats\n",
    "import matplotlib.pyplot as plt"
   ]
  },
  {
   "cell_type": "code",
   "execution_count": 4,
   "id": "afa63eb6",
   "metadata": {},
   "outputs": [],
   "source": [
    "data1 = pd.read_csv(\"class1.csv\",header=0)"
   ]
  },
  {
   "cell_type": "code",
   "execution_count": 13,
   "id": "0bcd1cf8",
   "metadata": {},
   "outputs": [
    {
     "name": "stdout",
     "output_type": "stream",
     "text": [
      "B    260\n",
      "C    130\n",
      "A    110\n",
      "Name: class, dtype: int64\n"
     ]
    }
   ],
   "source": [
    "obs_freq = data1['class'].value_counts()"
   ]
  },
  {
   "cell_type": "code",
   "execution_count": 7,
   "id": "2f733fa0",
   "metadata": {},
   "outputs": [
    {
     "data": {
      "text/plain": [
       "[250.0, 150.0, 100.0]"
      ]
     },
     "execution_count": 7,
     "metadata": {},
     "output_type": "execute_result"
    }
   ],
   "source": [
    "pop_0 = [0.5, 0.3, 0.2]\n",
    "n = np.sum(obs_freq)\n",
    "\n",
    "exp_freq = [n*j for j in pop_0]\n",
    "exp_freq"
   ]
  },
  {
   "cell_type": "code",
   "execution_count": 19,
   "id": "289c5cc1",
   "metadata": {},
   "outputs": [
    {
     "name": "stdout",
     "output_type": "stream",
     "text": [
      "test statistics : 4.067\n"
     ]
    }
   ],
   "source": [
    "T = np.sum((obs_freq - exp_freq)*(obs_freq - exp_freq)/exp_freq)\n",
    "print(\"test statistics :\", round(T,3))"
   ]
  },
  {
   "cell_type": "code",
   "execution_count": 21,
   "id": "286a39ef",
   "metadata": {},
   "outputs": [
    {
     "name": "stdout",
     "output_type": "stream",
     "text": [
      "Accept H0\n"
     ]
    }
   ],
   "source": [
    "alpha = 0.05\n",
    "dist_chi = stats.chi2(2)\n",
    "\n",
    "ul = dist_chi.ppf(1-alpha)\n",
    "\n",
    "if (T > ul):\n",
    "    print(\"Reject H0\")\n",
    "else :\n",
    "    print(\"Accept H0\")"
   ]
  },
  {
   "cell_type": "code",
   "execution_count": 23,
   "id": "c1861291",
   "metadata": {},
   "outputs": [
    {
     "name": "stdout",
     "output_type": "stream",
     "text": [
      "Effect size:  0.064\n"
     ]
    }
   ],
   "source": [
    "eff_size = np.sqrt(T / (np.sum(n)*(len(exp_freq)-1)))\n",
    "\n",
    "print(\"Effect size: \", round(eff_size, 3))"
   ]
  },
  {
   "cell_type": "code",
   "execution_count": 24,
   "id": "275705c9",
   "metadata": {},
   "outputs": [
    {
     "name": "stdout",
     "output_type": "stream",
     "text": [
      "Test statistic:  4.067\n",
      "pvalue :  0.131\n"
     ]
    }
   ],
   "source": [
    "T, pval = stats.chisquare(obs_freq, exp_freq)\n",
    "\n",
    "print(\"Test statistic: \", round(T,3))\n",
    "print(\"pvalue : \", round(pval, 3))"
   ]
  },
  {
   "cell_type": "code",
   "execution_count": null,
   "id": "d5a00197",
   "metadata": {},
   "outputs": [],
   "source": []
  }
 ],
 "metadata": {
  "kernelspec": {
   "display_name": "Python 3 (ipykernel)",
   "language": "python",
   "name": "python3"
  },
  "language_info": {
   "codemirror_mode": {
    "name": "ipython",
    "version": 3
   },
   "file_extension": ".py",
   "mimetype": "text/x-python",
   "name": "python",
   "nbconvert_exporter": "python",
   "pygments_lexer": "ipython3",
   "version": "3.8.5"
  }
 },
 "nbformat": 4,
 "nbformat_minor": 5
}
