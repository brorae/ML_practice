{
 "cells": [
  {
   "cell_type": "code",
   "execution_count": 1,
   "id": "c5935458",
   "metadata": {},
   "outputs": [],
   "source": [
    "import numpy as np\n",
    "from matplotlib import pyplot as plt"
   ]
  },
  {
   "cell_type": "markdown",
   "id": "4ac8faf4",
   "metadata": {},
   "source": [
    "# Data preparation"
   ]
  },
  {
   "cell_type": "code",
   "execution_count": 2,
   "id": "0fb1d4e4",
   "metadata": {},
   "outputs": [],
   "source": [
    "x_seeds = np.array([(0,0),(1,0),(0,1),(1,1)], dtype = float)\n",
    "y_seeds = np.array([0,1,1,0])"
   ]
  },
  {
   "cell_type": "code",
   "execution_count": 3,
   "id": "5c0cae4c",
   "metadata": {},
   "outputs": [],
   "source": [
    "N = 1000\n",
    "idxs = np.random.randint(0,4,N)"
   ]
  },
  {
   "cell_type": "code",
   "execution_count": 4,
   "id": "53de7dae",
   "metadata": {},
   "outputs": [],
   "source": [
    "X = x_seeds[idxs]\n",
    "Y = y_seeds[idxs]"
   ]
  },
  {
   "cell_type": "code",
   "execution_count": 5,
   "id": "003b7a5f",
   "metadata": {},
   "outputs": [],
   "source": [
    "X += np.random.normal(scale=0.25, size=X.shape)"
   ]
  },
  {
   "cell_type": "markdown",
   "id": "fadda2cc",
   "metadata": {},
   "source": [
    "# Data plotting"
   ]
  },
  {
   "cell_type": "code",
   "execution_count": 6,
   "id": "299e6539",
   "metadata": {},
   "outputs": [],
   "source": [
    "idx_1 = np.where(Y==1)\n",
    "idx_0 = np.where(Y==0)"
   ]
  },
  {
   "cell_type": "code",
   "execution_count": 7,
   "id": "594480db",
   "metadata": {},
   "outputs": [],
   "source": [
    "X_0 = X[idx_0]\n",
    "Y_0 = Y[idx_0]"
   ]
  },
  {
   "cell_type": "code",
   "execution_count": 8,
   "id": "ba3dab41",
   "metadata": {},
   "outputs": [],
   "source": [
    "X_1 = X[idx_1]\n",
    "Y_1 = Y[idx_1]"
   ]
  },
  {
   "cell_type": "code",
   "execution_count": 9,
   "id": "1bbd5592",
   "metadata": {},
   "outputs": [
    {
     "data": {
      "image/png": "[encoded data removed]",
      "text/plain": [
       "<Figure size 432x288 with 1 Axes>"
      ]
     },
     "metadata": {
      "needs_background": "light"
     },
     "output_type": "display_data"
    }
   ],
   "source": [
    "plt.plot(X_0[:,0],X_0[:,1],\"r^\")\n",
    "plt.plot(X_1[:,0],X_1[:,1],\"bx\")\n",
    "plt.show()"
   ]
  },
  {
   "cell_type": "markdown",
   "id": "fadcf1d9",
   "metadata": {},
   "source": [
    "# Model"
   ]
  },
  {
   "cell_type": "code",
   "execution_count": 10,
   "id": "8da25ea2",
   "metadata": {},
   "outputs": [],
   "source": [
    "class shallow_neural_network():\n",
    "    def __init__(self, num_input_features, num_hiddens):\n",
    "        self.num_input_features = num_input_features\n",
    "        self.num_hiddens = num_hiddens\n",
    "        \n",
    "        self.W1 = np.random.normal(size = (num_hiddens, num_input_features)) #(3,2)\n",
    "        self.b1 = np.random.normal(size = num_hiddens) #(3,)\n",
    "        self.W2 = np.random.normal(size = num_hiddens) #(3,)\n",
    "        self.b2 = np.random.normal(size = 1) #(1,)\n",
    "        \n",
    "    def sigmoid(self,z):\n",
    "        return 1/(1 + np.exp(-z))\n",
    "    \n",
    "    def predict(self,x):\n",
    "        z1 = np.matmul(self.W1,x) + self.b1 #(3,)\n",
    "        a1 = np.tanh(z1) #(3,)\n",
    "        z2 = np.matmul(self.W2,a1) + self.b2 #(1,)\n",
    "        a2 = self.sigmoid(z2) #(1,)\n",
    "        return a2, (z1,a1,z2,a2)\n",
    "        "
   ]
  },
  {
   "cell_type": "code",
   "execution_count": 11,
   "id": "68906616",
   "metadata": {
    "scrolled": true
   },
   "outputs": [],
   "source": [
    "model = shallow_neural_network(2,3)"
   ]
  },
  {
   "cell_type": "markdown",
   "id": "ced74b23",
   "metadata": {},
   "source": [
    "# Train"
   ]
  },
  {
   "cell_type": "code",
   "execution_count": 12,
   "id": "380fe864",
   "metadata": {},
   "outputs": [],
   "source": [
    "def train(X, Y, model, lr = 0.1):\n",
    "    dW1 = np.zeros_like(model.W1)\n",
    "    db1 = np.zeros_like(model.b1)\n",
    "    dW2 = np.zeros_like(model.W2)\n",
    "    db2 = np.zeros_like(model.b2)\n",
    "    m = len(X)\n",
    "    cost = 0.0\n",
    "    for x,y in zip(X,Y):\n",
    "        a2, (z1,a1,z2,_) = model.predict(x)\n",
    "        if y == 1:\n",
    "            cost -= np.log(a2)\n",
    "        else:\n",
    "            cost -= np.log(1-a2)\n",
    "            \n",
    "        diff = a2-y\n",
    "        \n",
    "        db2 += diff\n",
    "        \n",
    "        # for i in range(model.num_hiddens):\n",
    "        #     dW2[i] += a1[i]*diff\n",
    "        dW2 += a1*diff\n",
    "            \n",
    "        # for i in range(model.num_hiddens):\n",
    "        #     db1[i] += (1-a1[i]**2)*model.W2[i]*diff\n",
    "        db1 += (1-a1**2)*model.W2*diff\n",
    "            \n",
    "        # for i in range(model.num_hiddens):\n",
    "        #     for j in range(model.num_input_features):\n",
    "        #         dW1[i,j]  += x[j]*(1-a1[i]**2)*model.W2[i]*diff    \n",
    "                   \n",
    "        x = x.reshape(1,model.num_input_features)\n",
    "        tmp = (1-a1**2)*model.W2*diff\n",
    "        tmp = tmp.reshape(model.num_hiddens,1)\n",
    "        dW1 += tmp * x\n",
    "       \n",
    "                \n",
    "    cost /= m\n",
    "    model.W1 -= lr * dW1/m\n",
    "    model.b1 -= lr * db1/m\n",
    "    model.W2 -= lr * dW2/m\n",
    "    model.b2 -= lr * db2/m\n",
    "    \n",
    "    return cost"
   ]
  },
  {
   "cell_type": "code",
   "execution_count": 13,
   "id": "6e6ceb42",
   "metadata": {},
   "outputs": [
    {
     "name": "stdout",
     "output_type": "stream",
     "text": [
      "0 [1.30836671]\n",
      "10 [0.65215758]\n",
      "20 [0.59727557]\n",
      "30 [0.54930441]\n",
      "40 [0.49706273]\n",
      "50 [0.44514712]\n",
      "60 [0.39983693]\n",
      "70 [0.36382995]\n",
      "80 [0.33626476]\n",
      "90 [0.31489788]\n",
      "100 [0.29759019]\n",
      "110 [0.2828387]\n",
      "120 [0.26975361]\n",
      "130 [0.25782196]\n",
      "140 [0.24671922]\n",
      "150 [0.23624698]\n",
      "160 [0.22632555]\n",
      "170 [0.21697447]\n",
      "180 [0.20826923]\n",
      "190 [0.20029086]\n",
      "200 [0.19308927]\n",
      "210 [0.18667083]\n",
      "220 [0.1810044]\n",
      "230 [0.17603404]\n",
      "240 [0.17169116]\n"
     ]
    }
   ],
   "source": [
    "for epoch in range(250):\n",
    "    cost = train(X,Y,model,1.0)\n",
    "    if epoch % 10 == 0:\n",
    "        print(epoch,cost)"
   ]
  },
  {
   "cell_type": "markdown",
   "id": "f184c43f",
   "metadata": {},
   "source": [
    "# Test"
   ]
  },
  {
   "cell_type": "code",
   "execution_count": 14,
   "id": "f146ecbe",
   "metadata": {},
   "outputs": [
    {
     "name": "stdout",
     "output_type": "stream",
     "text": [
      "0.022936995420484673\n",
      "0.9931924216212252\n",
      "0.950725344551624\n",
      "0.00989952224426511\n"
     ]
    }
   ],
   "source": [
    "print(model.predict((1,1))[0].item())\n",
    "print(model.predict((1,0))[0].item())\n",
    "print(model.predict((0,1))[0].item())\n",
    "print(model.predict((0,0))[0].item())"
   ]
  }
 ],
 "metadata": {
  "kernelspec": {
   "display_name": "Python 3",
   "language": "python",
   "name": "python3"
  },
  "language_info": {
   "codemirror_mode": {
    "name": "ipython",
    "version": 3
   },
   "file_extension": ".py",
   "mimetype": "text/x-python",
   "name": "python",
   "nbconvert_exporter": "python",
   "pygments_lexer": "ipython3",
   "version": "3.8.8"
  }
 },
 "nbformat": 4,
 "nbformat_minor": 5
}
