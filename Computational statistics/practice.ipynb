{
 "cells": [
  {
   "cell_type": "code",
   "execution_count": 1,
   "id": "4deaa8dd",
   "metadata": {},
   "outputs": [],
   "source": [
    "import numpy as np\n",
    "import pandas as pd\n",
    "from scipy import stats\n",
    "from matplotlib import pyplot as plt"
   ]
  },
  {
   "cell_type": "code",
   "execution_count": 2,
   "id": "1894fbdf",
   "metadata": {},
   "outputs": [
    {
     "data": {
      "text/plain": [
       "77"
      ]
     },
     "execution_count": 2,
     "metadata": {},
     "output_type": "execute_result"
    }
   ],
   "source": [
    "np.random.randint(0,100)"
   ]
  },
  {
   "cell_type": "code",
   "execution_count": 3,
   "id": "162a2e06",
   "metadata": {},
   "outputs": [
    {
     "data": {
      "text/plain": [
       "array([8, 9, 3, 3, 7])"
      ]
     },
     "execution_count": 3,
     "metadata": {},
     "output_type": "execute_result"
    }
   ],
   "source": [
    "a = np.arange(10)\n",
    "np.random.choice(a,5,replace=True)"
   ]
  },
  {
   "cell_type": "code",
   "execution_count": 4,
   "id": "be4a8fcb",
   "metadata": {},
   "outputs": [
    {
     "data": {
      "image/png": "[encoded data removed]",
      "text/plain": [
       "<Figure size 432x288 with 1 Axes>"
      ]
     },
     "metadata": {
      "needs_background": "light"
     },
     "output_type": "display_data"
    }
   ],
   "source": [
    "dist_norm = stats.norm(loc=0,scale=1)\n",
    "x = np.linspace(-5,5,100)\n",
    "y = dist_norm.pdf(x)\n",
    "\n",
    "plt.plot(x,y)\n",
    "plt.show()"
   ]
  },
  {
   "cell_type": "code",
   "execution_count": 5,
   "id": "0e282ab9",
   "metadata": {},
   "outputs": [
    {
     "data": {
      "image/png": "[encoded data removed]",
      "text/plain": [
       "<Figure size 432x288 with 1 Axes>"
      ]
     },
     "metadata": {
      "needs_background": "light"
     },
     "output_type": "display_data"
    }
   ],
   "source": [
    "y2 = dist_norm.cdf(x)\n",
    "\n",
    "plt.plot(x,y2)\n",
    "plt.show()"
   ]
  },
  {
   "cell_type": "code",
   "execution_count": 6,
   "id": "37fcda9e",
   "metadata": {},
   "outputs": [
    {
     "name": "stdout",
     "output_type": "stream",
     "text": [
      "-1.6448536269514729 1.6448536269514722\n"
     ]
    }
   ],
   "source": [
    "a = dist_norm.ppf(0.05)\n",
    "b = dist_norm.ppf(0.95)\n",
    "print(a, b)"
   ]
  },
  {
   "cell_type": "code",
   "execution_count": 7,
   "id": "dc7836ad",
   "metadata": {},
   "outputs": [
    {
     "data": {
      "text/plain": [
       "(array([ 1.,  1.,  1.,  2.,  1.,  1.,  3.,  0.,  6.,  3.,  8., 13., 15.,\n",
       "        14., 13., 11., 20., 32., 39., 27., 28., 44., 33., 49., 44., 42.,\n",
       "        46., 59., 38., 47., 44., 46., 32., 22., 32., 39., 34., 24., 20.,\n",
       "        16.,  9.,  6.,  8.,  4.,  6.,  2.,  7.,  3.,  2.,  3.]),\n",
       " array([-3.15695811, -3.03863788, -2.92031765, -2.80199743, -2.6836772 ,\n",
       "        -2.56535697, -2.44703674, -2.32871651, -2.21039629, -2.09207606,\n",
       "        -1.97375583, -1.8554356 , -1.73711538, -1.61879515, -1.50047492,\n",
       "        -1.38215469, -1.26383447, -1.14551424, -1.02719401, -0.90887378,\n",
       "        -0.79055355, -0.67223333, -0.5539131 , -0.43559287, -0.31727264,\n",
       "        -0.19895242, -0.08063219,  0.03768804,  0.15600827,  0.27432849,\n",
       "         0.39264872,  0.51096895,  0.62928918,  0.74760941,  0.86592963,\n",
       "         0.98424986,  1.10257009,  1.22089032,  1.33921054,  1.45753077,\n",
       "         1.575851  ,  1.69417123,  1.81249145,  1.93081168,  2.04913191,\n",
       "         2.16745214,  2.28577237,  2.40409259,  2.52241282,  2.64073305,\n",
       "         2.75905328]),\n",
       " <BarContainer object of 50 artists>)"
      ]
     },
     "execution_count": 7,
     "metadata": {},
     "output_type": "execute_result"
    },
    {
     "data": {
      "image/png": "[encoded data removed]",
      "text/plain": [
       "<Figure size 432x288 with 1 Axes>"
      ]
     },
     "metadata": {
      "needs_background": "light"
     },
     "output_type": "display_data"
    }
   ],
   "source": [
    "sample = dist_norm.rvs(size=1000)\n",
    "plt.hist(sample,bins=50,rwidth=0.5,color='r')"
   ]
  },
  {
   "cell_type": "code",
   "execution_count": 8,
   "id": "a94a0d7f",
   "metadata": {},
   "outputs": [
    {
     "name": "stdout",
     "output_type": "stream",
     "text": [
      "0.026328934293416213 0.9869334328751584\n"
     ]
    }
   ],
   "source": [
    "sample_mean = np.mean(sample)\n",
    "sample_var = np.var(sample)\n",
    "print(sample_mean,sample_var)"
   ]
  },
  {
   "cell_type": "code",
   "execution_count": 21,
   "id": "2654debd",
   "metadata": {},
   "outputs": [
    {
     "data": {
      "text/html": [
       "<div>\n",
       "<style scoped>\n",
       "    .dataframe tbody tr th:only-of-type {\n",
       "        vertical-align: middle;\n",
       "    }\n",
       "\n",
       "    .dataframe tbody tr th {\n",
       "        vertical-align: top;\n",
       "    }\n",
       "\n",
       "    .dataframe thead th {\n",
       "        text-align: right;\n",
       "    }\n",
       "</style>\n",
       "<table border=\"1\" class=\"dataframe\">\n",
       "  <thead>\n",
       "    <tr style=\"text-align: right;\">\n",
       "      <th></th>\n",
       "      <th>0</th>\n",
       "    </tr>\n",
       "  </thead>\n",
       "  <tbody>\n",
       "    <tr>\n",
       "      <th>0</th>\n",
       "      <td>109.0</td>\n",
       "    </tr>\n",
       "    <tr>\n",
       "      <th>1</th>\n",
       "      <td>110.0</td>\n",
       "    </tr>\n",
       "    <tr>\n",
       "      <th>2</th>\n",
       "      <td>108.0</td>\n",
       "    </tr>\n",
       "    <tr>\n",
       "      <th>3</th>\n",
       "      <td>110.0</td>\n",
       "    </tr>\n",
       "    <tr>\n",
       "      <th>4</th>\n",
       "      <td>109.0</td>\n",
       "    </tr>\n",
       "  </tbody>\n",
       "</table>\n",
       "</div>"
      ],
      "text/plain": [
       "       0\n",
       "0  109.0\n",
       "1  110.0\n",
       "2  108.0\n",
       "3  110.0\n",
       "4  109.0"
      ]
     },
     "execution_count": 21,
     "metadata": {},
     "output_type": "execute_result"
    }
   ],
   "source": [
    "data = pd.read_csv('./sample.csv',header=None)\n",
    "data.head()"
   ]
  },
  {
   "cell_type": "code",
   "execution_count": 27,
   "id": "7bf95d10",
   "metadata": {},
   "outputs": [
    {
     "name": "stdout",
     "output_type": "stream",
     "text": [
      "[109.0, 110.0, 108.0, 110.0, 109.0, 111.0, 111.0, 110.0, 109.0, 111.0, 109.0, 110.0, 110.0, 108.0, 109.0, 110.0, 109.0, 110.0, 110.0, 110.0, 110.0, 109.0, 110.0, 110.0, 110.0, 112.0, 110.0, 109.0, 108.0, 109.0]\n"
     ]
    }
   ],
   "source": [
    "data.columns = ['IQ']\n",
    "data_list = data['IQ'].to_list()\n",
    "print(data_list)"
   ]
  },
  {
   "cell_type": "code",
   "execution_count": 33,
   "id": "66d645d3",
   "metadata": {},
   "outputs": [
    {
     "name": "stdout",
     "output_type": "stream",
     "text": [
      "Test statistic is 5.92\n"
     ]
    }
   ],
   "source": [
    "pop_mean0 = 100\n",
    "pop_std = np.sqrt(80)\n",
    "\n",
    "n = data.shape[0]\n",
    "\n",
    "sample_mean = np.mean(data_list)\n",
    "sample_var = np.var(data_list,ddof=1)\n",
    "\n",
    "T = (sample_mean - pop_mean0) / (pop_std/np.sqrt(n))\n",
    "\n",
    "print(\"Test statistic is {}\".format(np.round(T,3)))"
   ]
  },
  {
   "cell_type": "code",
   "execution_count": 36,
   "id": "811f54ed",
   "metadata": {},
   "outputs": [
    {
     "name": "stdout",
     "output_type": "stream",
     "text": [
      "critical values are -1.96 and 1.96\n"
     ]
    }
   ],
   "source": [
    "alpha = 0.05\n",
    "dist_norm = stats.norm(loc=0,scale=1)\n",
    "\n",
    "ll = dist_norm.ppf(alpha/2)\n",
    "ul = dist_norm.ppf(1-(alpha/2))\n",
    "\n",
    "print(\"critical values are {} and {}\".format(np.round(ll,3),np.round(ul,3)))"
   ]
  },
  {
   "cell_type": "code",
   "execution_count": 38,
   "id": "0ee7fa00",
   "metadata": {},
   "outputs": [
    {
     "name": "stdout",
     "output_type": "stream",
     "text": [
      "we can reject H0\n"
     ]
    }
   ],
   "source": [
    "if (np.abs(T) > ul):\n",
    "    print(\"we can reject H0\")\n",
    "else:\n",
    "    print(\"we accept H0\")"
   ]
  },
  {
   "cell_type": "code",
   "execution_count": 42,
   "id": "f185a0a7",
   "metadata": {},
   "outputs": [
    {
     "data": {
      "image/png": "[encoded data removed]",
      "text/plain": [
       "<Figure size 432x288 with 1 Axes>"
      ]
     },
     "metadata": {
      "needs_background": "light"
     },
     "output_type": "display_data"
    }
   ],
   "source": [
    "stats.probplot(data_list,plot=plt,dist='norm')\n",
    "plt.show()"
   ]
  },
  {
   "cell_type": "code",
   "execution_count": null,
   "id": "5934ac7a",
   "metadata": {},
   "outputs": [],
   "source": []
  }
 ],
 "metadata": {
  "kernelspec": {
   "display_name": "Python 3 (ipykernel)",
   "language": "python",
   "name": "python3"
  },
  "language_info": {
   "codemirror_mode": {
    "name": "ipython",
    "version": 3
   },
   "file_extension": ".py",
   "mimetype": "text/x-python",
   "name": "python",
   "nbconvert_exporter": "python",
   "pygments_lexer": "ipython3",
   "version": "3.8.5"
  }
 },
 "nbformat": 4,
 "nbformat_minor": 5
}
