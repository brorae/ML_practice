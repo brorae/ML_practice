{
 "cells": [
  {
   "cell_type": "code",
   "execution_count": 1,
   "id": "573d825e",
   "metadata": {},
   "outputs": [],
   "source": [
    "import numpy as np\n",
    "import pandas as pd\n",
    "from scipy import stats\n",
    "from matplotlib import pyplot as plt"
   ]
  },
  {
   "cell_type": "code",
   "execution_count": 2,
   "id": "7c780f6f",
   "metadata": {},
   "outputs": [
    {
     "name": "stdout",
     "output_type": "stream",
     "text": [
      "H0: The means of the two groups are the same\n",
      "H1: The means of the two groups are different\n"
     ]
    }
   ],
   "source": [
    "print(\"H0: The means of the two groups are the same\")\n",
    "print(\"H1: The means of the two groups are different\")"
   ]
  },
  {
   "cell_type": "code",
   "execution_count": 3,
   "id": "d5ef68cb",
   "metadata": {},
   "outputs": [],
   "source": [
    "A = np.array([5,8,9,8,7,7,2])\n",
    "B = np.array([9,6,5,4,8])"
   ]
  },
  {
   "cell_type": "code",
   "execution_count": 13,
   "id": "994da436",
   "metadata": {},
   "outputs": [
    {
     "name": "stdout",
     "output_type": "stream",
     "text": [
      "4.816326530612245\n",
      "3.44\n",
      "Vp : 5.0914\n"
     ]
    }
   ],
   "source": [
    "pop_mean = 0\n",
    "alpha = 0.05\n",
    "\n",
    "A_mean = np.mean(A)\n",
    "A_var = np.var(A)\n",
    "A_std = np.std(A,ddof=1)\n",
    "A_n = A.size\n",
    "\n",
    "B_mean = np.mean(B)\n",
    "B_var = np.var(B)\n",
    "B_std = np.std(B,ddof=1)\n",
    "B_n = B.size\n",
    "\n",
    "print(A_var)\n",
    "print(B_var)\n",
    "\n",
    "var_pool = ((A_n-1)*(A_std)**2 + (B_n-1)*(B_std)**2) / (A_n + B_n-2)\n",
    "\n",
    "print(\"Vp :\",round(var_pool,4))"
   ]
  },
  {
   "cell_type": "code",
   "execution_count": 5,
   "id": "9d4094a9",
   "metadata": {},
   "outputs": [
    {
     "name": "stdout",
     "output_type": "stream",
     "text": [
      "Test statistics : 0.1297\n"
     ]
    }
   ],
   "source": [
    "T = (A_mean - B_mean) / np.sqrt(var_pool*((1/A_n)+(1/B_n)))\n",
    "\n",
    "print(\"Test statistics :\",round(T,4))"
   ]
  },
  {
   "cell_type": "code",
   "execution_count": 6,
   "id": "65cd07c2",
   "metadata": {},
   "outputs": [
    {
     "name": "stdout",
     "output_type": "stream",
     "text": [
      "ll and ul : -2.2281 2.2281\n"
     ]
    }
   ],
   "source": [
    "dist_t = stats.t(A_n+B_n-2)\n",
    "\n",
    "ll = dist_t.ppf(alpha/2)\n",
    "ul = dist_t.ppf(1-alpha/2)\n",
    "\n",
    "print(\"ll and ul :\",round(ll,4),round(ul,4))"
   ]
  },
  {
   "cell_type": "code",
   "execution_count": 7,
   "id": "45206967",
   "metadata": {},
   "outputs": [
    {
     "name": "stdout",
     "output_type": "stream",
     "text": [
      "Accept H0!\n"
     ]
    }
   ],
   "source": [
    "if (np.abs(T)>ul):\n",
    "    print(\"Reject H0!\")\n",
    "else:\n",
    "    print(\"Accept H0!\")"
   ]
  },
  {
   "cell_type": "code",
   "execution_count": 8,
   "id": "e677d456",
   "metadata": {},
   "outputs": [
    {
     "data": {
      "text/plain": [
       "Ttest_indResult(statistic=0.12974982402692004, pvalue=0.8993371378609937)"
      ]
     },
     "execution_count": 8,
     "metadata": {},
     "output_type": "execute_result"
    }
   ],
   "source": [
    "from scipy.stats import ttest_ind\n",
    "\n",
    "ttest_ind(A,B,equal_var=True)"
   ]
  },
  {
   "cell_type": "code",
   "execution_count": 20,
   "id": "ab3b07b4",
   "metadata": {},
   "outputs": [
    {
     "name": "stdout",
     "output_type": "stream",
     "text": [
      "Test statistics : 0.1329\n",
      "P-value : 0.897\n",
      "degree of freedom : 9.4584\n"
     ]
    }
   ],
   "source": [
    "from statsmodels.stats.weightstats import ttest_ind\n",
    "\n",
    "t_val, p_val, df = ttest_ind(A,B,usevar=\"unequal\")\n",
    "\n",
    "print(\"Test statistics :\",round(t_val,4))\n",
    "print(\"P-value :\",round(p_val,4))\n",
    "print(\"degree of freedom :\",round(df,4))"
   ]
  },
  {
   "cell_type": "code",
   "execution_count": null,
   "id": "4c06c5bb",
   "metadata": {},
   "outputs": [],
   "source": []
  }
 ],
 "metadata": {
  "kernelspec": {
   "display_name": "Python 3",
   "language": "python",
   "name": "python3"
  },
  "language_info": {
   "codemirror_mode": {
    "name": "ipython",
    "version": 3
   },
   "file_extension": ".py",
   "mimetype": "text/x-python",
   "name": "python",
   "nbconvert_exporter": "python",
   "pygments_lexer": "ipython3",
   "version": "3.8.8"
  }
 },
 "nbformat": 4,
 "nbformat_minor": 5
}
