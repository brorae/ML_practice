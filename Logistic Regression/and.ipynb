{
 "cells": [
  {
   "cell_type": "code",
   "execution_count": 1,
   "id": "5360a781",
   "metadata": {},
   "outputs": [],
   "source": [
    "import random\n",
    "from math import exp,log\n",
    "import numpy as np\n",
    "import matplotlib.pyplot as plt"
   ]
  },
  {
   "cell_type": "code",
   "execution_count": 2,
   "id": "4a20e514",
   "metadata": {},
   "outputs": [],
   "source": [
    "X = np.array([[0,0],[1,0],[0,1],[1,1]])\n",
    "Y = np.array([0,0,0,1])"
   ]
  },
  {
   "cell_type": "code",
   "execution_count": 3,
   "id": "0242f733",
   "metadata": {},
   "outputs": [],
   "source": [
    "class logistic_regression_model():\n",
    "    def __init__(self):\n",
    "        self.w = np.random.normal(size=2)\n",
    "        self.b = np.random.normal(size=1)\n",
    "    \n",
    "    def sigmoid(self,z):\n",
    "        return 1/(1+exp(-z))\n",
    "\n",
    "    def predict(self,x):\n",
    "        z = np.inner(self.w,x) + self.b[0]\n",
    "        a = self.sigmoid(z)\n",
    "        return a"
   ]
  },
  {
   "cell_type": "code",
   "execution_count": 4,
   "id": "06544660",
   "metadata": {},
   "outputs": [],
   "source": [
    "model = logistic_regression_model()"
   ]
  },
  {
   "cell_type": "code",
   "execution_count": 5,
   "id": "a445e946",
   "metadata": {},
   "outputs": [],
   "source": [
    "def train(X,Y,model,lr):\n",
    "    dw0 = 0.0\n",
    "    dw1 = 0.0\n",
    "    db = 0.0\n",
    "    m = len(X)\n",
    "    cost = 0.0\n",
    "    for x,y in zip(X,Y):\n",
    "        a = model.predict(x)\n",
    "        if y == 1:\n",
    "            cost -= log(a)\n",
    "        else:\n",
    "            cost -= log(1-a)\n",
    "            \n",
    "        x = np.append(x,1)\n",
    "        [dw0,dw1,db] = [dw0,dw1,db] + ((a-y)*x)\n",
    "        \n",
    "    cost /= m\n",
    "    model.w[0] -= lr * dw0/m\n",
    "    model.w[1] -= lr * dw1/m\n",
    "    model.b[0] -= lr * db/m\n",
    "    \n",
    "    return cost"
   ]
  },
  {
   "cell_type": "code",
   "execution_count": 6,
   "id": "9c86cf33",
   "metadata": {},
   "outputs": [],
   "source": [
    "def loss():\n",
    "    loss_ = []\n",
    "    for i in range(4):\n",
    "        loss = -Y[i]*log(model.predict(X[i]))-(1-Y[i])*log(1-model.predict(X[i]))\n",
    "        loss_.append(loss)\n",
    "    return loss_"
   ]
  },
  {
   "cell_type": "code",
   "execution_count": 7,
   "id": "99a7b4e9",
   "metadata": {
    "scrolled": false
   },
   "outputs": [
    {
     "name": "stdout",
     "output_type": "stream",
     "text": [
      "0 1.1750473598257392\n",
      "500 0.2373556707808463\n",
      "1000 0.14671688981885211\n",
      "1500 0.10604652064741876\n",
      "2000 0.08271417469243421\n",
      "2500 0.06761341111380981\n",
      "3000 0.057071207718086915\n",
      "3500 0.04931172794299489\n",
      "4000 0.04337175861261301\n",
      "4500 0.03868444163576182\n",
      "5000 0.034894970863510455\n",
      "5500 0.031770235112349644\n",
      "6000 0.029150945998014804\n",
      "6500 0.026924664806272088\n",
      "7000 0.02500982146192749\n",
      "7500 0.023345840593520593\n",
      "8000 0.02188681986793465\n",
      "8500 0.02059735678679657\n",
      "9000 0.019449719396641106\n",
      "9500 0.018421882705274645\n"
     ]
    }
   ],
   "source": [
    "for epoch in range(10000):\n",
    "    cost = train(X,Y,model,0.1)\n",
    "    if (epoch % 500 == 0):\n",
    "        print(epoch, cost)"
   ]
  },
  {
   "cell_type": "code",
   "execution_count": 8,
   "id": "8cf14fc7",
   "metadata": {},
   "outputs": [
    {
     "data": {
      "text/plain": [
       "1.2624357946748337e-05"
      ]
     },
     "execution_count": 8,
     "metadata": {},
     "output_type": "execute_result"
    }
   ],
   "source": [
    "model.predict([0,0])"
   ]
  },
  {
   "cell_type": "code",
   "execution_count": 9,
   "id": "9de4a4f6",
   "metadata": {},
   "outputs": [
    {
     "data": {
      "text/plain": [
       "0.020331507681236156"
      ]
     },
     "execution_count": 9,
     "metadata": {},
     "output_type": "execute_result"
    }
   ],
   "source": [
    "model.predict([0,1])"
   ]
  },
  {
   "cell_type": "code",
   "execution_count": 10,
   "id": "61753a7e",
   "metadata": {},
   "outputs": [
    {
     "data": {
      "text/plain": [
       "0.020331533053131255"
      ]
     },
     "execution_count": 10,
     "metadata": {},
     "output_type": "execute_result"
    }
   ],
   "source": [
    "model.predict([1,0])"
   ]
  },
  {
   "cell_type": "code",
   "execution_count": 11,
   "id": "d33487b3",
   "metadata": {},
   "outputs": [
    {
     "data": {
      "text/plain": [
       "0.9715234973718906"
      ]
     },
     "execution_count": 11,
     "metadata": {},
     "output_type": "execute_result"
    }
   ],
   "source": [
    "model.predict([1,1])"
   ]
  },
  {
   "cell_type": "code",
   "execution_count": 12,
   "id": "afa18b63",
   "metadata": {},
   "outputs": [
    {
     "data": {
      "text/plain": [
       "[1.2624437634677403e-05,\n",
       " 0.020541063587353983,\n",
       " 0.02054103768890398,\n",
       " 0.02888982376450505]"
      ]
     },
     "execution_count": 12,
     "metadata": {},
     "output_type": "execute_result"
    }
   ],
   "source": [
    "loss1 = loss()\n",
    "loss1"
   ]
  },
  {
   "cell_type": "code",
   "execution_count": 13,
   "id": "6cb8f167",
   "metadata": {},
   "outputs": [
    {
     "name": "stdout",
     "output_type": "stream",
     "text": [
      "0 0.017496137369599422\n",
      "500 0.017408603066219767\n",
      "1000 0.017321930670446975\n",
      "1500 0.017236107604934433\n",
      "2000 0.017151121534598603\n",
      "2500 0.017066960360837193\n",
      "3000 0.01698361221591172\n",
      "3500 0.01690106545748887\n",
      "4000 0.016819308663335482\n",
      "4500 0.016738330626162336\n",
      "5000 0.016658120348611097\n",
      "5500 0.01657866703838175\n",
      "6000 0.016499960103493628\n",
      "6500 0.016421989147676796\n",
      "7000 0.016344743965890616\n",
      "7500 0.01626821453996344\n",
      "8000 0.016192391034351807\n",
      "8500 0.016117263792013233\n",
      "9000 0.01604282333039007\n",
      "9500 0.015969060337502693\n"
     ]
    }
   ],
   "source": [
    "for epoch in range(10000):\n",
    "    cost = train(X,Y,model,0.01)\n",
    "    if (epoch % 500 == 0):\n",
    "        print(epoch, cost)"
   ]
  },
  {
   "cell_type": "code",
   "execution_count": 14,
   "id": "7232a850",
   "metadata": {},
   "outputs": [
    {
     "data": {
      "text/plain": [
       "9.439252209770352e-06"
      ]
     },
     "execution_count": 14,
     "metadata": {},
     "output_type": "execute_result"
    }
   ],
   "source": [
    "model.predict([0,0])"
   ]
  },
  {
   "cell_type": "code",
   "execution_count": 15,
   "id": "d1adf89d",
   "metadata": {},
   "outputs": [
    {
     "data": {
      "text/plain": [
       "0.01849323799216517"
      ]
     },
     "execution_count": 15,
     "metadata": {},
     "output_type": "execute_result"
    }
   ],
   "source": [
    "model.predict([0,1])"
   ]
  },
  {
   "cell_type": "code",
   "execution_count": 16,
   "id": "68b9671b",
   "metadata": {},
   "outputs": [
    {
     "data": {
      "text/plain": [
       "0.0184932523679409"
      ]
     },
     "execution_count": 16,
     "metadata": {},
     "output_type": "execute_result"
    }
   ],
   "source": [
    "model.predict([1,0])"
   ]
  },
  {
   "cell_type": "code",
   "execution_count": 17,
   "id": "2415a702",
   "metadata": {},
   "outputs": [
    {
     "data": {
      "text/plain": [
       "0.9740996630870784"
      ]
     },
     "execution_count": 17,
     "metadata": {},
     "output_type": "execute_result"
    }
   ],
   "source": [
    "model.predict([1,1])"
   ]
  },
  {
   "cell_type": "code",
   "execution_count": 18,
   "id": "8ad6553c",
   "metadata": {},
   "outputs": [
    {
     "data": {
      "text/plain": [
       "[9.439296759774542e-06,\n",
       " 0.018666390473094673,\n",
       " 0.018666375826455094,\n",
       " 0.026241657076266883]"
      ]
     },
     "execution_count": 18,
     "metadata": {},
     "output_type": "execute_result"
    }
   ],
   "source": [
    "loss2 = loss()\n",
    "loss2"
   ]
  },
  {
   "cell_type": "code",
   "execution_count": 19,
   "id": "d8112ecf",
   "metadata": {},
   "outputs": [
    {
     "name": "stdout",
     "output_type": "stream",
     "text": [
      "0 0.015895965668144107\n",
      "500 0.010890674428350275\n",
      "1000 0.008273424299221507\n",
      "1500 0.006666947828397706\n",
      "2000 0.0055813301565325315\n",
      "2500 0.004798943785512036\n",
      "3000 0.004208474637971087\n",
      "3500 0.0037471071372270903\n",
      "4000 0.003376720821862413\n",
      "4500 0.0030728473332599917\n",
      "5000 0.0028190643022476167\n",
      "5500 0.0026039410096487287\n",
      "6000 0.0024192766913857734\n",
      "6500 0.002259035483444132\n",
      "7000 0.0021186765797268094\n",
      "7500 0.0019947185200711766\n",
      "8000 0.0018844474146070384\n",
      "8500 0.0017857165397179983\n",
      "9000 0.0016968055871723871\n",
      "9500 0.0016163198344765135\n"
     ]
    }
   ],
   "source": [
    "for epoch in range(10000):\n",
    "    cost = train(X,Y,model,1)\n",
    "    if (epoch % 500 == 0):\n",
    "        print(epoch, cost)"
   ]
  },
  {
   "cell_type": "code",
   "execution_count": 20,
   "id": "a3e6bb8a",
   "metadata": {},
   "outputs": [
    {
     "data": {
      "text/plain": [
       "8.401693139927571e-09"
      ]
     },
     "execution_count": 20,
     "metadata": {},
     "output_type": "execute_result"
    }
   ],
   "source": [
    "model.predict([0,0])"
   ]
  },
  {
   "cell_type": "code",
   "execution_count": 21,
   "id": "5077f0d9",
   "metadata": {},
   "outputs": [
    {
     "data": {
      "text/plain": [
       "0.001813493794614105"
      ]
     },
     "execution_count": 21,
     "metadata": {},
     "output_type": "execute_result"
    }
   ],
   "source": [
    "model.predict([0,1])"
   ]
  },
  {
   "cell_type": "code",
   "execution_count": 22,
   "id": "6abede05",
   "metadata": {},
   "outputs": [
    {
     "data": {
      "text/plain": [
       "0.0018134937946268387"
      ]
     },
     "execution_count": 22,
     "metadata": {},
     "output_type": "execute_result"
    }
   ],
   "source": [
    "model.predict([1,0])"
   ]
  },
  {
   "cell_type": "code",
   "execution_count": 23,
   "id": "80cd623e",
   "metadata": {},
   "outputs": [
    {
     "data": {
      "text/plain": [
       "0.997461050826558"
      ]
     },
     "execution_count": 23,
     "metadata": {},
     "output_type": "execute_result"
    }
   ],
   "source": [
    "model.predict([1,1])"
   ]
  },
  {
   "cell_type": "code",
   "execution_count": 24,
   "id": "790b4674",
   "metadata": {
    "scrolled": true
   },
   "outputs": [
    {
     "data": {
      "text/plain": [
       "[8.401693154292078e-09,\n",
       " 0.0018151401652547591,\n",
       " 0.0018151401652420796,\n",
       " 0.0025421777708823368]"
      ]
     },
     "execution_count": 24,
     "metadata": {},
     "output_type": "execute_result"
    }
   ],
   "source": [
    "loss3 = loss()\n",
    "loss3"
   ]
  },
  {
   "cell_type": "code",
   "execution_count": 25,
   "id": "d5441273",
   "metadata": {
    "scrolled": false
   },
   "outputs": [
    {
     "data": {
      "image/png": "[encoded data removed]",
      "text/plain": [
       "<Figure size 432x288 with 1 Axes>"
      ]
     },
     "metadata": {
      "needs_background": "light"
     },
     "output_type": "display_data"
    }
   ],
   "source": [
    "test = [\"(0,0)\",\"(0,1)\",\"(1,0)\",\"(1,1)\"]\n",
    "plt.plot(test,loss1,'r')\n",
    "plt.plot(test,loss2,'g')\n",
    "plt.plot(test,loss3,'b')\n",
    "plt.xlabel(\"value\")\n",
    "plt.ylabel(\"loss\")\n",
    "plt.show()"
   ]
  }
 ],
 "metadata": {
  "kernelspec": {
   "display_name": "Python 3 (ipykernel)",
   "language": "python",
   "name": "python3"
  },
  "language_info": {
   "codemirror_mode": {
    "name": "ipython",
    "version": 3
   },
   "file_extension": ".py",
   "mimetype": "text/x-python",
   "name": "python",
   "nbconvert_exporter": "python",
   "pygments_lexer": "ipython3",
   "version": "3.9.6"
  }
 },
 "nbformat": 4,
 "nbformat_minor": 5
}
