{
 "cells": [
  {
   "cell_type": "code",
   "execution_count": 1,
   "id": "33d1f05b",
   "metadata": {},
   "outputs": [],
   "source": [
    "import numpy as np\n",
    "import pandas as pd\n",
    "from scipy import stats\n",
    "from matplotlib import pyplot as plt"
   ]
  },
  {
   "cell_type": "code",
   "execution_count": 2,
   "id": "363c2b7d",
   "metadata": {},
   "outputs": [
    {
     "name": "stdout",
     "output_type": "stream",
     "text": [
      "H0: The mean difference is zero\n",
      "H1: The mean difference is less than zero\n"
     ]
    }
   ],
   "source": [
    "print(\"H0: The mean difference is zero\")\n",
    "print(\"H1: The mean difference is less than zero\")"
   ]
  },
  {
   "cell_type": "code",
   "execution_count": 16,
   "id": "463476b3",
   "metadata": {},
   "outputs": [
    {
     "name": "stdout",
     "output_type": "stream",
     "text": [
      "Test statistics : -0.1298\n"
     ]
    }
   ],
   "source": [
    "pop_diff = 0\n",
    "\n",
    "n = len(di)\n",
    "di_mean = np.mean(di)\n",
    "di_std = np.std(di,ddof=1)\n",
    "\n",
    "T = di_mean / (di_std/np.sqrt(n))\n",
    "\n",
    "print(\"Test statistics :\", np.round(T,4))"
   ]
  },
  {
   "cell_type": "code",
   "execution_count": 5,
   "id": "db10bef0",
   "metadata": {},
   "outputs": [
    {
     "name": "stdout",
     "output_type": "stream",
     "text": [
      "Lower limit: -1.9432\n"
     ]
    }
   ],
   "source": [
    "dist_t = stats.t(n-1)\n",
    "alpha = 0.05\n",
    "\n",
    "ll = dist_t.ppf(alpha)\n",
    "\n",
    "print(\"Lower limit:\",np.round(ll,4))"
   ]
  },
  {
   "cell_type": "code",
   "execution_count": 6,
   "id": "40b0e907",
   "metadata": {},
   "outputs": [
    {
     "name": "stdout",
     "output_type": "stream",
     "text": [
      "H0 is accepted\n"
     ]
    }
   ],
   "source": [
    "if (T < ll):\n",
    "    print(\"H0 is rejected\")\n",
    "else:\n",
    "    print(\"H0 is accepted\")"
   ]
  },
  {
   "cell_type": "code",
   "execution_count": 8,
   "id": "5a8d2191",
   "metadata": {},
   "outputs": [
    {
     "name": "stdout",
     "output_type": "stream",
     "text": [
      "Test statistics :  -0.1298\n",
      "p-value :  0.4505\n"
     ]
    }
   ],
   "source": [
    "from scipy.stats import ttest_rel\n",
    "\n",
    "T, pval = ttest_rel(Before,After)\n",
    "print(\"Test statistics : \",np.round(T,4))\n",
    "print(\"p-value : \",np.round(pval/2,4))"
   ]
  },
  {
   "cell_type": "code",
   "execution_count": 9,
   "id": "2a9088fa",
   "metadata": {},
   "outputs": [
    {
     "data": {
      "text/plain": [
       "<AxesSubplot:>"
      ]
     },
     "execution_count": 9,
     "metadata": {},
     "output_type": "execute_result"
    },
    {
     "data": {
      "image/png": "[encoded data removed]",
      "text/plain": [
       "<Figure size 432x288 with 1 Axes>"
      ]
     },
     "metadata": {
      "needs_background": "light"
     },
     "output_type": "display_data"
    }
   ],
   "source": [
    "import seaborn as sns\n",
    "\n",
    "data1 = pd.DataFrame(zip(Before,After))\n",
    "data1.columns = ['Before','After']\n",
    "\n",
    "sns.boxplot(data=data1,orient='v')"
   ]
  },
  {
   "cell_type": "code",
   "execution_count": 10,
   "id": "531544e9",
   "metadata": {},
   "outputs": [
    {
     "data": {
      "text/plain": [
       "<AxesSubplot:>"
      ]
     },
     "execution_count": 10,
     "metadata": {},
     "output_type": "execute_result"
    },
    {
     "data": {
      "image/png": "[encoded data removed]",
      "text/plain": [
       "<Figure size 432x288 with 1 Axes>"
      ]
     },
     "metadata": {
      "needs_background": "light"
     },
     "output_type": "display_data"
    }
   ],
   "source": [
    "sns.boxplot(data=data1,orient='h')"
   ]
  }
 ],
 "metadata": {
  "kernelspec": {
   "display_name": "Python 3 (ipykernel)",
   "language": "python",
   "name": "python3"
  },
  "language_info": {
   "codemirror_mode": {
    "name": "ipython",
    "version": 3
   },
   "file_extension": ".py",
   "mimetype": "text/x-python",
   "name": "python",
   "nbconvert_exporter": "python",
   "pygments_lexer": "ipython3",
   "version": "3.8.5"
  }
 },
 "nbformat": 4,
 "nbformat_minor": 5
}
