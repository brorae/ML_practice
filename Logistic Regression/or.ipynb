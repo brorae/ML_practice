{
 "cells": [
  {
   "cell_type": "code",
   "execution_count": 1,
   "id": "5360a781",
   "metadata": {},
   "outputs": [],
   "source": [
    "import random\n",
    "from math import exp,log\n",
    "import numpy as np\n",
    "import matplotlib.pyplot as plt"
   ]
  },
  {
   "cell_type": "code",
   "execution_count": 2,
   "id": "4a20e514",
   "metadata": {},
   "outputs": [],
   "source": [
    "X = np.array([[0,0],[1,0],[0,1],[1,1]])\n",
    "Y = np.array([0,0,0,1])"
   ]
  },
  {
   "cell_type": "code",
   "execution_count": 3,
   "id": "0242f733",
   "metadata": {},
   "outputs": [],
   "source": [
    "class logistic_regression_model():\n",
    "    def __init__(self):\n",
    "        self.w = np.random.normal(size=2)\n",
    "        self.b = np.random.normal(size=1)\n",
    "    \n",
    "    def sigmoid(self,z):\n",
    "        return 1/(1+exp(-z))\n",
    "\n",
    "    def predict(self,x):\n",
    "        z = np.inner(self.w,x) + self.b[0]\n",
    "        a = self.sigmoid(z)\n",
    "        return a"
   ]
  },
  {
   "cell_type": "code",
   "execution_count": 4,
   "id": "06544660",
   "metadata": {},
   "outputs": [],
   "source": [
    "model = logistic_regression_model()"
   ]
  },
  {
   "cell_type": "code",
   "execution_count": 5,
   "id": "a445e946",
   "metadata": {},
   "outputs": [],
   "source": [
    "def train(X,Y,model,lr):\n",
    "    dw0 = 0.0\n",
    "    dw1 = 0.0\n",
    "    db = 0.0\n",
    "    m = len(X)\n",
    "    cost = 0.0\n",
    "    for x,y in zip(X,Y):\n",
    "        a = model.predict(x)\n",
    "        if y == 1:\n",
    "            cost -= log(a)\n",
    "        else:\n",
    "            cost -= log(1-a)\n",
    "            \n",
    "        x = np.append(x,1)\n",
    "        [dw0,dw1,db] = [dw0,dw1,db] + ((a-y)*x)\n",
    "        \n",
    "    cost /= m\n",
    "    model.w[0] -= lr * dw0/m\n",
    "    model.w[1] -= lr * dw1/m\n",
    "    model.b[0] -= lr * db/m\n",
    "    \n",
    "    return cost"
   ]
  },
  {
   "cell_type": "code",
   "execution_count": 6,
   "id": "9c86cf33",
   "metadata": {},
   "outputs": [],
   "source": [
    "def loss():\n",
    "    loss_ = []\n",
    "    for i in range(4):\n",
    "        loss = -Y[i]*log(model.predict(X[i]))-(1-Y[i])*log(1-model.predict(X[i]))\n",
    "        loss_.append(loss)\n",
    "    return loss_"
   ]
  },
  {
   "cell_type": "code",
   "execution_count": 7,
   "id": "99a7b4e9",
   "metadata": {
    "scrolled": false
   },
   "outputs": [
    {
     "name": "stdout",
     "output_type": "stream",
     "text": [
      "0 1.453389753370658\n",
      "500 0.24718763368208507\n",
      "1000 0.14999727899252369\n",
      "1500 0.10777154334966987\n",
      "2000 0.08377744520859934\n",
      "2500 0.06833183296511378\n",
      "3000 0.057587606577738995\n",
      "3500 0.04969996743812469\n",
      "4000 0.04367380026073893\n",
      "4500 0.03892583837325355\n",
      "5000 0.035092144733550296\n",
      "5500 0.0319342055335516\n",
      "6000 0.029289373796073083\n",
      "6500 0.027043036044853766\n",
      "7000 0.025112164933334048\n",
      "7500 0.023435179651760816\n",
      "8000 0.021965466448958495\n",
      "8500 0.02066710824700457\n",
      "9000 0.019511993607095816\n",
      "9500 0.018477812826403813\n"
     ]
    }
   ],
   "source": [
    "cost1 = []\n",
    "epoch_ = []\n",
    "for epoch in range(10000):\n",
    "    cost = train(X,Y,model,0.1)\n",
    "    cost1.append(cost)\n",
    "    epoch_.append(epoch)\n",
    "    if (epoch % 500 == 0):\n",
    "        print(epoch, cost)"
   ]
  },
  {
   "cell_type": "code",
   "execution_count": 8,
   "id": "8cf14fc7",
   "metadata": {},
   "outputs": [
    {
     "data": {
      "text/plain": [
       "1.273520008557603e-05"
      ]
     },
     "execution_count": 8,
     "metadata": {},
     "output_type": "execute_result"
    }
   ],
   "source": [
    "model.predict([0,0])"
   ]
  },
  {
   "cell_type": "code",
   "execution_count": 9,
   "id": "9de4a4f6",
   "metadata": {},
   "outputs": [
    {
     "data": {
      "text/plain": [
       "0.020389486415883975"
      ]
     },
     "execution_count": 9,
     "metadata": {},
     "output_type": "execute_result"
    }
   ],
   "source": [
    "model.predict([0,1])"
   ]
  },
  {
   "cell_type": "code",
   "execution_count": 10,
   "id": "61753a7e",
   "metadata": {},
   "outputs": [
    {
     "data": {
      "text/plain": [
       "0.020389447195379207"
      ]
     },
     "execution_count": 10,
     "metadata": {},
     "output_type": "execute_result"
    }
   ],
   "source": [
    "model.predict([1,0])"
   ]
  },
  {
   "cell_type": "code",
   "execution_count": 11,
   "id": "d33487b3",
   "metadata": {},
   "outputs": [
    {
     "data": {
      "text/plain": [
       "0.9714422845841921"
      ]
     },
     "execution_count": 11,
     "metadata": {},
     "output_type": "execute_result"
    }
   ],
   "source": [
    "model.predict([1,1])"
   ]
  },
  {
   "cell_type": "code",
   "execution_count": 12,
   "id": "2b5df6d0",
   "metadata": {},
   "outputs": [
    {
     "data": {
      "text/plain": [
       "[1.27352811789498e-05,\n",
       " 0.020600181397202308,\n",
       " 0.02060022143403686,\n",
       " 0.028973420489161718]"
      ]
     },
     "execution_count": 12,
     "metadata": {},
     "output_type": "execute_result"
    }
   ],
   "source": [
    "loss1 = loss()\n",
    "loss1"
   ]
  },
  {
   "cell_type": "code",
   "execution_count": 13,
   "id": "c449c788",
   "metadata": {},
   "outputs": [],
   "source": [
    "model = logistic_regression_model()"
   ]
  },
  {
   "cell_type": "code",
   "execution_count": 14,
   "id": "6cb8f167",
   "metadata": {},
   "outputs": [
    {
     "name": "stdout",
     "output_type": "stream",
     "text": [
      "0 0.7654726578941731\n",
      "500 0.6127137221385365\n",
      "1000 0.5146763864313724\n",
      "1500 0.44488099370247625\n",
      "2000 0.3930153268345467\n",
      "2500 0.35301503584691685\n",
      "3000 0.3211529715144772\n",
      "3500 0.29508086207849205\n",
      "4000 0.2732708976399624\n",
      "4500 0.25469459898470104\n",
      "5000 0.23863662108461475\n",
      "5500 0.22458430272812863\n",
      "6000 0.2121602574271316\n",
      "6500 0.2010799967991378\n",
      "7000 0.19112451447368028\n",
      "7500 0.18212206394023195\n",
      "8000 0.17393574129727224\n",
      "8500 0.16645482782789572\n",
      "9000 0.15958862637533505\n",
      "9500 0.15326198857071782\n"
     ]
    }
   ],
   "source": [
    "cost2 = []\n",
    "for epoch in range(10000):\n",
    "    cost = train(X,Y,model,0.01)\n",
    "    cost2.append(cost)\n",
    "    if (epoch % 500 == 0):\n",
    "        print(epoch, cost)"
   ]
  },
  {
   "cell_type": "code",
   "execution_count": 15,
   "id": "7232a850",
   "metadata": {},
   "outputs": [
    {
     "data": {
      "text/plain": [
       "0.00913104188805875"
      ]
     },
     "execution_count": 15,
     "metadata": {},
     "output_type": "execute_result"
    }
   ],
   "source": [
    "model.predict([0,0])"
   ]
  },
  {
   "cell_type": "code",
   "execution_count": 16,
   "id": "d1adf89d",
   "metadata": {},
   "outputs": [
    {
     "data": {
      "text/plain": [
       "0.15347400479126647"
      ]
     },
     "execution_count": 16,
     "metadata": {},
     "output_type": "execute_result"
    }
   ],
   "source": [
    "model.predict([0,1])"
   ]
  },
  {
   "cell_type": "code",
   "execution_count": 17,
   "id": "68b9671b",
   "metadata": {},
   "outputs": [
    {
     "data": {
      "text/plain": [
       "0.15326554119750632"
      ]
     },
     "execution_count": 17,
     "metadata": {},
     "output_type": "execute_result"
    }
   ],
   "source": [
    "model.predict([1,0])"
   ]
  },
  {
   "cell_type": "code",
   "execution_count": 18,
   "id": "2415a702",
   "metadata": {},
   "outputs": [
    {
     "data": {
      "text/plain": [
       "0.7807560355726909"
      ]
     },
     "execution_count": 18,
     "metadata": {},
     "output_type": "execute_result"
    }
   ],
   "source": [
    "model.predict([1,1])"
   ]
  },
  {
   "cell_type": "code",
   "execution_count": 19,
   "id": "8ad6553c",
   "metadata": {},
   "outputs": [
    {
     "data": {
      "text/plain": [
       "[0.009172985371408933,\n",
       " 0.16636814139128778,\n",
       " 0.16661436883293096,\n",
       " 0.2474925523682772]"
      ]
     },
     "execution_count": 19,
     "metadata": {},
     "output_type": "execute_result"
    }
   ],
   "source": [
    "loss2 = loss()\n",
    "loss2"
   ]
  },
  {
   "cell_type": "code",
   "execution_count": 20,
   "id": "797c5e26",
   "metadata": {},
   "outputs": [],
   "source": [
    "model = logistic_regression_model()"
   ]
  },
  {
   "cell_type": "code",
   "execution_count": 21,
   "id": "d8112ecf",
   "metadata": {},
   "outputs": [
    {
     "name": "stdout",
     "output_type": "stream",
     "text": [
      "0 0.9117369044765076\n",
      "500 0.8258801162174126\n",
      "1000 0.7606342967214207\n",
      "1500 0.7109881190637015\n",
      "2000 0.6727964958659541\n",
      "2500 0.6428677025494808\n",
      "3000 0.6188530549378091\n",
      "3500 0.59907097718267\n",
      "4000 0.5823358975425009\n",
      "4500 0.5678181296998603\n",
      "5000 0.5549383037943505\n",
      "5500 0.5432912853274144\n",
      "6000 0.5325926502220515\n",
      "6500 0.5226414998349911\n",
      "7000 0.5132947796245444\n",
      "7500 0.504449578157952\n",
      "8000 0.4960309241337264\n",
      "8500 0.4879833621316229\n",
      "9000 0.48026512578888525\n",
      "9500 0.4728440990233205\n"
     ]
    }
   ],
   "source": [
    "cost3 = []\n",
    "for epoch in range(10000):\n",
    "    cost = train(X,Y,model,0.001)\n",
    "    cost3.append(cost)\n",
    "    if (epoch % 500 == 0):\n",
    "        print(epoch, cost)"
   ]
  },
  {
   "cell_type": "code",
   "execution_count": 22,
   "id": "a3e6bb8a",
   "metadata": {},
   "outputs": [
    {
     "data": {
      "text/plain": [
       "0.2123784985616259"
      ]
     },
     "execution_count": 22,
     "metadata": {},
     "output_type": "execute_result"
    }
   ],
   "source": [
    "model.predict([0,0])"
   ]
  },
  {
   "cell_type": "code",
   "execution_count": 23,
   "id": "5077f0d9",
   "metadata": {},
   "outputs": [
    {
     "data": {
      "text/plain": [
       "0.22012651949070045"
      ]
     },
     "execution_count": 23,
     "metadata": {},
     "output_type": "execute_result"
    }
   ],
   "source": [
    "model.predict([0,1])"
   ]
  },
  {
   "cell_type": "code",
   "execution_count": 24,
   "id": "6abede05",
   "metadata": {},
   "outputs": [
    {
     "data": {
      "text/plain": [
       "0.4400814142876931"
      ]
     },
     "execution_count": 24,
     "metadata": {},
     "output_type": "execute_result"
    }
   ],
   "source": [
    "model.predict([1,0])"
   ]
  },
  {
   "cell_type": "code",
   "execution_count": 25,
   "id": "80cd623e",
   "metadata": {},
   "outputs": [
    {
     "data": {
      "text/plain": [
       "0.45137583719252145"
      ]
     },
     "execution_count": 25,
     "metadata": {},
     "output_type": "execute_result"
    }
   ],
   "source": [
    "model.predict([1,1])"
   ]
  },
  {
   "cell_type": "code",
   "execution_count": 26,
   "id": "790b4674",
   "metadata": {
    "scrolled": true
   },
   "outputs": [
    {
     "data": {
      "text/plain": [
       "[0.238737632642655, 0.5799638884786198, 0.2486235769303253, 0.7954549446257336]"
      ]
     },
     "execution_count": 26,
     "metadata": {},
     "output_type": "execute_result"
    }
   ],
   "source": [
    "loss3 = loss()\n",
    "loss3"
   ]
  },
  {
   "cell_type": "code",
   "execution_count": 27,
   "id": "0ae2bcd0",
   "metadata": {},
   "outputs": [
    {
     "data": {
      "image/png": "[encoded data removed]",
      "text/plain": [
       "<Figure size 432x288 with 1 Axes>"
      ]
     },
     "metadata": {
      "needs_background": "light"
     },
     "output_type": "display_data"
    }
   ],
   "source": [
    "plt.plot(epoch_,cost1)\n",
    "plt.plot(epoch_,cost2)\n",
    "plt.plot(epoch_,cost3)\n",
    "plt.xlabel(\"epoch\")\n",
    "plt.ylabel(\"cost\")\n",
    "plt.show()"
   ]
  },
  {
   "cell_type": "code",
   "execution_count": 28,
   "id": "d5441273",
   "metadata": {
    "scrolled": false
   },
   "outputs": [
    {
     "data": {
      "image/png": "[encoded data removed]",
      "text/plain": [
       "<Figure size 432x288 with 1 Axes>"
      ]
     },
     "metadata": {
      "needs_background": "light"
     },
     "output_type": "display_data"
    }
   ],
   "source": [
    "test = [\"(0,0)\",\"(0,1)\",\"(1,0)\",\"(1,1)\"]\n",
    "plt.plot(test,loss1,'o')\n",
    "plt.plot(test,loss2,'o')\n",
    "plt.plot(test,loss3,'o')\n",
    "plt.xlabel(\"value\")\n",
    "plt.ylabel(\"loss\")\n",
    "plt.show()"
   ]
  }
 ],
 "metadata": {
  "kernelspec": {
   "display_name": "Python 3 (ipykernel)",
   "language": "python",
   "name": "python3"
  },
  "language_info": {
   "codemirror_mode": {
    "name": "ipython",
    "version": 3
   },
   "file_extension": ".py",
   "mimetype": "text/x-python",
   "name": "python",
   "nbconvert_exporter": "python",
   "pygments_lexer": "ipython3",
   "version": "3.9.6"
  }
 },
 "nbformat": 4,
 "nbformat_minor": 5
}
