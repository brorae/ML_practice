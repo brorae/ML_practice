{
 "cells": [
  {
   "cell_type": "code",
   "execution_count": 1,
   "id": "f4dc4932",
   "metadata": {},
   "outputs": [],
   "source": [
    "import numpy as np\n",
    "import pandas as pd\n",
    "from scipy import stats\n",
    "from matplotlib import pyplot as plt"
   ]
  },
  {
   "cell_type": "code",
   "execution_count": 2,
   "id": "709ebdbc",
   "metadata": {},
   "outputs": [
    {
     "name": "stdout",
     "output_type": "stream",
     "text": [
      "H0: the mean is 360\n",
      "H1: the mean is not 360\n"
     ]
    }
   ],
   "source": [
    "print(\"H0: the mean is 360\")\n",
    "print(\"H1: the mean is not 360\")"
   ]
  },
  {
   "cell_type": "code",
   "execution_count": 3,
   "id": "b4e8d42c",
   "metadata": {},
   "outputs": [
    {
     "name": "stdout",
     "output_type": "stream",
     "text": [
      "T:  -2.191\n"
     ]
    }
   ],
   "source": [
    "pop_mean0 = 360\n",
    "\n",
    "n = 30\n",
    "sample_mean = 356\n",
    "sample_std = np.sqrt(100)\n",
    "alpha = 0.05\n",
    "\n",
    "T = (sample_mean - pop_mean0)/(sample_std/np.sqrt(n))\n",
    "\n",
    "print(\"T: \",np.round(T,3))"
   ]
  },
  {
   "cell_type": "code",
   "execution_count": 4,
   "id": "d450a7b8",
   "metadata": {},
   "outputs": [
    {
     "data": {
      "image/png": "[encoded data removed]",
      "text/plain": [
       "<Figure size 432x288 with 1 Axes>"
      ]
     },
     "metadata": {
      "needs_background": "light"
     },
     "output_type": "display_data"
    }
   ],
   "source": [
    "x = np.linspace(-5,5,100)\n",
    "y = stats.t(10).pdf(x)\n",
    "\n",
    "plt.plot(x,y,color=\"blue\")\n",
    "plt.xlabel(\"t\")\n",
    "plt.title(\"t-distribution : df = 10\")\n",
    "plt.show()"
   ]
  },
  {
   "cell_type": "markdown",
   "id": "a1948644",
   "metadata": {},
   "source": [
    "## Z-test"
   ]
  },
  {
   "cell_type": "code",
   "execution_count": 5,
   "id": "9fc449bf",
   "metadata": {},
   "outputs": [
    {
     "name": "stdout",
     "output_type": "stream",
     "text": [
      "critical values are -1.96 and 1.96\n"
     ]
    }
   ],
   "source": [
    "dist_norm = stats.norm(loc=0,scale=1)\n",
    "ll = dist_norm.ppf(alpha/2)\n",
    "ul = dist_norm.ppf(1-(alpha/2))\n",
    "\n",
    "print(\"critical values are {} and {}\".format(np.round(ll,3),np.round(ul,3)))"
   ]
  },
  {
   "cell_type": "code",
   "execution_count": 6,
   "id": "5a1b6589",
   "metadata": {},
   "outputs": [
    {
     "name": "stdout",
     "output_type": "stream",
     "text": [
      "Result: we can reject H0\n"
     ]
    }
   ],
   "source": [
    "if (np.abs(T) > ul):\n",
    "    print(\"Result: we can reject H0\")\n",
    "else:\n",
    "    print(\"Result: we accept H0\")"
   ]
  },
  {
   "cell_type": "markdown",
   "id": "934a3b6a",
   "metadata": {},
   "source": [
    "## T-test"
   ]
  },
  {
   "cell_type": "code",
   "execution_count": 7,
   "id": "8463d90e",
   "metadata": {},
   "outputs": [
    {
     "name": "stdout",
     "output_type": "stream",
     "text": [
      "critical values are -2.045 and 2.045\n"
     ]
    }
   ],
   "source": [
    "dist_t = stats.t(29)\n",
    "\n",
    "ll = dist_t.ppf(alpha/2)\n",
    "ul = dist_t.ppf(1-(alpha/2))\n",
    "\n",
    "print(\"critical values are {} and {}\".format(np.round(ll,3),np.round(ul,3)))"
   ]
  },
  {
   "cell_type": "code",
   "execution_count": 8,
   "id": "b974d41e",
   "metadata": {},
   "outputs": [
    {
     "name": "stdout",
     "output_type": "stream",
     "text": [
      "Result: we can reject H0\n"
     ]
    }
   ],
   "source": [
    "if (np.abs(T) > ul):\n",
    "    print(\"Result: we can reject H0\")\n",
    "else:\n",
    "    print(\"Result: we accept H0\")"
   ]
  },
  {
   "cell_type": "code",
   "execution_count": 9,
   "id": "1315430f",
   "metadata": {},
   "outputs": [
    {
     "data": {
      "image/png": "[encoded data removed]",
      "text/plain": [
       "<Figure size 432x288 with 1 Axes>"
      ]
     },
     "metadata": {
      "needs_background": "light"
     },
     "output_type": "display_data"
    }
   ],
   "source": [
    "dist_t = stats.t(29)\n",
    "x = np.linspace(-5,5,100)\n",
    "y1 = dist_t.pdf(x)\n",
    "y2 = dist_norm.pdf(x)\n",
    "\n",
    "plt.plot(x,y1,color='blue')\n",
    "plt.plot(x,y2,color='red')\n",
    "plt.show()"
   ]
  },
  {
   "cell_type": "code",
   "execution_count": 10,
   "id": "cff7cfa9",
   "metadata": {},
   "outputs": [
    {
     "name": "stdout",
     "output_type": "stream",
     "text": [
      "Effect size: 0.4, small effect\n"
     ]
    }
   ],
   "source": [
    "cohen = np.abs(sample_mean-pop_mean0)/sample_std\n",
    "\n",
    "if (cohen >= 1.3):\n",
    "    print(\"Effect size: \"+str(cohen) + \", Huge effect\")\n",
    "elif (cohen >= 0.8):\n",
    "    print(\"Effect size: \"+str(cohen) + \", Large effect\")\n",
    "elif (cohen >= 0.5):\n",
    "    print(\"Effect size: \"+str(cohen) + \", Medium effect\")\n",
    "elif (cohen >= 0.2):\n",
    "    print(\"Effect size: \"+str(cohen) + \", small effect\")\n",
    "else:\n",
    "    print(\"Effect size: \"+str(cohen))"
   ]
  },
  {
   "cell_type": "code",
   "execution_count": 11,
   "id": "c07c047e",
   "metadata": {},
   "outputs": [
    {
     "data": {
      "text/plain": [
       "Ttest_1sampResult(statistic=0.20488779977039293, pvalue=0.8434900965628593)"
      ]
     },
     "execution_count": 11,
     "metadata": {},
     "output_type": "execute_result"
    }
   ],
   "source": [
    "from scipy.stats import ttest_1samp\n",
    "\n",
    "samp_data = [356,370,360,366,345,340,369,382]\n",
    "ttest_1samp(samp_data, popmean = pop_mean0)"
   ]
  }
 ],
 "metadata": {
  "kernelspec": {
   "display_name": "Python 3 (ipykernel)",
   "language": "python",
   "name": "python3"
  },
  "language_info": {
   "codemirror_mode": {
    "name": "ipython",
    "version": 3
   },
   "file_extension": ".py",
   "mimetype": "text/x-python",
   "name": "python",
   "nbconvert_exporter": "python",
   "pygments_lexer": "ipython3",
   "version": "3.8.5"
  }
 },
 "nbformat": 4,
 "nbformat_minor": 5
}
