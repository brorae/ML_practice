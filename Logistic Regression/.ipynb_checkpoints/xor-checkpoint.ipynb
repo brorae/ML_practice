{
 "cells": [
  {
   "cell_type": "code",
   "execution_count": 1,
   "id": "5360a781",
   "metadata": {},
   "outputs": [],
   "source": [
    "import random\n",
    "from math import exp,log\n",
    "import numpy as np\n",
    "import matplotlib.pyplot as plt"
   ]
  },
  {
   "cell_type": "code",
   "execution_count": 2,
   "id": "4a20e514",
   "metadata": {},
   "outputs": [],
   "source": [
    "X = np.array([[0,0],[1,0],[0,1],[1,1]])\n",
    "Y = np.array([0,1,1,0])"
   ]
  },
  {
   "cell_type": "code",
   "execution_count": 3,
   "id": "0242f733",
   "metadata": {},
   "outputs": [],
   "source": [
    "class logistic_regression_model():\n",
    "    def __init__(self):\n",
    "        self.w = np.random.normal(size=2)\n",
    "        self.b = np.random.normal(size=1)\n",
    "    \n",
    "    def sigmoid(self,z):\n",
    "        return 1/(1+exp(-z))\n",
    "\n",
    "    def predict(self,x):\n",
    "        z = np.inner(self.w,x) + self.b[0]\n",
    "        a = self.sigmoid(z)\n",
    "        return a"
   ]
  },
  {
   "cell_type": "code",
   "execution_count": 4,
   "id": "06544660",
   "metadata": {},
   "outputs": [],
   "source": [
    "model = logistic_regression_model()"
   ]
  },
  {
   "cell_type": "code",
   "execution_count": 5,
   "id": "a445e946",
   "metadata": {},
   "outputs": [],
   "source": [
    "def train(X,Y,model,lr):\n",
    "    dw0 = 0.0\n",
    "    dw1 = 0.0\n",
    "    db = 0.0\n",
    "    m = len(X)\n",
    "    cost = 0.0\n",
    "    for x,y in zip(X,Y):\n",
    "        a = model.predict(x)\n",
    "        if y == 1:\n",
    "            cost -= log(a)\n",
    "        else:\n",
    "            cost -= log(1-a)\n",
    "            \n",
    "        x = np.append(x,1)\n",
    "        [dw0,dw1,db] = [dw0,dw1,db] + ((a-y)*x)\n",
    "        \n",
    "    cost /= m\n",
    "    model.w[0] -= lr * dw0/m\n",
    "    model.w[1] -= lr * dw1/m\n",
    "    model.b[0] -= lr * db/m\n",
    "    \n",
    "    return cost"
   ]
  },
  {
   "cell_type": "code",
   "execution_count": 6,
   "id": "9c86cf33",
   "metadata": {},
   "outputs": [],
   "source": [
    "def loss():\n",
    "    loss_ = []\n",
    "    for i in range(4):\n",
    "        loss = -Y[i]*log(model.predict(X[i]))-(1-Y[i])*log(1-model.predict(X[i]))\n",
    "        loss_.append(loss)\n",
    "    return loss_"
   ]
  },
  {
   "cell_type": "code",
   "execution_count": 7,
   "id": "99a7b4e9",
   "metadata": {
    "scrolled": false
   },
   "outputs": [
    {
     "name": "stdout",
     "output_type": "stream",
     "text": [
      "0 0.7835560257172152\n",
      "500 0.6932979056398465\n",
      "1000 0.6931475087780256\n",
      "1500 0.6931471820215359\n",
      "2000 0.6931471805792025\n",
      "2500 0.6931471805603054\n",
      "3000 0.6931471805599523\n",
      "3500 0.6931471805599454\n",
      "4000 0.6931471805599452\n",
      "4500 0.6931471805599453\n",
      "5000 0.6931471805599453\n",
      "5500 0.6931471805599453\n",
      "6000 0.6931471805599454\n",
      "6500 0.6931471805599453\n",
      "7000 0.6931471805599453\n",
      "7500 0.6931471805599453\n",
      "8000 0.6931471805599452\n",
      "8500 0.6931471805599453\n",
      "9000 0.6931471805599453\n",
      "9500 0.6931471805599453\n"
     ]
    }
   ],
   "source": [
    "cost1 = []\n",
    "epoch_ = []\n",
    "for epoch in range(10000):\n",
    "    cost = train(X,Y,model,0.1)\n",
    "    cost1.append(cost)\n",
    "    epoch_.append(epoch)\n",
    "    if (epoch % 500 == 0):\n",
    "        print(epoch, cost)"
   ]
  },
  {
   "cell_type": "code",
   "execution_count": 8,
   "id": "8cf14fc7",
   "metadata": {},
   "outputs": [
    {
     "data": {
      "text/plain": [
       "0.5"
      ]
     },
     "execution_count": 8,
     "metadata": {},
     "output_type": "execute_result"
    }
   ],
   "source": [
    "model.predict([0,0])"
   ]
  },
  {
   "cell_type": "code",
   "execution_count": 9,
   "id": "9de4a4f6",
   "metadata": {},
   "outputs": [
    {
     "data": {
      "text/plain": [
       "0.5"
      ]
     },
     "execution_count": 9,
     "metadata": {},
     "output_type": "execute_result"
    }
   ],
   "source": [
    "model.predict([0,1])"
   ]
  },
  {
   "cell_type": "code",
   "execution_count": 10,
   "id": "61753a7e",
   "metadata": {},
   "outputs": [
    {
     "data": {
      "text/plain": [
       "0.5"
      ]
     },
     "execution_count": 10,
     "metadata": {},
     "output_type": "execute_result"
    }
   ],
   "source": [
    "model.predict([1,0])"
   ]
  },
  {
   "cell_type": "code",
   "execution_count": 11,
   "id": "d33487b3",
   "metadata": {},
   "outputs": [
    {
     "data": {
      "text/plain": [
       "0.5"
      ]
     },
     "execution_count": 11,
     "metadata": {},
     "output_type": "execute_result"
    }
   ],
   "source": [
    "model.predict([1,1])"
   ]
  },
  {
   "cell_type": "code",
   "execution_count": 12,
   "id": "2b5df6d0",
   "metadata": {},
   "outputs": [
    {
     "data": {
      "text/plain": [
       "[0.6931471805599453,\n",
       " 0.6931471805599453,\n",
       " 0.6931471805599453,\n",
       " 0.6931471805599453]"
      ]
     },
     "execution_count": 12,
     "metadata": {},
     "output_type": "execute_result"
    }
   ],
   "source": [
    "loss1 = loss()\n",
    "loss1"
   ]
  },
  {
   "cell_type": "code",
   "execution_count": 13,
   "id": "c449c788",
   "metadata": {},
   "outputs": [],
   "source": [
    "model = logistic_regression_model()"
   ]
  },
  {
   "cell_type": "code",
   "execution_count": 14,
   "id": "6cb8f167",
   "metadata": {},
   "outputs": [
    {
     "name": "stdout",
     "output_type": "stream",
     "text": [
      "0 1.256800665121136\n",
      "500 0.7876407872610842\n",
      "1000 0.7471936803294663\n",
      "1500 0.7299581239343573\n",
      "2000 0.7182753767751208\n",
      "2500 0.7102334890694372\n",
      "3000 0.704731802939139\n",
      "3500 0.7009866786761441\n",
      "4000 0.6984459446969835\n",
      "4500 0.6967260948839498\n",
      "5000 0.6955635168678201\n",
      "5500 0.6947782836964951\n",
      "6000 0.6942481562104406\n",
      "6500 0.6938903328592128\n",
      "7000 0.6936488281302942\n",
      "7500 0.6934858283161128\n",
      "8000 0.6933758081442281\n",
      "8500 0.6933015421301943\n",
      "9000 0.6932514068885962\n",
      "9500 0.6932175590943082\n"
     ]
    }
   ],
   "source": [
    "cost2 = []\n",
    "for epoch in range(10000):\n",
    "    cost = train(X,Y,model,0.01)\n",
    "    cost2.append(cost)\n",
    "    if (epoch % 500 == 0):\n",
    "        print(epoch, cost)"
   ]
  },
  {
   "cell_type": "code",
   "execution_count": 15,
   "id": "7232a850",
   "metadata": {},
   "outputs": [
    {
     "data": {
      "text/plain": [
       "0.49209696453613583"
      ]
     },
     "execution_count": 15,
     "metadata": {},
     "output_type": "execute_result"
    }
   ],
   "source": [
    "model.predict([0,0])"
   ]
  },
  {
   "cell_type": "code",
   "execution_count": 16,
   "id": "d1adf89d",
   "metadata": {},
   "outputs": [
    {
     "data": {
      "text/plain": [
       "0.4989828673512676"
      ]
     },
     "execution_count": 16,
     "metadata": {},
     "output_type": "execute_result"
    }
   ],
   "source": [
    "model.predict([0,1])"
   ]
  },
  {
   "cell_type": "code",
   "execution_count": 17,
   "id": "68b9671b",
   "metadata": {},
   "outputs": [
    {
     "data": {
      "text/plain": [
       "0.49853641413267"
      ]
     },
     "execution_count": 17,
     "metadata": {},
     "output_type": "execute_result"
    }
   ],
   "source": [
    "model.predict([1,0])"
   ]
  },
  {
   "cell_type": "code",
   "execution_count": 18,
   "id": "2415a702",
   "metadata": {},
   "outputs": [
    {
     "data": {
      "text/plain": [
       "0.5054227569740561"
      ]
     },
     "execution_count": 18,
     "metadata": {},
     "output_type": "execute_result"
    }
   ],
   "source": [
    "model.predict([1,1])"
   ]
  },
  {
   "cell_type": "code",
   "execution_count": 19,
   "id": "8ad6553c",
   "metadata": {},
   "outputs": [
    {
     "data": {
      "text/plain": [
       "[0.6774647246937535, 0.6960786448405133, 0.695183517785438, 0.7040519358188128]"
      ]
     },
     "execution_count": 19,
     "metadata": {},
     "output_type": "execute_result"
    }
   ],
   "source": [
    "loss2 = loss()\n",
    "loss2"
   ]
  },
  {
   "cell_type": "code",
   "execution_count": 20,
   "id": "797c5e26",
   "metadata": {},
   "outputs": [],
   "source": [
    "model = logistic_regression_model()"
   ]
  },
  {
   "cell_type": "code",
   "execution_count": 21,
   "id": "d8112ecf",
   "metadata": {},
   "outputs": [
    {
     "name": "stdout",
     "output_type": "stream",
     "text": [
      "0 0.7457781596704791\n",
      "500 0.7409460302850436\n",
      "1000 0.7369462998264886\n",
      "1500 0.73356504536369\n",
      "2000 0.7306487910009642\n",
      "2500 0.728087631578041\n",
      "3000 0.7258028204546242\n",
      "3500 0.7237377668890167\n",
      "4000 0.7218515717341241\n",
      "4500 0.7201144201601429\n",
      "5000 0.7185043164035655\n",
      "5500 0.7170047797526311\n",
      "6000 0.7156032244279182\n",
      "6500 0.7142898235081794\n",
      "7000 0.7130567140169063\n",
      "7500 0.7118974416221971\n",
      "8000 0.7108065731214757\n",
      "8500 0.7097794261015131\n",
      "9000 0.7088118802331085\n",
      "9500 0.7079002453150633\n"
     ]
    }
   ],
   "source": [
    "cost3 = []\n",
    "for epoch in range(10000):\n",
    "    cost = train(X,Y,model,0.001)\n",
    "    cost3.append(cost)\n",
    "    if (epoch % 500 == 0):\n",
    "        print(epoch, cost)"
   ]
  },
  {
   "cell_type": "code",
   "execution_count": 22,
   "id": "a3e6bb8a",
   "metadata": {},
   "outputs": [
    {
     "data": {
      "text/plain": [
       "0.47080535979265425"
      ]
     },
     "execution_count": 22,
     "metadata": {},
     "output_type": "execute_result"
    }
   ],
   "source": [
    "model.predict([0,0])"
   ]
  },
  {
   "cell_type": "code",
   "execution_count": 23,
   "id": "5077f0d9",
   "metadata": {},
   "outputs": [
    {
     "data": {
      "text/plain": [
       "0.38055338760213336"
      ]
     },
     "execution_count": 23,
     "metadata": {},
     "output_type": "execute_result"
    }
   ],
   "source": [
    "model.predict([0,1])"
   ]
  },
  {
   "cell_type": "code",
   "execution_count": 24,
   "id": "6abede05",
   "metadata": {},
   "outputs": [
    {
     "data": {
      "text/plain": [
       "0.6080161798912098"
      ]
     },
     "execution_count": 24,
     "metadata": {},
     "output_type": "execute_result"
    }
   ],
   "source": [
    "model.predict([1,0])"
   ]
  },
  {
   "cell_type": "code",
   "execution_count": 25,
   "id": "80cd623e",
   "metadata": {},
   "outputs": [
    {
     "data": {
      "text/plain": [
       "0.5171663582628597"
      ]
     },
     "execution_count": 25,
     "metadata": {},
     "output_type": "execute_result"
    }
   ],
   "source": [
    "model.predict([1,1])"
   ]
  },
  {
   "cell_type": "code",
   "execution_count": 26,
   "id": "790b4674",
   "metadata": {
    "scrolled": true
   },
   "outputs": [
    {
     "data": {
      "text/plain": [
       "[0.636398974896659, 0.49755378570688, 0.96612880245017, 0.7280831117034406]"
      ]
     },
     "execution_count": 26,
     "metadata": {},
     "output_type": "execute_result"
    }
   ],
   "source": [
    "loss3 = loss()\n",
    "loss3"
   ]
  },
  {
   "cell_type": "code",
   "execution_count": 27,
   "id": "0ae2bcd0",
   "metadata": {},
   "outputs": [
    {
     "data": {
      "image/png": "[encoded data removed]",
      "text/plain": [
       "<Figure size 432x288 with 1 Axes>"
      ]
     },
     "metadata": {
      "needs_background": "light"
     },
     "output_type": "display_data"
    }
   ],
   "source": [
    "plt.plot(epoch_,cost1)\n",
    "plt.plot(epoch_,cost2)\n",
    "plt.plot(epoch_,cost3)\n",
    "plt.xlabel(\"epoch\")\n",
    "plt.ylabel(\"cost\")\n",
    "plt.show()"
   ]
  },
  {
   "cell_type": "code",
   "execution_count": 28,
   "id": "d5441273",
   "metadata": {
    "scrolled": false
   },
   "outputs": [
    {
     "data": {
      "image/png": "[encoded data removed]",
      "text/plain": [
       "<Figure size 432x288 with 1 Axes>"
      ]
     },
     "metadata": {
      "needs_background": "light"
     },
     "output_type": "display_data"
    }
   ],
   "source": [
    "test = [\"(0,0)\",\"(0,1)\",\"(1,0)\",\"(1,1)\"]\n",
    "plt.plot(test,loss1,'o')\n",
    "plt.plot(test,loss2,'o')\n",
    "plt.plot(test,loss3,'o')\n",
    "plt.xlabel(\"value\")\n",
    "plt.ylabel(\"loss\")\n",
    "plt.show()"
   ]
  }
 ],
 "metadata": {
  "kernelspec": {
   "display_name": "Python 3 (ipykernel)",
   "language": "python",
   "name": "python3"
  },
  "language_info": {
   "codemirror_mode": {
    "name": "ipython",
    "version": 3
   },
   "file_extension": ".py",
   "mimetype": "text/x-python",
   "name": "python",
   "nbconvert_exporter": "python",
   "pygments_lexer": "ipython3",
   "version": "3.9.6"
  }
 },
 "nbformat": 4,
 "nbformat_minor": 5
}
