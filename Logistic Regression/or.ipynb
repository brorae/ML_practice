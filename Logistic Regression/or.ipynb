{
 "cells": [
  {
   "cell_type": "code",
   "execution_count": 1,
   "id": "5360a781",
   "metadata": {},
   "outputs": [],
   "source": [
    "import random\n",
    "from math import exp,log\n",
    "import numpy as np\n",
    "import matplotlib.pyplot as plt"
   ]
  },
  {
   "cell_type": "code",
   "execution_count": 2,
   "id": "4a20e514",
   "metadata": {},
   "outputs": [],
   "source": [
    "X = np.array([[0,0],[1,0],[0,1],[1,1]])\n",
    "Y = np.array([0,1,1,1])"
   ]
  },
  {
   "cell_type": "code",
   "execution_count": 3,
   "id": "0242f733",
   "metadata": {},
   "outputs": [],
   "source": [
    "class logistic_regression_model():\n",
    "    def __init__(self):\n",
    "        self.w = np.random.normal(size=2)\n",
    "        self.b = np.random.normal(size=1)\n",
    "    \n",
    "    def sigmoid(self,z):\n",
    "        return 1/(1+exp(-z))\n",
    "\n",
    "    def predict(self,x):\n",
    "        z = np.inner(self.w,x) + self.b[0]\n",
    "        a = self.sigmoid(z)\n",
    "        return a"
   ]
  },
  {
   "cell_type": "code",
   "execution_count": 4,
   "id": "06544660",
   "metadata": {},
   "outputs": [],
   "source": [
    "model = logistic_regression_model()"
   ]
  },
  {
   "cell_type": "code",
   "execution_count": 5,
   "id": "a445e946",
   "metadata": {},
   "outputs": [],
   "source": [
    "def train(X,Y,model,lr):\n",
    "    dw0 = 0.0\n",
    "    dw1 = 0.0\n",
    "    db = 0.0\n",
    "    m = len(X)\n",
    "    cost = 0.0\n",
    "    for x,y in zip(X,Y):\n",
    "        a = model.predict(x)\n",
    "        if y == 1:\n",
    "            cost -= log(a)\n",
    "        else:\n",
    "            cost -= log(1-a)\n",
    "            \n",
    "        x = np.append(x,1)\n",
    "        [dw0,dw1,db] = [dw0,dw1,db] + ((a-y)*x)\n",
    "        \n",
    "    cost /= m\n",
    "    model.w[0] -= lr * dw0/m\n",
    "    model.w[1] -= lr * dw1/m\n",
    "    model.b[0] -= lr * db/m\n",
    "    \n",
    "    return cost"
   ]
  },
  {
   "cell_type": "code",
   "execution_count": 6,
   "id": "ce1a93a5",
   "metadata": {},
   "outputs": [],
   "source": [
    "def loss():\n",
    "    loss_ = []\n",
    "    for i in range(4):\n",
    "        loss = -Y[i]*log(model.predict(X[i]))-(1-Y[i])*log(1-model.predict(X[i]))\n",
    "        loss_.append(loss)\n",
    "    return loss_"
   ]
  },
  {
   "cell_type": "code",
   "execution_count": 7,
   "id": "99a7b4e9",
   "metadata": {
    "scrolled": false
   },
   "outputs": [
    {
     "name": "stdout",
     "output_type": "stream",
     "text": [
      "0 0.39110232438581405\n",
      "500 0.13313322470546998\n",
      "1000 0.08118507700322522\n",
      "1500 0.05768187600357369\n",
      "2000 0.0444863196349876\n",
      "2500 0.036101023162606466\n",
      "3000 0.030325502168907364\n",
      "3500 0.026116137033267973\n",
      "4000 0.022917195193707877\n",
      "4500 0.020406658056359068\n",
      "5000 0.018385507741409304\n",
      "5500 0.01672432937619563\n",
      "6000 0.015335434209879316\n",
      "6500 0.014157352548200646\n",
      "7000 0.013145746670137742\n",
      "7500 0.012267849036804038\n",
      "8000 0.011498930138148762\n",
      "8500 0.010819982981106447\n",
      "9000 0.010216162707333065\n",
      "9500 0.00967570933375489\n"
     ]
    }
   ],
   "source": [
    "for epoch in range(10000):\n",
    "    cost = train(X,Y,model,0.1)\n",
    "    if (epoch % 500 == 0):\n",
    "        print(epoch, cost)"
   ]
  },
  {
   "cell_type": "code",
   "execution_count": 8,
   "id": "8cf14fc7",
   "metadata": {},
   "outputs": [
    {
     "data": {
      "text/plain": [
       "0.02028071838868847"
      ]
     },
     "execution_count": 8,
     "metadata": {},
     "output_type": "execute_result"
    }
   ],
   "source": [
    "model.predict([0,0])"
   ]
  },
  {
   "cell_type": "code",
   "execution_count": 9,
   "id": "9097070e",
   "metadata": {},
   "outputs": [
    {
     "data": {
      "text/plain": [
       "0.9918990960081574"
      ]
     },
     "execution_count": 9,
     "metadata": {},
     "output_type": "execute_result"
    }
   ],
   "source": [
    "model.predict([0,1])"
   ]
  },
  {
   "cell_type": "code",
   "execution_count": 10,
   "id": "8478fe33",
   "metadata": {},
   "outputs": [
    {
     "data": {
      "text/plain": [
       "0.9919006964995172"
      ]
     },
     "execution_count": 10,
     "metadata": {},
     "output_type": "execute_result"
    }
   ],
   "source": [
    "model.predict([1,0])"
   ]
  },
  {
   "cell_type": "code",
   "execution_count": 11,
   "id": "6f742656",
   "metadata": {},
   "outputs": [
    {
     "data": {
      "text/plain": [
       "0.9999986195313496"
      ]
     },
     "execution_count": 11,
     "metadata": {},
     "output_type": "execute_result"
    }
   ],
   "source": [
    "model.predict([1,1])"
   ]
  },
  {
   "cell_type": "code",
   "execution_count": 12,
   "id": "5a547889",
   "metadata": {},
   "outputs": [
    {
     "data": {
      "text/plain": [
       "[0.02048919568679007,\n",
       " 0.008132281043201758,\n",
       " 0.008133894604576069,\n",
       " 1.3804696032392662e-06]"
      ]
     },
     "execution_count": 12,
     "metadata": {},
     "output_type": "execute_result"
    }
   ],
   "source": [
    "loss1 = loss()\n",
    "loss1"
   ]
  },
  {
   "cell_type": "code",
   "execution_count": 13,
   "id": "b861b632",
   "metadata": {},
   "outputs": [
    {
     "name": "stdout",
     "output_type": "stream",
     "text": [
      "0 0.009189187951042784\n",
      "500 0.009143196301670493\n",
      "1000 0.00909765942032791\n",
      "1500 0.009052570627198003\n",
      "2000 0.009007923372182324\n",
      "2500 0.008963711231775744\n",
      "3000 0.008919927906031936\n",
      "3500 0.008876567215615375\n",
      "4000 0.008833623098935567\n",
      "4500 0.008791089609365439\n",
      "5000 0.008748960912534366\n",
      "5500 0.008707231283700555\n",
      "6000 0.008665895105194346\n",
      "6500 0.008624946863933945\n",
      "7000 0.00858438114900888\n",
      "7500 0.00854419264933064\n",
      "8000 0.008504376151347902\n",
      "8500 0.008464926536822957\n",
      "9000 0.008425838780669685\n",
      "9500 0.008387107948849616\n"
     ]
    }
   ],
   "source": [
    "for epoch in range(10000):\n",
    "    cost = train(X,Y,model,0.01)\n",
    "    if (epoch % 500 == 0):\n",
    "        print(epoch, cost)"
   ]
  },
  {
   "cell_type": "code",
   "execution_count": 14,
   "id": "0f7e3aec",
   "metadata": {},
   "outputs": [
    {
     "data": {
      "text/plain": [
       "0.01843735352427499"
      ]
     },
     "execution_count": 14,
     "metadata": {},
     "output_type": "execute_result"
    }
   ],
   "source": [
    "model.predict([0,0])"
   ]
  },
  {
   "cell_type": "code",
   "execution_count": 15,
   "id": "0ad366cd",
   "metadata": {},
   "outputs": [
    {
     "data": {
      "text/plain": [
       "0.992634432680267"
      ]
     },
     "execution_count": 15,
     "metadata": {},
     "output_type": "execute_result"
    }
   ],
   "source": [
    "model.predict([0,1])"
   ]
  },
  {
   "cell_type": "code",
   "execution_count": 16,
   "id": "ea22344f",
   "metadata": {},
   "outputs": [
    {
     "data": {
      "text/plain": [
       "0.9926356351453778"
      ]
     },
     "execution_count": 16,
     "metadata": {},
     "output_type": "execute_result"
    }
   ],
   "source": [
    "model.predict([1,0])"
   ]
  },
  {
   "cell_type": "code",
   "execution_count": 17,
   "id": "44afc26a",
   "metadata": {},
   "outputs": [
    {
     "data": {
      "text/plain": [
       "0.999998965947919"
      ]
     },
     "execution_count": 17,
     "metadata": {},
     "output_type": "execute_result"
    }
   ],
   "source": [
    "model.predict([1,1])"
   ]
  },
  {
   "cell_type": "code",
   "execution_count": 18,
   "id": "d63dba05",
   "metadata": {},
   "outputs": [
    {
     "data": {
      "text/plain": [
       "[0.018609440022082854,\n",
       " 0.00739161566183332,\n",
       " 0.007392827048767828,\n",
       " 1.0340526155937444e-06]"
      ]
     },
     "execution_count": 18,
     "metadata": {},
     "output_type": "execute_result"
    }
   ],
   "source": [
    "loss2 = loss()\n",
    "loss2"
   ]
  },
  {
   "cell_type": "code",
   "execution_count": 19,
   "id": "54b9f7ba",
   "metadata": {},
   "outputs": [
    {
     "name": "stdout",
     "output_type": "stream",
     "text": [
      "0 0.0083487291963249\n",
      "500 0.0057227673298041876\n",
      "1000 0.00435037932852004\n",
      "1500 0.0035077633667670314\n",
      "2000 0.0029380767752784976\n",
      "2500 0.002527311883907894\n",
      "3000 0.0022171627715201524\n",
      "3500 0.0019747226702422314\n",
      "4000 0.0017800168450757662\n",
      "4500 0.0016202204067650428\n",
      "5000 0.0014867230718874772\n",
      "5500 0.0013735298571965842\n",
      "6000 0.0012763384901148611\n",
      "6500 0.001191981541327709\n",
      "7000 0.0011180754936525328\n",
      "7500 0.0010527924220950946\n",
      "8000 0.000994707064908717\n",
      "8500 0.0009426917622612921\n",
      "9000 0.000895842651941952\n",
      "9500 0.000853426787041881\n"
     ]
    }
   ],
   "source": [
    "for epoch in range(10000):\n",
    "    cost = train(X,Y,model,1)\n",
    "    if (epoch % 500 == 0):\n",
    "        print(epoch, cost)"
   ]
  },
  {
   "cell_type": "code",
   "execution_count": 20,
   "id": "93fa7d2c",
   "metadata": {},
   "outputs": [
    {
     "data": {
      "text/plain": [
       "0.0018096589618831142"
      ]
     },
     "execution_count": 20,
     "metadata": {},
     "output_type": "execute_result"
    }
   ],
   "source": [
    "model.predict([0,0])"
   ]
  },
  {
   "cell_type": "code",
   "execution_count": 21,
   "id": "002e481c",
   "metadata": {},
   "outputs": [
    {
     "data": {
      "text/plain": [
       "0.9992762240080232"
      ]
     },
     "execution_count": 21,
     "metadata": {},
     "output_type": "execute_result"
    }
   ],
   "source": [
    "model.predict([0,1])"
   ]
  },
  {
   "cell_type": "code",
   "execution_count": 22,
   "id": "2674b2cb",
   "metadata": {},
   "outputs": [
    {
     "data": {
      "text/plain": [
       "0.9992762251422337"
      ]
     },
     "execution_count": 22,
     "metadata": {},
     "output_type": "execute_result"
    }
   ],
   "source": [
    "model.predict([1,0])"
   ]
  },
  {
   "cell_type": "code",
   "execution_count": 23,
   "id": "5ed610e1",
   "metadata": {},
   "outputs": [
    {
     "data": {
      "text/plain": [
       "0.9999999990489137"
      ]
     },
     "execution_count": 23,
     "metadata": {},
     "output_type": "execute_result"
    }
   ],
   "source": [
    "model.predict([1,1])"
   ]
  },
  {
   "cell_type": "code",
   "execution_count": 24,
   "id": "b238b372",
   "metadata": {},
   "outputs": [
    {
     "data": {
      "text/plain": [
       "[0.0018112983728106249,\n",
       " 0.0007240369092404884,\n",
       " 0.0007240380442725,\n",
       " 9.510863212629282e-10]"
      ]
     },
     "execution_count": 24,
     "metadata": {},
     "output_type": "execute_result"
    }
   ],
   "source": [
    "loss3 = loss()\n",
    "loss3"
   ]
  },
  {
   "cell_type": "code",
   "execution_count": 26,
   "id": "ab1c80c1",
   "metadata": {},
   "outputs": [
    {
     "data": {
      "image/png": "[encoded data removed]",
      "text/plain": [
       "<Figure size 432x288 with 1 Axes>"
      ]
     },
     "metadata": {
      "needs_background": "light"
     },
     "output_type": "display_data"
    }
   ],
   "source": [
    "test = [\"(0,0)\",\"(0,1)\",\"(1,0)\",\"(1,1)\"]\n",
    "plt.plot(test,loss1,'r')\n",
    "plt.plot(test,loss2,'g')\n",
    "plt.plot(test,loss3,'b')\n",
    "plt.xlabel(\"value\")\n",
    "plt.ylabel(\"loss\")\n",
    "plt.show()"
   ]
  },
  {
   "cell_type": "code",
   "execution_count": null,
   "id": "f9de81a7",
   "metadata": {},
   "outputs": [],
   "source": []
  }
 ],
 "metadata": {
  "kernelspec": {
   "display_name": "Python 3 (ipykernel)",
   "language": "python",
   "name": "python3"
  },
  "language_info": {
   "codemirror_mode": {
    "name": "ipython",
    "version": 3
   },
   "file_extension": ".py",
   "mimetype": "text/x-python",
   "name": "python",
   "nbconvert_exporter": "python",
   "pygments_lexer": "ipython3",
   "version": "3.9.6"
  }
 },
 "nbformat": 4,
 "nbformat_minor": 5
}
