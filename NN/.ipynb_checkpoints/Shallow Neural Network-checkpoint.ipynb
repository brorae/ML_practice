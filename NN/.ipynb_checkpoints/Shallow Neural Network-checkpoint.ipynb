{
 "cells": [
  {
   "cell_type": "code",
   "execution_count": 1,
   "id": "c5935458",
   "metadata": {},
   "outputs": [],
   "source": [
    "import numpy as np\n",
    "from matplotlib import pyplot as plt"
   ]
  },
  {
   "cell_type": "markdown",
   "id": "b7b6a543",
   "metadata": {},
   "source": [
    "# Data preparation"
   ]
  },
  {
   "cell_type": "code",
   "execution_count": 2,
   "id": "0fb1d4e4",
   "metadata": {},
   "outputs": [],
   "source": [
    "x_seeds = np.array([(0,0),(1,0),(0,1),(1,1)], dtype = float)\n",
    "y_seeds = np.array([0,1,1,0])"
   ]
  },
  {
   "cell_type": "code",
   "execution_count": 3,
   "id": "5c0cae4c",
   "metadata": {},
   "outputs": [],
   "source": [
    "N = 1000\n",
    "idxs = np.random.randint(0,4,N)"
   ]
  },
  {
   "cell_type": "code",
   "execution_count": 4,
   "id": "53de7dae",
   "metadata": {},
   "outputs": [],
   "source": [
    "X = x_seeds[idxs]\n",
    "Y = y_seeds[idxs]"
   ]
  },
  {
   "cell_type": "code",
   "execution_count": 5,
   "id": "003b7a5f",
   "metadata": {},
   "outputs": [],
   "source": [
    "X += np.random.normal(scale=0.25, size=X.shape)"
   ]
  },
  {
   "cell_type": "markdown",
   "id": "7025bf52",
   "metadata": {},
   "source": [
    "# Data plotting"
   ]
  },
  {
   "cell_type": "code",
   "execution_count": 6,
   "id": "0d9c1948",
   "metadata": {},
   "outputs": [],
   "source": [
    "idx_1 = np.where(Y==1)\n",
    "idx_0 = np.where(Y==0)"
   ]
  },
  {
   "cell_type": "code",
   "execution_count": 7,
   "id": "7a1e4733",
   "metadata": {},
   "outputs": [],
   "source": [
    "X_0 = X[idx_0]\n",
    "Y_0 = Y[idx_0]"
   ]
  },
  {
   "cell_type": "code",
   "execution_count": 8,
   "id": "6bd0ee05",
   "metadata": {},
   "outputs": [],
   "source": [
    "X_1 = X[idx_1]\n",
    "Y_1 = Y[idx_1]"
   ]
  },
  {
   "cell_type": "code",
   "execution_count": 9,
   "id": "ad557f24",
   "metadata": {},
   "outputs": [
    {
     "data": {
      "image/png": "[encoded data removed]",
      "text/plain": [
       "<Figure size 432x288 with 1 Axes>"
      ]
     },
     "metadata": {
      "needs_background": "light"
     },
     "output_type": "display_data"
    }
   ],
   "source": [
    "plt.plot(X_0[:,0],X_0[:,1],\"r^\")\n",
    "plt.plot(X_1[:,0],X_1[:,1],\"bx\")\n",
    "plt.show()"
   ]
  },
  {
   "cell_type": "markdown",
   "id": "7bac9c8e",
   "metadata": {},
   "source": [
    "# Model"
   ]
  },
  {
   "cell_type": "code",
   "execution_count": 10,
   "id": "88b55cbe",
   "metadata": {},
   "outputs": [],
   "source": [
    "class shallow_neural_network():\n",
    "    def __init__(self, num_input_features, num_hiddens):\n",
    "        self.num_input_features = num_input_features\n",
    "        self.num_hiddens = num_hiddens\n",
    "        \n",
    "        self.W1 = np.random.normal(size = (num_hiddens, num_input_features)) #(3,2)\n",
    "        self.b1 = np.random.normal(size = num_hiddens) #(3,)\n",
    "        self.W2 = np.random.normal(size = num_hiddens) #(3,)\n",
    "        self.b2 = np.random.normal(size = 1) #(1,)\n",
    "        \n",
    "    def sigmoid(self,z):\n",
    "        return 1/(1 + np.exp(-z))\n",
    "    \n",
    "    def predict(self,x):\n",
    "        z1 = np.matmul(self.W1,x) + self.b1 #(3,)\n",
    "        a1 = np.tanh(z1) #(3,)\n",
    "        z2 = np.matmul(self.W2,a1) + self.b2 #(1,)\n",
    "        a2 = self.sigmoid(z2) #(1,)\n",
    "        return a2, (z1,a1,z2,a2)\n",
    "        "
   ]
  },
  {
   "cell_type": "code",
   "execution_count": 11,
   "id": "68906616",
   "metadata": {
    "scrolled": true
   },
   "outputs": [
    {
     "name": "stdout",
     "output_type": "stream",
     "text": [
      "[[ 1.44784604 -0.39523592]\n",
      " [-0.42749172  0.25628582]\n",
      " [ 0.32096951 -0.2669966 ]]\n",
      "[-0.66600384  0.58399019  1.80234355]\n"
     ]
    }
   ],
   "source": [
    "model = shallow_neural_network(2,3)\n",
    "print(model.W1)\n",
    "print(model.W2)"
   ]
  },
  {
   "cell_type": "markdown",
   "id": "40a8ff00",
   "metadata": {},
   "source": [
    "# Train"
   ]
  },
  {
   "cell_type": "code",
   "execution_count": 12,
   "id": "380fe864",
   "metadata": {},
   "outputs": [],
   "source": [
    "def train(X, Y, model, lr = 0.1):\n",
    "    dW1 = np.zeros_like(model.W1)\n",
    "    db1 = np.zeros_like(model.b1)\n",
    "    dW2 = np.zeros_like(model.W2)\n",
    "    db2 = np.zeros_like(model.b2)\n",
    "    m = len(X)\n",
    "    cost = 0.0\n",
    "    for x,y in zip(X,Y):\n",
    "        a2, (z1,a1,z2,_) = model.predict(x)\n",
    "        if y == 1:\n",
    "            cost -= np.log(a2)\n",
    "        else:\n",
    "            cost -= np.log(1-a2)\n",
    "            \n",
    "        diff = a2-y\n",
    "        \n",
    "        db2 += diff\n",
    "        \n",
    "#         for i in range(model.num_hiddens):\n",
    "#             dW2[i] += a1[i]*diff\n",
    "        dW2 += a1*diff\n",
    "            \n",
    "#         for i in range(model.num_hiddens):\n",
    "#             db1[i] += (1-a1[i]**2)*model.W2[i]*diff\n",
    "        db1 += (1-a1**2)*model.W2*diff\n",
    "            \n",
    "#         for i in range(model.num_hiddens):\n",
    "#             for j in range(model.num_input_features):\n",
    "#                 dW1[i,j]  += x[j]*(1-a1[i]**2)*model.W2[i]*diff    \n",
    "                \n",
    "                \n",
    "        x = x.reshape(1,2)\n",
    "        tmp = (1-a1**2)*model.W2*diff\n",
    "        tmp = tmp.reshape(3,1)\n",
    "        dW1 += tmp * x\n",
    "       \n",
    "                \n",
    "    cost /= m\n",
    "    model.W1 -= lr * dW1/m\n",
    "    model.b1 -= lr * db1/m\n",
    "    model.W2 -= lr * dW2/m\n",
    "    model.b2 -= lr * db2/m\n",
    "    \n",
    "    return cost"
   ]
  },
  {
   "cell_type": "code",
   "execution_count": 13,
   "id": "05e2ce65",
   "metadata": {},
   "outputs": [
    {
     "name": "stdout",
     "output_type": "stream",
     "text": [
      "0 [0.82806311]\n",
      "10 [0.68593387]\n",
      "20 [0.67645764]\n",
      "30 [0.65754989]\n",
      "40 [0.6201661]\n",
      "50 [0.56941999]\n",
      "60 [0.53254203]\n",
      "70 [0.5102654]\n",
      "80 [0.49545518]\n",
      "90 [0.48476459]\n",
      "100 [0.47671572]\n",
      "110 [0.47046944]\n",
      "120 [0.46549958]\n",
      "130 [0.4614612]\n",
      "140 [0.45812058]\n",
      "150 [0.45531463]\n",
      "160 [0.45292656]\n",
      "170 [0.45087078]\n",
      "180 [0.44908327]\n",
      "190 [0.44751524]\n"
     ]
    }
   ],
   "source": [
    "for epoch in range(200):\n",
    "    cost = train(X,Y,model,1.0)\n",
    "    if epoch % 10 == 0:\n",
    "        print(epoch,cost)"
   ]
  },
  {
   "cell_type": "markdown",
   "id": "f441729f",
   "metadata": {},
   "source": [
    "# Test"
   ]
  },
  {
   "cell_type": "code",
   "execution_count": 14,
   "id": "750aff16",
   "metadata": {},
   "outputs": [
    {
     "name": "stdout",
     "output_type": "stream",
     "text": [
      "0.5112294305230414\n",
      "0.49645829703533\n",
      "0.9817228611725061\n",
      "0.02229733772851181\n"
     ]
    }
   ],
   "source": [
    "print(model.predict((1,1))[0].item())\n",
    "print(model.predict((1,0))[0].item())\n",
    "print(model.predict((0,1))[0].item())\n",
    "print(model.predict((0,0))[0].item())"
   ]
  }
 ],
 "metadata": {
  "kernelspec": {
   "display_name": "Python 3",
   "language": "python",
   "name": "python3"
  },
  "language_info": {
   "codemirror_mode": {
    "name": "ipython",
    "version": 3
   },
   "file_extension": ".py",
   "mimetype": "text/x-python",
   "name": "python",
   "nbconvert_exporter": "python",
   "pygments_lexer": "ipython3",
   "version": "3.8.8"
  }
 },
 "nbformat": 4,
 "nbformat_minor": 5
}
